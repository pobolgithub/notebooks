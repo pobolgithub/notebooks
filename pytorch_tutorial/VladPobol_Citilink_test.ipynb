{
 "cells": [
  {
   "cell_type": "code",
   "execution_count": 1,
   "id": "eaafbecb-8dc1-4ceb-b7fb-4547327cb83e",
   "metadata": {},
   "outputs": [],
   "source": [
    "import pandas as pd\n",
    "import numpy as np\n",
    "import matplotlib.pyplot as plt\n",
    "import seaborn as sns\n",
    "from lightgbm import LGBMClassifier\n",
    "from sklearn.linear_model import LogisticRegression\n",
    "from sklearn.ensemble import RandomForestClassifier\n",
    "from sklearn.model_selection import RandomizedSearchCV, train_test_split\n",
    "from sklearn.metrics import precision_score, f1_score, roc_auc_score\n",
    "from sklearn.preprocessing import MinMaxScaler\n",
    "\n",
    "import warnings\n",
    "warnings.simplefilter('ignore')\n",
    "\n",
    "%matplotlib inline"
   ]
  },
  {
   "cell_type": "code",
   "execution_count": 2,
   "id": "3da57a2c-db94-408a-961c-2cf7130afc39",
   "metadata": {},
   "outputs": [],
   "source": [
    "log_df = pd.read_csv('../../datasets/citilink_task/log.csv',sep='\\t')\n",
    "named_df = pd.read_csv('../../datasets/citilink_task/named.csv',sep='\\t')\n",
    "type_contract_df = pd.read_csv('../../datasets/citilink_task/type_contract.csv',sep=';')\n",
    "train_df = pd.read_csv('../../datasets/citilink_task/train.csv',sep=';')\n",
    "test_df = pd.read_csv('../../datasets/citilink_task/test.csv',sep=';')"
   ]
  },
  {
   "cell_type": "markdown",
   "id": "16f77709-1a58-46de-b5ed-8668f8268e99",
   "metadata": {},
   "source": [
    "## Действия клиентов"
   ]
  },
  {
   "cell_type": "code",
   "execution_count": 3,
   "id": "bef9d3f9-76ff-4fb5-a5b5-6f0a45626e19",
   "metadata": {},
   "outputs": [
    {
     "data": {
      "text/html": [
       "<div>\n",
       "<style scoped>\n",
       "    .dataframe tbody tr th:only-of-type {\n",
       "        vertical-align: middle;\n",
       "    }\n",
       "\n",
       "    .dataframe tbody tr th {\n",
       "        vertical-align: top;\n",
       "    }\n",
       "\n",
       "    .dataframe thead th {\n",
       "        text-align: right;\n",
       "    }\n",
       "</style>\n",
       "<table border=\"1\" class=\"dataframe\">\n",
       "  <thead>\n",
       "    <tr style=\"text-align: right;\">\n",
       "      <th></th>\n",
       "      <th>contract_id</th>\n",
       "      <th>event_date</th>\n",
       "      <th>event_type</th>\n",
       "    </tr>\n",
       "  </thead>\n",
       "  <tbody>\n",
       "    <tr>\n",
       "      <th>0</th>\n",
       "      <td>36294</td>\n",
       "      <td>2021-03-28 16:24:30</td>\n",
       "      <td>Добавление в Обращались с номеров</td>\n",
       "    </tr>\n",
       "    <tr>\n",
       "      <th>1</th>\n",
       "      <td>36294</td>\n",
       "      <td>2021-03-28 16:27:41</td>\n",
       "      <td>Обращение в службу заботы о клиентах</td>\n",
       "    </tr>\n",
       "    <tr>\n",
       "      <th>2</th>\n",
       "      <td>36294</td>\n",
       "      <td>2021-03-28 16:29:56</td>\n",
       "      <td>Выключение IPTV-пакета</td>\n",
       "    </tr>\n",
       "    <tr>\n",
       "      <th>3</th>\n",
       "      <td>36294</td>\n",
       "      <td>2021-03-28 16:29:56</td>\n",
       "      <td>Включение IPTV-пакета</td>\n",
       "    </tr>\n",
       "    <tr>\n",
       "      <th>4</th>\n",
       "      <td>36294</td>\n",
       "      <td>2021-03-28 16:31:17</td>\n",
       "      <td>Включение услуги \"Ограничение функций ТВ\"</td>\n",
       "    </tr>\n",
       "  </tbody>\n",
       "</table>\n",
       "</div>"
      ],
      "text/plain": [
       "   contract_id           event_date                                 event_type\n",
       "0        36294  2021-03-28 16:24:30          Добавление в Обращались с номеров\n",
       "1        36294  2021-03-28 16:27:41       Обращение в службу заботы о клиентах\n",
       "2        36294  2021-03-28 16:29:56                     Выключение IPTV-пакета\n",
       "3        36294  2021-03-28 16:29:56                      Включение IPTV-пакета\n",
       "4        36294  2021-03-28 16:31:17  Включение услуги \"Ограничение функций ТВ\""
      ]
     },
     "execution_count": 3,
     "metadata": {},
     "output_type": "execute_result"
    }
   ],
   "source": [
    "log_df.head()"
   ]
  },
  {
   "cell_type": "code",
   "execution_count": 4,
   "id": "42a03c3d-ad59-4f1f-b98a-f590eba231d3",
   "metadata": {},
   "outputs": [
    {
     "data": {
      "text/plain": [
       "113"
      ]
     },
     "execution_count": 4,
     "metadata": {},
     "output_type": "execute_result"
    }
   ],
   "source": [
    "len(log_df['event_type'].unique())"
   ]
  },
  {
   "cell_type": "code",
   "execution_count": 5,
   "id": "ec0651c7-3455-499f-850d-4788e268ce02",
   "metadata": {},
   "outputs": [
    {
     "data": {
      "text/plain": [
       "(26431, 3)"
      ]
     },
     "execution_count": 5,
     "metadata": {},
     "output_type": "execute_result"
    }
   ],
   "source": [
    "log_df.shape"
   ]
  },
  {
   "cell_type": "markdown",
   "id": "05d62c15-bcff-40c2-9833-e1272a8da8fe",
   "metadata": {},
   "source": [
    "## Обращения клиентов к доменам конкурентов"
   ]
  },
  {
   "cell_type": "code",
   "execution_count": 6,
   "id": "b36a26f4-890e-4aa6-b52a-13c8608fe0d4",
   "metadata": {},
   "outputs": [
    {
     "data": {
      "text/html": [
       "<div>\n",
       "<style scoped>\n",
       "    .dataframe tbody tr th:only-of-type {\n",
       "        vertical-align: middle;\n",
       "    }\n",
       "\n",
       "    .dataframe tbody tr th {\n",
       "        vertical-align: top;\n",
       "    }\n",
       "\n",
       "    .dataframe thead th {\n",
       "        text-align: right;\n",
       "    }\n",
       "</style>\n",
       "<table border=\"1\" class=\"dataframe\">\n",
       "  <thead>\n",
       "    <tr style=\"text-align: right;\">\n",
       "      <th></th>\n",
       "      <th>date</th>\n",
       "      <th>url</th>\n",
       "      <th>contract_id</th>\n",
       "    </tr>\n",
       "  </thead>\n",
       "  <tbody>\n",
       "    <tr>\n",
       "      <th>0</th>\n",
       "      <td>17-Apr-2021</td>\n",
       "      <td>webmail.sampo.ru</td>\n",
       "      <td>101397</td>\n",
       "    </tr>\n",
       "    <tr>\n",
       "      <th>1</th>\n",
       "      <td>17-Apr-2021</td>\n",
       "      <td>webmail.sampo.ru</td>\n",
       "      <td>179624</td>\n",
       "    </tr>\n",
       "    <tr>\n",
       "      <th>2</th>\n",
       "      <td>17-Apr-2021</td>\n",
       "      <td>tvip-provision.sampo.ru</td>\n",
       "      <td>190335</td>\n",
       "    </tr>\n",
       "    <tr>\n",
       "      <th>3</th>\n",
       "      <td>17-Apr-2021</td>\n",
       "      <td>tvip-provision.sampo.ru</td>\n",
       "      <td>61670</td>\n",
       "    </tr>\n",
       "    <tr>\n",
       "      <th>4</th>\n",
       "      <td>17-Apr-2021</td>\n",
       "      <td>tvip-provision.sampo.ru</td>\n",
       "      <td>39370</td>\n",
       "    </tr>\n",
       "  </tbody>\n",
       "</table>\n",
       "</div>"
      ],
      "text/plain": [
       "          date                      url  contract_id\n",
       "0  17-Apr-2021         webmail.sampo.ru       101397\n",
       "1  17-Apr-2021         webmail.sampo.ru       179624\n",
       "2  17-Apr-2021  tvip-provision.sampo.ru       190335\n",
       "3  17-Apr-2021  tvip-provision.sampo.ru        61670\n",
       "4  17-Apr-2021  tvip-provision.sampo.ru        39370"
      ]
     },
     "execution_count": 6,
     "metadata": {},
     "output_type": "execute_result"
    }
   ],
   "source": [
    "named_df.head()"
   ]
  },
  {
   "cell_type": "code",
   "execution_count": 7,
   "id": "154ca204-275b-4a5e-846c-8a07c0202020",
   "metadata": {},
   "outputs": [
    {
     "data": {
      "text/plain": [
       "(10646537, 3)"
      ]
     },
     "execution_count": 7,
     "metadata": {},
     "output_type": "execute_result"
    }
   ],
   "source": [
    "named_df.shape"
   ]
  },
  {
   "cell_type": "code",
   "execution_count": 8,
   "id": "1906eab0-89d6-455c-b09b-8c2412ebf824",
   "metadata": {},
   "outputs": [
    {
     "data": {
      "text/plain": [
       "6583"
      ]
     },
     "execution_count": 8,
     "metadata": {},
     "output_type": "execute_result"
    }
   ],
   "source": [
    "\n",
    "len(named_df['url'].unique())"
   ]
  },
  {
   "cell_type": "markdown",
   "id": "3198a518-cfea-4c74-8045-4687aa13d071",
   "metadata": {},
   "source": [
    "## Тип списания у клиентов"
   ]
  },
  {
   "cell_type": "code",
   "execution_count": 9,
   "id": "75669570-67ec-477f-9e06-a857415a0a04",
   "metadata": {},
   "outputs": [
    {
     "data": {
      "text/html": [
       "<div>\n",
       "<style scoped>\n",
       "    .dataframe tbody tr th:only-of-type {\n",
       "        vertical-align: middle;\n",
       "    }\n",
       "\n",
       "    .dataframe tbody tr th {\n",
       "        vertical-align: top;\n",
       "    }\n",
       "\n",
       "    .dataframe thead th {\n",
       "        text-align: right;\n",
       "    }\n",
       "</style>\n",
       "<table border=\"1\" class=\"dataframe\">\n",
       "  <thead>\n",
       "    <tr style=\"text-align: right;\">\n",
       "      <th></th>\n",
       "      <th>contract_id</th>\n",
       "      <th>day_or_month_contract</th>\n",
       "    </tr>\n",
       "  </thead>\n",
       "  <tbody>\n",
       "    <tr>\n",
       "      <th>0</th>\n",
       "      <td>7780</td>\n",
       "      <td>0</td>\n",
       "    </tr>\n",
       "    <tr>\n",
       "      <th>1</th>\n",
       "      <td>7784</td>\n",
       "      <td>0</td>\n",
       "    </tr>\n",
       "    <tr>\n",
       "      <th>2</th>\n",
       "      <td>7785</td>\n",
       "      <td>0</td>\n",
       "    </tr>\n",
       "    <tr>\n",
       "      <th>3</th>\n",
       "      <td>7794</td>\n",
       "      <td>0</td>\n",
       "    </tr>\n",
       "    <tr>\n",
       "      <th>4</th>\n",
       "      <td>7795</td>\n",
       "      <td>1</td>\n",
       "    </tr>\n",
       "  </tbody>\n",
       "</table>\n",
       "</div>"
      ],
      "text/plain": [
       "   contract_id  day_or_month_contract\n",
       "0         7780                      0\n",
       "1         7784                      0\n",
       "2         7785                      0\n",
       "3         7794                      0\n",
       "4         7795                      1"
      ]
     },
     "execution_count": 9,
     "metadata": {},
     "output_type": "execute_result"
    }
   ],
   "source": [
    "type_contract_df.head()"
   ]
  },
  {
   "cell_type": "code",
   "execution_count": 10,
   "id": "538ad218-5879-477c-ba88-90ef4f3158ec",
   "metadata": {},
   "outputs": [
    {
     "data": {
      "text/html": [
       "<div>\n",
       "<style scoped>\n",
       "    .dataframe tbody tr th:only-of-type {\n",
       "        vertical-align: middle;\n",
       "    }\n",
       "\n",
       "    .dataframe tbody tr th {\n",
       "        vertical-align: top;\n",
       "    }\n",
       "\n",
       "    .dataframe thead th {\n",
       "        text-align: right;\n",
       "    }\n",
       "</style>\n",
       "<table border=\"1\" class=\"dataframe\">\n",
       "  <thead>\n",
       "    <tr style=\"text-align: right;\">\n",
       "      <th></th>\n",
       "      <th>contract_id</th>\n",
       "      <th>blocked</th>\n",
       "    </tr>\n",
       "  </thead>\n",
       "  <tbody>\n",
       "    <tr>\n",
       "      <th>0</th>\n",
       "      <td>7780</td>\n",
       "      <td>0</td>\n",
       "    </tr>\n",
       "    <tr>\n",
       "      <th>1</th>\n",
       "      <td>7785</td>\n",
       "      <td>0</td>\n",
       "    </tr>\n",
       "    <tr>\n",
       "      <th>2</th>\n",
       "      <td>7794</td>\n",
       "      <td>0</td>\n",
       "    </tr>\n",
       "    <tr>\n",
       "      <th>3</th>\n",
       "      <td>7795</td>\n",
       "      <td>0</td>\n",
       "    </tr>\n",
       "    <tr>\n",
       "      <th>4</th>\n",
       "      <td>7798</td>\n",
       "      <td>0</td>\n",
       "    </tr>\n",
       "  </tbody>\n",
       "</table>\n",
       "</div>"
      ],
      "text/plain": [
       "   contract_id  blocked\n",
       "0         7780        0\n",
       "1         7785        0\n",
       "2         7794        0\n",
       "3         7795        0\n",
       "4         7798        0"
      ]
     },
     "execution_count": 10,
     "metadata": {},
     "output_type": "execute_result"
    }
   ],
   "source": [
    "train_df.head()"
   ]
  },
  {
   "cell_type": "code",
   "execution_count": 11,
   "id": "cc615446-1a8f-4a19-9fbc-81bf522e5570",
   "metadata": {},
   "outputs": [
    {
     "data": {
      "text/plain": [
       "(5992, 810)"
      ]
     },
     "execution_count": 11,
     "metadata": {},
     "output_type": "execute_result"
    }
   ],
   "source": [
    "train_df.drop_duplicates(subset=['contract_id']).shape[0], test_df.drop_duplicates(subset=['contract_id']).shape[0]"
   ]
  },
  {
   "cell_type": "code",
   "execution_count": 12,
   "id": "f960a79a-6157-418c-a73b-a2d7f9779588",
   "metadata": {},
   "outputs": [
    {
     "data": {
      "text/plain": [
       "6802"
      ]
     },
     "execution_count": 12,
     "metadata": {},
     "output_type": "execute_result"
    }
   ],
   "source": [
    "train_df.drop_duplicates(subset=['contract_id']).shape[0] +  test_df.drop_duplicates(subset=['contract_id']).shape[0]"
   ]
  },
  {
   "cell_type": "markdown",
   "id": "58e2eb42-8f2a-4c47-8bfd-f0f9f74ccef7",
   "metadata": {},
   "source": [
    "## для начала надо понять сколько первых дней взять для прогноза "
   ]
  },
  {
   "cell_type": "code",
   "execution_count": 13,
   "id": "349ff1a0-cd5c-44df-a5a5-801caf5f847b",
   "metadata": {},
   "outputs": [],
   "source": [
    "log_df['event_date'] = pd.to_datetime(log_df['event_date'])\n",
    "named_df['date'] = pd.to_datetime(named_df['date'])\n"
   ]
  },
  {
   "cell_type": "code",
   "execution_count": 14,
   "id": "0f24b33b-767e-4ddb-8077-f8691d365889",
   "metadata": {},
   "outputs": [
    {
     "data": {
      "text/plain": [
       "Text(0, 0.5, 'кол. клиентов')"
      ]
     },
     "execution_count": 14,
     "metadata": {},
     "output_type": "execute_result"
    },
    {
     "data": {
      "image/png": "[encoded data removed]",
      "text/plain": [
       "<Figure size 640x480 with 1 Axes>"
      ]
     },
     "metadata": {},
     "output_type": "display_data"
    }
   ],
   "source": [
    "first_event_client = log_df.groupby('contract_id',as_index=False)\\\n",
    "                                .agg({'event_date':'min'})\\\n",
    "                                .rename(columns={'event_date':'first_event'})\n",
    "\n",
    "last_event_client = log_df.groupby('contract_id',as_index=False)\\\n",
    "                                .agg({'event_date':'max'})\\\n",
    "                                .rename(columns={'event_date':'last_event'})\n",
    "\n",
    "\n",
    "first_and_last_event = first_event_client.merge(last_event_client,on='contract_id')\n",
    "\n",
    "diff_event = (first_and_last_event['last_event'] - first_and_last_event['first_event']).dt.days\n",
    "\n",
    "diff_event.hist()\n",
    "\n",
    "plt.title('Количество дней между первым и последним действием клиента ')\n",
    "plt.xlabel('кол. дней')\n",
    "plt.ylabel('кол. клиентов')"
   ]
  },
  {
   "cell_type": "markdown",
   "id": "01f07c6b-b7d0-41c0-8a8a-97f8d89fbff1",
   "metadata": {},
   "source": [
    "### глядя на график можно сделать вывод что первых 10 дней будет достаточно "
   ]
  },
  {
   "cell_type": "code",
   "execution_count": 15,
   "id": "370af0a1-1ce0-4324-9773-6d4337316c1c",
   "metadata": {},
   "outputs": [],
   "source": [
    "count_days = 10"
   ]
  },
  {
   "cell_type": "code",
   "execution_count": 16,
   "id": "77059770-60e5-4af8-ad93-f702684fae3e",
   "metadata": {},
   "outputs": [],
   "source": [
    "log_df = log_df.merge(first_event_client ,on='contract_id',how='outer')\n",
    "log_df = log_df.merge(last_event_client ,on='contract_id',how='outer')\n",
    "\n",
    "\n",
    "mask = (log_df['event_date'] - log_df['first_event']).dt.days <= count_days\n",
    "\n",
    "log_df = log_df[mask]"
   ]
  },
  {
   "cell_type": "code",
   "execution_count": 17,
   "id": "357ee6a6-f466-4188-bb50-cc8fc99c0b95",
   "metadata": {},
   "outputs": [],
   "source": [
    "# тоже самое с named\n",
    "\n",
    "named_first_event_client = named_df.groupby('contract_id',as_index=False)\\\n",
    "                                .agg({'date':'min'})\\\n",
    "                                .rename(columns={'date':'first_event'})\n",
    "\n",
    "named_df = named_df.merge(named_first_event_client,on='contract_id',how='outer')\n",
    "\n",
    "named_mask = (named_df['date'] - named_df['first_event']).dt.days <= count_days\n",
    "\n",
    "named_df = named_df[named_mask]"
   ]
  },
  {
   "cell_type": "markdown",
   "id": "1b2a194b-c04e-4e28-959d-44c5d7f84b9b",
   "metadata": {},
   "source": [
    "### сформируем сводную таблицу из log_df"
   ]
  },
  {
   "cell_type": "code",
   "execution_count": 18,
   "id": "4114f947-e217-4d8f-8abe-9e95be12d545",
   "metadata": {},
   "outputs": [],
   "source": [
    "clients_data = pd.pivot_table(data=log_df,\\\n",
    "                              index='contract_id',\\\n",
    "                              columns='event_type',\\\n",
    "                              values='event_date',\\\n",
    "                              fill_value=0,\\\n",
    "                              aggfunc='count')\n",
    "\n"
   ]
  },
  {
   "cell_type": "code",
   "execution_count": 19,
   "id": "b66b00af-284d-4879-af06-be9320d1de5f",
   "metadata": {},
   "outputs": [
    {
     "data": {
      "text/plain": [
       "(4379, 109)"
      ]
     },
     "execution_count": 19,
     "metadata": {},
     "output_type": "execute_result"
    }
   ],
   "source": [
    "clients_data.shape"
   ]
  },
  {
   "cell_type": "markdown",
   "id": "cad6e460-fc82-4a1f-8411-eed7d14bc4be",
   "metadata": {},
   "source": [
    "### Вероятно, есть конкретные конкуренты, перейдя на сайт которых, клиент с большой вероятностью уйдет. Например, из-за боле низких цен или чего-то еще"
   ]
  },
  {
   "cell_type": "markdown",
   "id": "e0e951f7-82de-448f-9534-0ef763c914c9",
   "metadata": {},
   "source": [
    "### найдем популярные сайты у ушедших клиентов "
   ]
  },
  {
   "cell_type": "code",
   "execution_count": 20,
   "id": "e6d21069-eeff-4248-8538-d3e3ad1e882e",
   "metadata": {},
   "outputs": [],
   "source": [
    "named_df = named_df.merge(train_df, on='contract_id')\n"
   ]
  },
  {
   "cell_type": "code",
   "execution_count": 21,
   "id": "e73d081d-b25d-436d-8b56-639e6e62be8b",
   "metadata": {},
   "outputs": [],
   "source": [
    "\n",
    "departed_clients_domains = named_df[named_df['blocked'] == 1].groupby('contract_id').agg(list)['url'].values\n",
    "\n",
    "all_domains_dep_clients = []\n",
    "\n",
    "for domains in departed_clients_domains:\n",
    "    all_domains_dep_clients += domains\n",
    "\n",
    "from collections import Counter\n",
    "\n",
    "counter = Counter(all_domains_dep_clients)\n",
    "\n",
    "counter = pd.DataFrame(list(counter.items()), columns=['domain', 'count_query'])\n",
    "\n",
    "counter.sort_values(by='count_query',ascending=False).head(20)\n",
    "\n",
    "most_popular_sites = counter.loc[counter['count_query'] > 1,'domain'].values\n"
   ]
  },
  {
   "cell_type": "code",
   "execution_count": 22,
   "id": "ffb44397-3f7a-4e20-b0d4-9c230d833734",
   "metadata": {},
   "outputs": [
    {
     "data": {
      "text/plain": [
       "(2789, 104)"
      ]
     },
     "execution_count": 22,
     "metadata": {},
     "output_type": "execute_result"
    }
   ],
   "source": [
    "mask = named_df['url'].apply(lambda x: x in most_popular_sites)\n",
    "\n",
    "importance_urls = pd.pivot_table(data = named_df[mask],\n",
    "                    index='contract_id',\\\n",
    "                    columns='url',\\\n",
    "                    values='date',\\\n",
    "                    fill_value=0,\\\n",
    "                    aggfunc='count')\n",
    "\n",
    "concurent_domain_query = named_df.groupby('contract_id')\\\n",
    "                                        .agg({'date':'count'})\\\n",
    "                                        .rename(columns={'date':'count_query'})\n",
    "\n",
    "importance_urls.shape"
   ]
  },
  {
   "cell_type": "markdown",
   "id": "4a7c3b32-af14-495f-b9fc-99655ce9130b",
   "metadata": {},
   "source": [
    "### Добавим средний отрезок времени между действиями клиента. Вероятно, клиент, который часто подключает и отключает возможности тарифа, не удовлетворен и хочет уйти "
   ]
  },
  {
   "cell_type": "code",
   "execution_count": 23,
   "id": "7e4088ee-2d55-4d2c-b76a-e3bc0bc2427d",
   "metadata": {},
   "outputs": [],
   "source": [
    "log_df['timestamp'] = log_df['event_date'].astype(np.int64) // 10**9\n",
    "\n",
    "def get_min(x):\n",
    "    if x.shape[0] > 0:\n",
    "        return ((x.min() /60)/60)/24\n",
    "    else:\n",
    "        return 0\n",
    "    \n",
    "def get_max(x):\n",
    "    return ((np.concatenate((np.array(x),np.array([0]))).max()  /60)/60)/24\n",
    "\n",
    "\n",
    "min_span_days = log_df.groupby('contract_id')\\\n",
    "                            .agg(list)['timestamp']\\\n",
    "                            .apply(np.sort)\\\n",
    "                            .apply(np.diff)\\\n",
    "                            .apply(get_min)\\\n",
    "                            .to_frame()\\\n",
    "                            .rename(columns={'timestamp':'min_span'})\n",
    "\n",
    "mean_span_days = log_df.groupby('contract_id')\\\n",
    "                            .agg(list)['timestamp']\\\n",
    "                            .apply(np.sort)\\\n",
    "                            .apply(np.diff)\\\n",
    "                            .apply(lambda x: ((x.mean()/60)/60)/24)\\\n",
    "                            .to_frame()\\\n",
    "                            .rename(columns={'timestamp':'mean_span'})\n",
    "\n",
    "max_span_days = log_df.groupby('contract_id')\\\n",
    "                            .agg(list)['timestamp']\\\n",
    "                            .apply(np.sort)\\\n",
    "                            .apply(np.diff)\\\n",
    "                            .apply(get_max)\\\n",
    "                            .to_frame()\\\n",
    "                            .rename(columns={'timestamp':'max_span'})\n",
    "\n",
    "\n",
    "span_days = min_span_days.merge(mean_span_days,on='contract_id')\n",
    "span_days = span_days.merge(max_span_days,on='contract_id')\n",
    "\n",
    "span_days = span_days.fillna(0).round(3)\n"
   ]
  },
  {
   "cell_type": "markdown",
   "id": "345db7b1-7c19-4c4b-ba32-3c1656b79ddf",
   "metadata": {},
   "source": [
    "### количество дней c момента последнего действия клиента"
   ]
  },
  {
   "cell_type": "code",
   "execution_count": 24,
   "id": "f744baae-29ca-4fb1-a772-f0c2302bcba3",
   "metadata": {},
   "outputs": [],
   "source": [
    "\n",
    "# count_days_miss = (log_df['last_event'].max() - log_df.groupby('contract_id').agg({'last_event':'max'})['last_event']).dt.days\n",
    "\n",
    "# count_days_miss = pd.DataFrame(count_days_miss)\n"
   ]
  },
  {
   "cell_type": "markdown",
   "id": "62d8fe01-f7b4-4e87-ad04-df174878de23",
   "metadata": {},
   "source": [
    "### собираем все в один датасет "
   ]
  },
  {
   "cell_type": "code",
   "execution_count": 25,
   "id": "0ace4672-6593-4012-a118-45ad96237109",
   "metadata": {},
   "outputs": [],
   "source": [
    "train_test = pd.concat((train_df,test_df)).drop_duplicates(subset=['contract_id'])"
   ]
  },
  {
   "cell_type": "code",
   "execution_count": 26,
   "id": "043ac7f4-cc97-42de-9a3b-c93ddc98e58d",
   "metadata": {},
   "outputs": [
    {
     "data": {
      "text/plain": [
       "(808,)"
      ]
     },
     "execution_count": 26,
     "metadata": {},
     "output_type": "execute_result"
    }
   ],
   "source": [
    "train_test.loc[train_test['blocked'].isna(),'blocked'].shape"
   ]
  },
  {
   "cell_type": "markdown",
   "id": "55ee60f1-084e-4ecd-b12e-78ca6b34f212",
   "metadata": {},
   "source": [
    "### изначально в тесте 810 уникальных контрактов, потеряли 2 так как они встречаються как в тесте так и трейне "
   ]
  },
  {
   "cell_type": "code",
   "execution_count": 27,
   "id": "bcd5f228-33a7-4349-9840-35f5784222e3",
   "metadata": {},
   "outputs": [
    {
     "data": {
      "text/plain": [
       "{8188, 9777}"
      ]
     },
     "execution_count": 27,
     "metadata": {},
     "output_type": "execute_result"
    }
   ],
   "source": [
    "missing_contracts = set(train_df['contract_id']) & set(test_df['contract_id'])\n",
    "missing_contracts"
   ]
  },
  {
   "cell_type": "code",
   "execution_count": 28,
   "id": "34a6421d-17c5-4b31-aabc-249ab8b7509b",
   "metadata": {},
   "outputs": [],
   "source": [
    "clients_data = clients_data.merge(importance_urls,on='contract_id')\n",
    "\n",
    "clients_data = clients_data.merge(span_days,on='contract_id',how='outer')\n",
    "\n",
    "clients_data = clients_data.merge(type_contract_df, on='contract_id', how='outer').drop_duplicates(subset=['contract_id'])\n",
    "\n",
    "clients_data = clients_data.merge(concurent_domain_query,on='contract_id',how='outer')\n",
    " \n",
    "clients_data = clients_data.merge(train_test,on='contract_id',how='right')"
   ]
  },
  {
   "cell_type": "code",
   "execution_count": 29,
   "id": "94be7a54-0f75-4fc3-b53e-438967bed8ed",
   "metadata": {},
   "outputs": [
    {
     "name": "stdout",
     "output_type": "stream",
     "text": [
      "(6800, 220)\n"
     ]
    }
   ],
   "source": [
    "print(clients_data.shape)\n"
   ]
  },
  {
   "cell_type": "markdown",
   "id": "102d9678-7140-402a-9cdb-ff8611451ad1",
   "metadata": {},
   "source": [
    "### в этой задаче целесообразно максимизировать precision, так как не найти клиента, который собирается уйти дороже, чем по ошибке записать в уходящие стабильного клиента."
   ]
  },
  {
   "cell_type": "code",
   "execution_count": 30,
   "id": "96a7e351-7860-4937-b88b-91e728584bbf",
   "metadata": {},
   "outputs": [],
   "source": [
    "train_data = clients_data[~clients_data['blocked'].isna()]\n",
    "test_data = clients_data[clients_data['blocked'].isna()]"
   ]
  },
  {
   "cell_type": "code",
   "execution_count": 31,
   "id": "fc358ab1-2464-4a75-b7b5-d2ec37d9b999",
   "metadata": {},
   "outputs": [],
   "source": [
    "train_data = train_data.fillna(0)\n",
    "test_data = test_data.fillna(0)"
   ]
  },
  {
   "cell_type": "code",
   "execution_count": 32,
   "id": "f017d296-97ce-4e70-832f-3cf6e540537f",
   "metadata": {},
   "outputs": [
    {
     "data": {
      "text/plain": [
       "((5992, 220), (808, 220))"
      ]
     },
     "execution_count": 32,
     "metadata": {},
     "output_type": "execute_result"
    }
   ],
   "source": [
    "train_data.shape,test_data.shape"
   ]
  },
  {
   "cell_type": "markdown",
   "id": "63ad0c9f-fa05-4847-9c02-18ade4a0e33d",
   "metadata": {
    "tags": []
   },
   "source": [
    "### интересное наблюдение, если не убрать из трейна contract_id точность бустинга на валидации будет 1.0 по precosion "
   ]
  },
  {
   "cell_type": "code",
   "execution_count": 33,
   "id": "f75fec17-f657-408b-bd67-e1bd9997d936",
   "metadata": {},
   "outputs": [],
   "source": [
    "X_cheat = train_data.drop(['blocked'], axis=1).values\n",
    "y_cheat = train_data['blocked'].values\n",
    "\n"
   ]
  },
  {
   "cell_type": "code",
   "execution_count": 34,
   "id": "743245b4-bf40-40ea-a1da-20acd3997595",
   "metadata": {},
   "outputs": [],
   "source": [
    "X_train, X_valid, y_train, y_valid = train_test_split(X_cheat,y_cheat,test_size=0.3,shuffle=True, random_state=5)"
   ]
  },
  {
   "cell_type": "code",
   "execution_count": 35,
   "id": "a31a3763-4ee0-49f1-88c1-19be6c421627",
   "metadata": {},
   "outputs": [],
   "source": [
    "\n",
    "lgb_clf = LGBMClassifier(n_estimators = 100,n_jobs=-1,random_state=5)\n",
    "\n",
    "params = {\n",
    "    'reg_lambda': [0.0005, 0.005, 0.05, 0.1],\n",
    "    'max_depth' : [1,2,3,4,5,6,7,8],\n",
    "    'reg_alpha' : [0.5, 1, 1.5, 2, 2.5, 3, 4],\n",
    "    'learning_rate' : [0.01,0.1, 0.2, 0.4, 0.6,0.8],\n",
    "    'num_leaves' : [2**i for i in [2,3,4,5,6,7,8]]\n",
    "}\n",
    "\n",
    "rand_lgb_clf = RandomizedSearchCV(lgb_clf,params,cv=5,random_state=17, n_jobs=-1)"
   ]
  },
  {
   "cell_type": "code",
   "execution_count": 36,
   "id": "432f7663-fcde-4f1a-9351-183b42893731",
   "metadata": {},
   "outputs": [
    {
     "data": {
      "text/html": [
       "<style>#sk-container-id-1 {color: black;background-color: white;}#sk-container-id-1 pre{padding: 0;}#sk-container-id-1 div.sk-toggleable {background-color: white;}#sk-container-id-1 label.sk-toggleable__label {cursor: pointer;display: block;width: 100%;margin-bottom: 0;padding: 0.3em;box-sizing: border-box;text-align: center;}#sk-container-id-1 label.sk-toggleable__label-arrow:before {content: \"▸\";float: left;margin-right: 0.25em;color: #696969;}#sk-container-id-1 label.sk-toggleable__label-arrow:hover:before {color: black;}#sk-container-id-1 div.sk-estimator:hover label.sk-toggleable__label-arrow:before {color: black;}#sk-container-id-1 div.sk-toggleable__content {max-height: 0;max-width: 0;overflow: hidden;text-align: left;background-color: #f0f8ff;}#sk-container-id-1 div.sk-toggleable__content pre {margin: 0.2em;color: black;border-radius: 0.25em;background-color: #f0f8ff;}#sk-container-id-1 input.sk-toggleable__control:checked~div.sk-toggleable__content {max-height: 200px;max-width: 100%;overflow: auto;}#sk-container-id-1 input.sk-toggleable__control:checked~label.sk-toggleable__label-arrow:before {content: \"▾\";}#sk-container-id-1 div.sk-estimator input.sk-toggleable__control:checked~label.sk-toggleable__label {background-color: #d4ebff;}#sk-container-id-1 div.sk-label input.sk-toggleable__control:checked~label.sk-toggleable__label {background-color: #d4ebff;}#sk-container-id-1 input.sk-hidden--visually {border: 0;clip: rect(1px 1px 1px 1px);clip: rect(1px, 1px, 1px, 1px);height: 1px;margin: -1px;overflow: hidden;padding: 0;position: absolute;width: 1px;}#sk-container-id-1 div.sk-estimator {font-family: monospace;background-color: #f0f8ff;border: 1px dotted black;border-radius: 0.25em;box-sizing: border-box;margin-bottom: 0.5em;}#sk-container-id-1 div.sk-estimator:hover {background-color: #d4ebff;}#sk-container-id-1 div.sk-parallel-item::after {content: \"\";width: 100%;border-bottom: 1px solid gray;flex-grow: 1;}#sk-container-id-1 div.sk-label:hover label.sk-toggleable__label {background-color: #d4ebff;}#sk-container-id-1 div.sk-serial::before {content: \"\";position: absolute;border-left: 1px solid gray;box-sizing: border-box;top: 0;bottom: 0;left: 50%;z-index: 0;}#sk-container-id-1 div.sk-serial {display: flex;flex-direction: column;align-items: center;background-color: white;padding-right: 0.2em;padding-left: 0.2em;position: relative;}#sk-container-id-1 div.sk-item {position: relative;z-index: 1;}#sk-container-id-1 div.sk-parallel {display: flex;align-items: stretch;justify-content: center;background-color: white;position: relative;}#sk-container-id-1 div.sk-item::before, #sk-container-id-1 div.sk-parallel-item::before {content: \"\";position: absolute;border-left: 1px solid gray;box-sizing: border-box;top: 0;bottom: 0;left: 50%;z-index: -1;}#sk-container-id-1 div.sk-parallel-item {display: flex;flex-direction: column;z-index: 1;position: relative;background-color: white;}#sk-container-id-1 div.sk-parallel-item:first-child::after {align-self: flex-end;width: 50%;}#sk-container-id-1 div.sk-parallel-item:last-child::after {align-self: flex-start;width: 50%;}#sk-container-id-1 div.sk-parallel-item:only-child::after {width: 0;}#sk-container-id-1 div.sk-dashed-wrapped {border: 1px dashed gray;margin: 0 0.4em 0.5em 0.4em;box-sizing: border-box;padding-bottom: 0.4em;background-color: white;}#sk-container-id-1 div.sk-label label {font-family: monospace;font-weight: bold;display: inline-block;line-height: 1.2em;}#sk-container-id-1 div.sk-label-container {text-align: center;}#sk-container-id-1 div.sk-container {/* jupyter's `normalize.less` sets `[hidden] { display: none; }` but bootstrap.min.css set `[hidden] { display: none !important; }` so we also need the `!important` here to be able to override the default hidden behavior on the sphinx rendered scikit-learn.org. See: https://github.com/scikit-learn/scikit-learn/issues/21755 */display: inline-block !important;position: relative;}#sk-container-id-1 div.sk-text-repr-fallback {display: none;}</style><div id=\"sk-container-id-1\" class=\"sk-top-container\"><div class=\"sk-text-repr-fallback\"><pre>RandomizedSearchCV(cv=5, estimator=LGBMClassifier(random_state=5), n_jobs=-1,\n",
       "                   param_distributions={&#x27;learning_rate&#x27;: [0.01, 0.1, 0.2, 0.4,\n",
       "                                                          0.6, 0.8],\n",
       "                                        &#x27;max_depth&#x27;: [1, 2, 3, 4, 5, 6, 7, 8],\n",
       "                                        &#x27;num_leaves&#x27;: [4, 8, 16, 32, 64, 128,\n",
       "                                                       256],\n",
       "                                        &#x27;reg_alpha&#x27;: [0.5, 1, 1.5, 2, 2.5, 3,\n",
       "                                                      4],\n",
       "                                        &#x27;reg_lambda&#x27;: [0.0005, 0.005, 0.05,\n",
       "                                                       0.1]},\n",
       "                   random_state=17)</pre><b>In a Jupyter environment, please rerun this cell to show the HTML representation or trust the notebook. <br />On GitHub, the HTML representation is unable to render, please try loading this page with nbviewer.org.</b></div><div class=\"sk-container\" hidden><div class=\"sk-item sk-dashed-wrapped\"><div class=\"sk-label-container\"><div class=\"sk-label sk-toggleable\"><input class=\"sk-toggleable__control sk-hidden--visually\" id=\"sk-estimator-id-1\" type=\"checkbox\" ><label for=\"sk-estimator-id-1\" class=\"sk-toggleable__label sk-toggleable__label-arrow\">RandomizedSearchCV</label><div class=\"sk-toggleable__content\"><pre>RandomizedSearchCV(cv=5, estimator=LGBMClassifier(random_state=5), n_jobs=-1,\n",
       "                   param_distributions={&#x27;learning_rate&#x27;: [0.01, 0.1, 0.2, 0.4,\n",
       "                                                          0.6, 0.8],\n",
       "                                        &#x27;max_depth&#x27;: [1, 2, 3, 4, 5, 6, 7, 8],\n",
       "                                        &#x27;num_leaves&#x27;: [4, 8, 16, 32, 64, 128,\n",
       "                                                       256],\n",
       "                                        &#x27;reg_alpha&#x27;: [0.5, 1, 1.5, 2, 2.5, 3,\n",
       "                                                      4],\n",
       "                                        &#x27;reg_lambda&#x27;: [0.0005, 0.005, 0.05,\n",
       "                                                       0.1]},\n",
       "                   random_state=17)</pre></div></div></div><div class=\"sk-parallel\"><div class=\"sk-parallel-item\"><div class=\"sk-item\"><div class=\"sk-label-container\"><div class=\"sk-label sk-toggleable\"><input class=\"sk-toggleable__control sk-hidden--visually\" id=\"sk-estimator-id-2\" type=\"checkbox\" ><label for=\"sk-estimator-id-2\" class=\"sk-toggleable__label sk-toggleable__label-arrow\">estimator: LGBMClassifier</label><div class=\"sk-toggleable__content\"><pre>LGBMClassifier(random_state=5)</pre></div></div></div><div class=\"sk-serial\"><div class=\"sk-item\"><div class=\"sk-estimator sk-toggleable\"><input class=\"sk-toggleable__control sk-hidden--visually\" id=\"sk-estimator-id-3\" type=\"checkbox\" ><label for=\"sk-estimator-id-3\" class=\"sk-toggleable__label sk-toggleable__label-arrow\">LGBMClassifier</label><div class=\"sk-toggleable__content\"><pre>LGBMClassifier(random_state=5)</pre></div></div></div></div></div></div></div></div></div></div>"
      ],
      "text/plain": [
       "RandomizedSearchCV(cv=5, estimator=LGBMClassifier(random_state=5), n_jobs=-1,\n",
       "                   param_distributions={'learning_rate': [0.01, 0.1, 0.2, 0.4,\n",
       "                                                          0.6, 0.8],\n",
       "                                        'max_depth': [1, 2, 3, 4, 5, 6, 7, 8],\n",
       "                                        'num_leaves': [4, 8, 16, 32, 64, 128,\n",
       "                                                       256],\n",
       "                                        'reg_alpha': [0.5, 1, 1.5, 2, 2.5, 3,\n",
       "                                                      4],\n",
       "                                        'reg_lambda': [0.0005, 0.005, 0.05,\n",
       "                                                       0.1]},\n",
       "                   random_state=17)"
      ]
     },
     "execution_count": 36,
     "metadata": {},
     "output_type": "execute_result"
    }
   ],
   "source": [
    "rand_lgb_clf.fit(X_cheat,y_cheat)"
   ]
  },
  {
   "cell_type": "code",
   "execution_count": 37,
   "id": "92721a34-b02a-47ba-9716-3749f7e95d71",
   "metadata": {},
   "outputs": [
    {
     "data": {
      "text/plain": [
       "{'reg_lambda': 0.05,\n",
       " 'reg_alpha': 2,\n",
       " 'num_leaves': 4,\n",
       " 'max_depth': 3,\n",
       " 'learning_rate': 0.01}"
      ]
     },
     "execution_count": 37,
     "metadata": {},
     "output_type": "execute_result"
    }
   ],
   "source": [
    "rand_lgb_clf.best_params_"
   ]
  },
  {
   "cell_type": "code",
   "execution_count": 38,
   "id": "8107f9aa-1720-4e71-9bc9-42c50fecb43b",
   "metadata": {},
   "outputs": [
    {
     "name": "stdout",
     "output_type": "stream",
     "text": [
      "Precision : 1.0\n",
      "F1 : 0.9327354260089686\n",
      "ROC AUC : 0.9369747899159664\n"
     ]
    }
   ],
   "source": [
    "cheat_lgb = rand_lgb_clf.best_estimator_\n",
    "\n",
    "pred = cheat_lgb.predict(X_valid)\n",
    "\n",
    "print(f'Precision : {precision_score(y_valid,pred)}')\n",
    "print(f'F1 : {f1_score(y_valid,pred)}')\n",
    "print(f'ROC AUC : {roc_auc_score(y_valid,pred)}')"
   ]
  },
  {
   "cell_type": "markdown",
   "id": "9298a4bd-8230-42f8-8a84-025d824c428f",
   "metadata": {
    "tags": []
   },
   "source": [
    "### но попробуем достигнуть хороших результатов честнее "
   ]
  },
  {
   "cell_type": "markdown",
   "id": "4be2da22-cd07-44b8-9eb1-331ed6d4e366",
   "metadata": {},
   "source": [
    "## подбор модели и тюнинг параметров"
   ]
  },
  {
   "cell_type": "markdown",
   "id": "8aba5e4f-917e-4ce7-9b20-b97745ff21a2",
   "metadata": {
    "tags": []
   },
   "source": [
    "### нормализуем "
   ]
  },
  {
   "cell_type": "code",
   "execution_count": 39,
   "id": "6c9f2b91-b2b3-48d1-a5d0-57b4cb25b4b5",
   "metadata": {},
   "outputs": [],
   "source": [
    "scalar = MinMaxScaler()\n",
    "\n",
    "train_data.iloc[:,:] = scalar.fit_transform(train_data)\n",
    "test_data.iloc[:,:] = scalar.fit_transform(test_data)\n"
   ]
  },
  {
   "cell_type": "markdown",
   "id": "fccb70ed-df85-47fb-b82f-64fd8bb8d722",
   "metadata": {},
   "source": [
    "### проверим баланс классов "
   ]
  },
  {
   "cell_type": "code",
   "execution_count": 40,
   "id": "7aed703f-3611-4796-b6ec-1320a707aa1f",
   "metadata": {},
   "outputs": [
    {
     "data": {
      "text/plain": [
       "0.0    5294\n",
       "1.0     698\n",
       "Name: blocked, dtype: int64"
      ]
     },
     "execution_count": 40,
     "metadata": {},
     "output_type": "execute_result"
    }
   ],
   "source": [
    "train_data['blocked'].value_counts()"
   ]
  },
  {
   "cell_type": "markdown",
   "id": "1e52a6ef-c1b7-4985-9f16-ae216557480a",
   "metadata": {},
   "source": [
    "#### дисбаланс классов не должен сильно помешать бустингу или лог. регрессии поэтому попробуем пока так "
   ]
  },
  {
   "cell_type": "code",
   "execution_count": 41,
   "id": "d38e45b7-9187-47c6-bc16-1228097685e5",
   "metadata": {},
   "outputs": [],
   "source": [
    "X = train_data.drop(['blocked','contract_id'], axis=1).values\n",
    "y = train_data['blocked'].values\n"
   ]
  },
  {
   "cell_type": "code",
   "execution_count": 42,
   "id": "31c31658-76bb-449e-b296-5f9cf14a26cc",
   "metadata": {},
   "outputs": [
    {
     "name": "stdout",
     "output_type": "stream",
     "text": [
      "X_train : (4194, 218)\n",
      "X_valid : (1798, 218)\n",
      "y_train : (4194,)\n",
      "y_valid : (1798,)\n"
     ]
    }
   ],
   "source": [
    "X_train, X_valid, y_train, y_valid = train_test_split(X,y,test_size=0.3, random_state=5)\n",
    "\n",
    "print(f'X_train : {X_train.shape}')\n",
    "print(f'X_valid : {X_valid.shape}')\n",
    "print(f'y_train : {y_train.shape}')\n",
    "print(f'y_valid : {y_valid.shape}')\n"
   ]
  },
  {
   "cell_type": "code",
   "execution_count": 43,
   "id": "8dce9d06-995c-4504-ac1c-add63139921d",
   "metadata": {},
   "outputs": [],
   "source": [
    "\n",
    "lgb_clf = LGBMClassifier(n_jobs=-1,random_state=5,objective='binary')\n",
    "\n",
    "params = {\n",
    "    'n_estimators':[100,250,600,1000],\n",
    "    'num_leaves':[16,32,64,128,254],\n",
    "    'reg_lambda': [0.0005, 0.005, 0.05, 0.1],\n",
    "    'max_depth' : [1,2,3,4,6],\n",
    "    'reg_alpha' : [0.5, 1, 1.5, 2, 2.5, 3, 4],\n",
    "    'learning_rate' : [0.0005,0.005,0.05,0.1,0.3,0.6],\n",
    "    'min_split_gain': [0.001,0.1,0.2,0.3,0.4,0.5],\n",
    "    'min_child_samples':[10,20,30,50,60],\n",
    "    \n",
    "}\n",
    "\n",
    "rand_lgb_clf = RandomizedSearchCV(lgb_clf,params,cv=5,random_state=17, n_jobs=-1)"
   ]
  },
  {
   "cell_type": "code",
   "execution_count": 44,
   "id": "cabb6e38-566c-490d-a294-5974e7b8ba48",
   "metadata": {},
   "outputs": [
    {
     "data": {
      "text/html": [
       "<style>#sk-container-id-2 {color: black;background-color: white;}#sk-container-id-2 pre{padding: 0;}#sk-container-id-2 div.sk-toggleable {background-color: white;}#sk-container-id-2 label.sk-toggleable__label {cursor: pointer;display: block;width: 100%;margin-bottom: 0;padding: 0.3em;box-sizing: border-box;text-align: center;}#sk-container-id-2 label.sk-toggleable__label-arrow:before {content: \"▸\";float: left;margin-right: 0.25em;color: #696969;}#sk-container-id-2 label.sk-toggleable__label-arrow:hover:before {color: black;}#sk-container-id-2 div.sk-estimator:hover label.sk-toggleable__label-arrow:before {color: black;}#sk-container-id-2 div.sk-toggleable__content {max-height: 0;max-width: 0;overflow: hidden;text-align: left;background-color: #f0f8ff;}#sk-container-id-2 div.sk-toggleable__content pre {margin: 0.2em;color: black;border-radius: 0.25em;background-color: #f0f8ff;}#sk-container-id-2 input.sk-toggleable__control:checked~div.sk-toggleable__content {max-height: 200px;max-width: 100%;overflow: auto;}#sk-container-id-2 input.sk-toggleable__control:checked~label.sk-toggleable__label-arrow:before {content: \"▾\";}#sk-container-id-2 div.sk-estimator input.sk-toggleable__control:checked~label.sk-toggleable__label {background-color: #d4ebff;}#sk-container-id-2 div.sk-label input.sk-toggleable__control:checked~label.sk-toggleable__label {background-color: #d4ebff;}#sk-container-id-2 input.sk-hidden--visually {border: 0;clip: rect(1px 1px 1px 1px);clip: rect(1px, 1px, 1px, 1px);height: 1px;margin: -1px;overflow: hidden;padding: 0;position: absolute;width: 1px;}#sk-container-id-2 div.sk-estimator {font-family: monospace;background-color: #f0f8ff;border: 1px dotted black;border-radius: 0.25em;box-sizing: border-box;margin-bottom: 0.5em;}#sk-container-id-2 div.sk-estimator:hover {background-color: #d4ebff;}#sk-container-id-2 div.sk-parallel-item::after {content: \"\";width: 100%;border-bottom: 1px solid gray;flex-grow: 1;}#sk-container-id-2 div.sk-label:hover label.sk-toggleable__label {background-color: #d4ebff;}#sk-container-id-2 div.sk-serial::before {content: \"\";position: absolute;border-left: 1px solid gray;box-sizing: border-box;top: 0;bottom: 0;left: 50%;z-index: 0;}#sk-container-id-2 div.sk-serial {display: flex;flex-direction: column;align-items: center;background-color: white;padding-right: 0.2em;padding-left: 0.2em;position: relative;}#sk-container-id-2 div.sk-item {position: relative;z-index: 1;}#sk-container-id-2 div.sk-parallel {display: flex;align-items: stretch;justify-content: center;background-color: white;position: relative;}#sk-container-id-2 div.sk-item::before, #sk-container-id-2 div.sk-parallel-item::before {content: \"\";position: absolute;border-left: 1px solid gray;box-sizing: border-box;top: 0;bottom: 0;left: 50%;z-index: -1;}#sk-container-id-2 div.sk-parallel-item {display: flex;flex-direction: column;z-index: 1;position: relative;background-color: white;}#sk-container-id-2 div.sk-parallel-item:first-child::after {align-self: flex-end;width: 50%;}#sk-container-id-2 div.sk-parallel-item:last-child::after {align-self: flex-start;width: 50%;}#sk-container-id-2 div.sk-parallel-item:only-child::after {width: 0;}#sk-container-id-2 div.sk-dashed-wrapped {border: 1px dashed gray;margin: 0 0.4em 0.5em 0.4em;box-sizing: border-box;padding-bottom: 0.4em;background-color: white;}#sk-container-id-2 div.sk-label label {font-family: monospace;font-weight: bold;display: inline-block;line-height: 1.2em;}#sk-container-id-2 div.sk-label-container {text-align: center;}#sk-container-id-2 div.sk-container {/* jupyter's `normalize.less` sets `[hidden] { display: none; }` but bootstrap.min.css set `[hidden] { display: none !important; }` so we also need the `!important` here to be able to override the default hidden behavior on the sphinx rendered scikit-learn.org. See: https://github.com/scikit-learn/scikit-learn/issues/21755 */display: inline-block !important;position: relative;}#sk-container-id-2 div.sk-text-repr-fallback {display: none;}</style><div id=\"sk-container-id-2\" class=\"sk-top-container\"><div class=\"sk-text-repr-fallback\"><pre>RandomizedSearchCV(cv=5,\n",
       "                   estimator=LGBMClassifier(objective=&#x27;binary&#x27;, random_state=5),\n",
       "                   n_jobs=-1,\n",
       "                   param_distributions={&#x27;learning_rate&#x27;: [0.0005, 0.005, 0.05,\n",
       "                                                          0.1, 0.3, 0.6],\n",
       "                                        &#x27;max_depth&#x27;: [1, 2, 3, 4, 6],\n",
       "                                        &#x27;min_child_samples&#x27;: [10, 20, 30, 50,\n",
       "                                                              60],\n",
       "                                        &#x27;min_split_gain&#x27;: [0.001, 0.1, 0.2, 0.3,\n",
       "                                                           0.4, 0.5],\n",
       "                                        &#x27;n_estimators&#x27;: [100, 250, 600, 1000],\n",
       "                                        &#x27;num_leaves&#x27;: [16, 32, 64, 128, 254],\n",
       "                                        &#x27;reg_alpha&#x27;: [0.5, 1, 1.5, 2, 2.5, 3,\n",
       "                                                      4],\n",
       "                                        &#x27;reg_lambda&#x27;: [0.0005, 0.005, 0.05,\n",
       "                                                       0.1]},\n",
       "                   random_state=17)</pre><b>In a Jupyter environment, please rerun this cell to show the HTML representation or trust the notebook. <br />On GitHub, the HTML representation is unable to render, please try loading this page with nbviewer.org.</b></div><div class=\"sk-container\" hidden><div class=\"sk-item sk-dashed-wrapped\"><div class=\"sk-label-container\"><div class=\"sk-label sk-toggleable\"><input class=\"sk-toggleable__control sk-hidden--visually\" id=\"sk-estimator-id-4\" type=\"checkbox\" ><label for=\"sk-estimator-id-4\" class=\"sk-toggleable__label sk-toggleable__label-arrow\">RandomizedSearchCV</label><div class=\"sk-toggleable__content\"><pre>RandomizedSearchCV(cv=5,\n",
       "                   estimator=LGBMClassifier(objective=&#x27;binary&#x27;, random_state=5),\n",
       "                   n_jobs=-1,\n",
       "                   param_distributions={&#x27;learning_rate&#x27;: [0.0005, 0.005, 0.05,\n",
       "                                                          0.1, 0.3, 0.6],\n",
       "                                        &#x27;max_depth&#x27;: [1, 2, 3, 4, 6],\n",
       "                                        &#x27;min_child_samples&#x27;: [10, 20, 30, 50,\n",
       "                                                              60],\n",
       "                                        &#x27;min_split_gain&#x27;: [0.001, 0.1, 0.2, 0.3,\n",
       "                                                           0.4, 0.5],\n",
       "                                        &#x27;n_estimators&#x27;: [100, 250, 600, 1000],\n",
       "                                        &#x27;num_leaves&#x27;: [16, 32, 64, 128, 254],\n",
       "                                        &#x27;reg_alpha&#x27;: [0.5, 1, 1.5, 2, 2.5, 3,\n",
       "                                                      4],\n",
       "                                        &#x27;reg_lambda&#x27;: [0.0005, 0.005, 0.05,\n",
       "                                                       0.1]},\n",
       "                   random_state=17)</pre></div></div></div><div class=\"sk-parallel\"><div class=\"sk-parallel-item\"><div class=\"sk-item\"><div class=\"sk-label-container\"><div class=\"sk-label sk-toggleable\"><input class=\"sk-toggleable__control sk-hidden--visually\" id=\"sk-estimator-id-5\" type=\"checkbox\" ><label for=\"sk-estimator-id-5\" class=\"sk-toggleable__label sk-toggleable__label-arrow\">estimator: LGBMClassifier</label><div class=\"sk-toggleable__content\"><pre>LGBMClassifier(objective=&#x27;binary&#x27;, random_state=5)</pre></div></div></div><div class=\"sk-serial\"><div class=\"sk-item\"><div class=\"sk-estimator sk-toggleable\"><input class=\"sk-toggleable__control sk-hidden--visually\" id=\"sk-estimator-id-6\" type=\"checkbox\" ><label for=\"sk-estimator-id-6\" class=\"sk-toggleable__label sk-toggleable__label-arrow\">LGBMClassifier</label><div class=\"sk-toggleable__content\"><pre>LGBMClassifier(objective=&#x27;binary&#x27;, random_state=5)</pre></div></div></div></div></div></div></div></div></div></div>"
      ],
      "text/plain": [
       "RandomizedSearchCV(cv=5,\n",
       "                   estimator=LGBMClassifier(objective='binary', random_state=5),\n",
       "                   n_jobs=-1,\n",
       "                   param_distributions={'learning_rate': [0.0005, 0.005, 0.05,\n",
       "                                                          0.1, 0.3, 0.6],\n",
       "                                        'max_depth': [1, 2, 3, 4, 6],\n",
       "                                        'min_child_samples': [10, 20, 30, 50,\n",
       "                                                              60],\n",
       "                                        'min_split_gain': [0.001, 0.1, 0.2, 0.3,\n",
       "                                                           0.4, 0.5],\n",
       "                                        'n_estimators': [100, 250, 600, 1000],\n",
       "                                        'num_leaves': [16, 32, 64, 128, 254],\n",
       "                                        'reg_alpha': [0.5, 1, 1.5, 2, 2.5, 3,\n",
       "                                                      4],\n",
       "                                        'reg_lambda': [0.0005, 0.005, 0.05,\n",
       "                                                       0.1]},\n",
       "                   random_state=17)"
      ]
     },
     "execution_count": 44,
     "metadata": {},
     "output_type": "execute_result"
    }
   ],
   "source": [
    "rand_lgb_clf.fit(X_train,y_train)"
   ]
  },
  {
   "cell_type": "code",
   "execution_count": 45,
   "id": "5ee39d61-f46c-4d85-af03-4bdb215a6479",
   "metadata": {},
   "outputs": [
    {
     "data": {
      "text/plain": [
       "{'reg_lambda': 0.1,\n",
       " 'reg_alpha': 4,\n",
       " 'num_leaves': 32,\n",
       " 'n_estimators': 600,\n",
       " 'min_split_gain': 0.4,\n",
       " 'min_child_samples': 60,\n",
       " 'max_depth': 3,\n",
       " 'learning_rate': 0.6}"
      ]
     },
     "execution_count": 45,
     "metadata": {},
     "output_type": "execute_result"
    }
   ],
   "source": [
    "rand_lgb_clf.best_params_"
   ]
  },
  {
   "cell_type": "code",
   "execution_count": 46,
   "id": "81777a5d-538a-4c82-a71c-b16f37ea2842",
   "metadata": {},
   "outputs": [
    {
     "data": {
      "text/plain": [
       "0.890319479093477"
      ]
     },
     "execution_count": 46,
     "metadata": {},
     "output_type": "execute_result"
    }
   ],
   "source": [
    "rand_lgb_clf.best_score_"
   ]
  },
  {
   "cell_type": "code",
   "execution_count": 47,
   "id": "d1152b67-ccb5-480b-a011-beb318fa9921",
   "metadata": {},
   "outputs": [
    {
     "name": "stdout",
     "output_type": "stream",
     "text": [
      "Precision : 0.0\n",
      "F1 : 0.0\n",
      "ROC AUC : 0.5\n"
     ]
    }
   ],
   "source": [
    "best_lgb = rand_lgb_clf.best_estimator_\n",
    "\n",
    "pred = best_lgb.predict(X_valid)\n",
    "\n",
    "print(f'Precision : {precision_score(y_valid,pred)}')\n",
    "print(f'F1 : {f1_score(y_valid,pred)}')\n",
    "print(f'ROC AUC : {roc_auc_score(y_valid,pred)}')"
   ]
  },
  {
   "cell_type": "markdown",
   "id": "bc68073a-3fc2-468b-8289-3e88408493c5",
   "metadata": {
    "tags": []
   },
   "source": [
    "### бустинг выдает ужасное качество, попробуем линейную модель "
   ]
  },
  {
   "cell_type": "code",
   "execution_count": 48,
   "id": "d05ec6cd-6ff4-46ce-b341-02239b0007d4",
   "metadata": {},
   "outputs": [],
   "source": [
    "log_clf = LogisticRegression()\n",
    "\n",
    "params_log = {\n",
    "    'C': [0.0005, 0.005, 0.05,0.5],\n",
    "    'max_iter':[50,60,70,80,90,100]\n",
    "}\n",
    "\n",
    "rand_log = RandomizedSearchCV(log_clf, params_log, cv=5, random_state=17)"
   ]
  },
  {
   "cell_type": "code",
   "execution_count": 49,
   "id": "f6f45748-0de7-4e35-8a1b-02903ffe1a51",
   "metadata": {},
   "outputs": [
    {
     "data": {
      "text/html": [
       "<style>#sk-container-id-3 {color: black;background-color: white;}#sk-container-id-3 pre{padding: 0;}#sk-container-id-3 div.sk-toggleable {background-color: white;}#sk-container-id-3 label.sk-toggleable__label {cursor: pointer;display: block;width: 100%;margin-bottom: 0;padding: 0.3em;box-sizing: border-box;text-align: center;}#sk-container-id-3 label.sk-toggleable__label-arrow:before {content: \"▸\";float: left;margin-right: 0.25em;color: #696969;}#sk-container-id-3 label.sk-toggleable__label-arrow:hover:before {color: black;}#sk-container-id-3 div.sk-estimator:hover label.sk-toggleable__label-arrow:before {color: black;}#sk-container-id-3 div.sk-toggleable__content {max-height: 0;max-width: 0;overflow: hidden;text-align: left;background-color: #f0f8ff;}#sk-container-id-3 div.sk-toggleable__content pre {margin: 0.2em;color: black;border-radius: 0.25em;background-color: #f0f8ff;}#sk-container-id-3 input.sk-toggleable__control:checked~div.sk-toggleable__content {max-height: 200px;max-width: 100%;overflow: auto;}#sk-container-id-3 input.sk-toggleable__control:checked~label.sk-toggleable__label-arrow:before {content: \"▾\";}#sk-container-id-3 div.sk-estimator input.sk-toggleable__control:checked~label.sk-toggleable__label {background-color: #d4ebff;}#sk-container-id-3 div.sk-label input.sk-toggleable__control:checked~label.sk-toggleable__label {background-color: #d4ebff;}#sk-container-id-3 input.sk-hidden--visually {border: 0;clip: rect(1px 1px 1px 1px);clip: rect(1px, 1px, 1px, 1px);height: 1px;margin: -1px;overflow: hidden;padding: 0;position: absolute;width: 1px;}#sk-container-id-3 div.sk-estimator {font-family: monospace;background-color: #f0f8ff;border: 1px dotted black;border-radius: 0.25em;box-sizing: border-box;margin-bottom: 0.5em;}#sk-container-id-3 div.sk-estimator:hover {background-color: #d4ebff;}#sk-container-id-3 div.sk-parallel-item::after {content: \"\";width: 100%;border-bottom: 1px solid gray;flex-grow: 1;}#sk-container-id-3 div.sk-label:hover label.sk-toggleable__label {background-color: #d4ebff;}#sk-container-id-3 div.sk-serial::before {content: \"\";position: absolute;border-left: 1px solid gray;box-sizing: border-box;top: 0;bottom: 0;left: 50%;z-index: 0;}#sk-container-id-3 div.sk-serial {display: flex;flex-direction: column;align-items: center;background-color: white;padding-right: 0.2em;padding-left: 0.2em;position: relative;}#sk-container-id-3 div.sk-item {position: relative;z-index: 1;}#sk-container-id-3 div.sk-parallel {display: flex;align-items: stretch;justify-content: center;background-color: white;position: relative;}#sk-container-id-3 div.sk-item::before, #sk-container-id-3 div.sk-parallel-item::before {content: \"\";position: absolute;border-left: 1px solid gray;box-sizing: border-box;top: 0;bottom: 0;left: 50%;z-index: -1;}#sk-container-id-3 div.sk-parallel-item {display: flex;flex-direction: column;z-index: 1;position: relative;background-color: white;}#sk-container-id-3 div.sk-parallel-item:first-child::after {align-self: flex-end;width: 50%;}#sk-container-id-3 div.sk-parallel-item:last-child::after {align-self: flex-start;width: 50%;}#sk-container-id-3 div.sk-parallel-item:only-child::after {width: 0;}#sk-container-id-3 div.sk-dashed-wrapped {border: 1px dashed gray;margin: 0 0.4em 0.5em 0.4em;box-sizing: border-box;padding-bottom: 0.4em;background-color: white;}#sk-container-id-3 div.sk-label label {font-family: monospace;font-weight: bold;display: inline-block;line-height: 1.2em;}#sk-container-id-3 div.sk-label-container {text-align: center;}#sk-container-id-3 div.sk-container {/* jupyter's `normalize.less` sets `[hidden] { display: none; }` but bootstrap.min.css set `[hidden] { display: none !important; }` so we also need the `!important` here to be able to override the default hidden behavior on the sphinx rendered scikit-learn.org. See: https://github.com/scikit-learn/scikit-learn/issues/21755 */display: inline-block !important;position: relative;}#sk-container-id-3 div.sk-text-repr-fallback {display: none;}</style><div id=\"sk-container-id-3\" class=\"sk-top-container\"><div class=\"sk-text-repr-fallback\"><pre>RandomizedSearchCV(cv=5, estimator=LogisticRegression(),\n",
       "                   param_distributions={&#x27;C&#x27;: [0.0005, 0.005, 0.05, 0.5],\n",
       "                                        &#x27;max_iter&#x27;: [50, 60, 70, 80, 90, 100]},\n",
       "                   random_state=17)</pre><b>In a Jupyter environment, please rerun this cell to show the HTML representation or trust the notebook. <br />On GitHub, the HTML representation is unable to render, please try loading this page with nbviewer.org.</b></div><div class=\"sk-container\" hidden><div class=\"sk-item sk-dashed-wrapped\"><div class=\"sk-label-container\"><div class=\"sk-label sk-toggleable\"><input class=\"sk-toggleable__control sk-hidden--visually\" id=\"sk-estimator-id-7\" type=\"checkbox\" ><label for=\"sk-estimator-id-7\" class=\"sk-toggleable__label sk-toggleable__label-arrow\">RandomizedSearchCV</label><div class=\"sk-toggleable__content\"><pre>RandomizedSearchCV(cv=5, estimator=LogisticRegression(),\n",
       "                   param_distributions={&#x27;C&#x27;: [0.0005, 0.005, 0.05, 0.5],\n",
       "                                        &#x27;max_iter&#x27;: [50, 60, 70, 80, 90, 100]},\n",
       "                   random_state=17)</pre></div></div></div><div class=\"sk-parallel\"><div class=\"sk-parallel-item\"><div class=\"sk-item\"><div class=\"sk-label-container\"><div class=\"sk-label sk-toggleable\"><input class=\"sk-toggleable__control sk-hidden--visually\" id=\"sk-estimator-id-8\" type=\"checkbox\" ><label for=\"sk-estimator-id-8\" class=\"sk-toggleable__label sk-toggleable__label-arrow\">estimator: LogisticRegression</label><div class=\"sk-toggleable__content\"><pre>LogisticRegression()</pre></div></div></div><div class=\"sk-serial\"><div class=\"sk-item\"><div class=\"sk-estimator sk-toggleable\"><input class=\"sk-toggleable__control sk-hidden--visually\" id=\"sk-estimator-id-9\" type=\"checkbox\" ><label for=\"sk-estimator-id-9\" class=\"sk-toggleable__label sk-toggleable__label-arrow\">LogisticRegression</label><div class=\"sk-toggleable__content\"><pre>LogisticRegression()</pre></div></div></div></div></div></div></div></div></div></div>"
      ],
      "text/plain": [
       "RandomizedSearchCV(cv=5, estimator=LogisticRegression(),\n",
       "                   param_distributions={'C': [0.0005, 0.005, 0.05, 0.5],\n",
       "                                        'max_iter': [50, 60, 70, 80, 90, 100]},\n",
       "                   random_state=17)"
      ]
     },
     "execution_count": 49,
     "metadata": {},
     "output_type": "execute_result"
    }
   ],
   "source": [
    "rand_log.fit(X_train,y_train)"
   ]
  },
  {
   "cell_type": "code",
   "execution_count": 50,
   "id": "521d9c5d-df1b-45e1-8db5-4a9752be02b6",
   "metadata": {},
   "outputs": [
    {
     "data": {
      "text/plain": [
       "{'max_iter': 90, 'C': 0.005}"
      ]
     },
     "execution_count": 50,
     "metadata": {},
     "output_type": "execute_result"
    }
   ],
   "source": [
    "rand_log.best_params_"
   ]
  },
  {
   "cell_type": "code",
   "execution_count": 51,
   "id": "79c8cbcf-8875-439f-b087-b9c9efd7f217",
   "metadata": {},
   "outputs": [
    {
     "name": "stdout",
     "output_type": "stream",
     "text": [
      "Precision : 0.13236929922135707\n",
      "F1 : 0.23379174852652262\n",
      "ROC AUC : 0.5\n"
     ]
    }
   ],
   "source": [
    "log_bes = rand_log.best_estimator_\n",
    "\n",
    "pred_log = log_bes.predict(X_valid)\n",
    "\n",
    "pred_log =  np.array([int(not x) for x in pred_log.astype(bool)])\n",
    "\n",
    "print(f'Precision : {precision_score(y_valid,pred_log)}')\n",
    "print(f'F1 : {f1_score(y_valid,pred_log)}')\n",
    "print(f'ROC AUC : {roc_auc_score(y_valid,pred_log)}')"
   ]
  },
  {
   "cell_type": "markdown",
   "id": "55783317-d31e-4bd7-b177-e46704560d85",
   "metadata": {},
   "source": [
    "## случайный лес"
   ]
  },
  {
   "cell_type": "code",
   "execution_count": 52,
   "id": "4475819c-526d-442c-a784-dc99dba1491b",
   "metadata": {},
   "outputs": [
    {
     "data": {
      "text/html": [
       "<style>#sk-container-id-4 {color: black;background-color: white;}#sk-container-id-4 pre{padding: 0;}#sk-container-id-4 div.sk-toggleable {background-color: white;}#sk-container-id-4 label.sk-toggleable__label {cursor: pointer;display: block;width: 100%;margin-bottom: 0;padding: 0.3em;box-sizing: border-box;text-align: center;}#sk-container-id-4 label.sk-toggleable__label-arrow:before {content: \"▸\";float: left;margin-right: 0.25em;color: #696969;}#sk-container-id-4 label.sk-toggleable__label-arrow:hover:before {color: black;}#sk-container-id-4 div.sk-estimator:hover label.sk-toggleable__label-arrow:before {color: black;}#sk-container-id-4 div.sk-toggleable__content {max-height: 0;max-width: 0;overflow: hidden;text-align: left;background-color: #f0f8ff;}#sk-container-id-4 div.sk-toggleable__content pre {margin: 0.2em;color: black;border-radius: 0.25em;background-color: #f0f8ff;}#sk-container-id-4 input.sk-toggleable__control:checked~div.sk-toggleable__content {max-height: 200px;max-width: 100%;overflow: auto;}#sk-container-id-4 input.sk-toggleable__control:checked~label.sk-toggleable__label-arrow:before {content: \"▾\";}#sk-container-id-4 div.sk-estimator input.sk-toggleable__control:checked~label.sk-toggleable__label {background-color: #d4ebff;}#sk-container-id-4 div.sk-label input.sk-toggleable__control:checked~label.sk-toggleable__label {background-color: #d4ebff;}#sk-container-id-4 input.sk-hidden--visually {border: 0;clip: rect(1px 1px 1px 1px);clip: rect(1px, 1px, 1px, 1px);height: 1px;margin: -1px;overflow: hidden;padding: 0;position: absolute;width: 1px;}#sk-container-id-4 div.sk-estimator {font-family: monospace;background-color: #f0f8ff;border: 1px dotted black;border-radius: 0.25em;box-sizing: border-box;margin-bottom: 0.5em;}#sk-container-id-4 div.sk-estimator:hover {background-color: #d4ebff;}#sk-container-id-4 div.sk-parallel-item::after {content: \"\";width: 100%;border-bottom: 1px solid gray;flex-grow: 1;}#sk-container-id-4 div.sk-label:hover label.sk-toggleable__label {background-color: #d4ebff;}#sk-container-id-4 div.sk-serial::before {content: \"\";position: absolute;border-left: 1px solid gray;box-sizing: border-box;top: 0;bottom: 0;left: 50%;z-index: 0;}#sk-container-id-4 div.sk-serial {display: flex;flex-direction: column;align-items: center;background-color: white;padding-right: 0.2em;padding-left: 0.2em;position: relative;}#sk-container-id-4 div.sk-item {position: relative;z-index: 1;}#sk-container-id-4 div.sk-parallel {display: flex;align-items: stretch;justify-content: center;background-color: white;position: relative;}#sk-container-id-4 div.sk-item::before, #sk-container-id-4 div.sk-parallel-item::before {content: \"\";position: absolute;border-left: 1px solid gray;box-sizing: border-box;top: 0;bottom: 0;left: 50%;z-index: -1;}#sk-container-id-4 div.sk-parallel-item {display: flex;flex-direction: column;z-index: 1;position: relative;background-color: white;}#sk-container-id-4 div.sk-parallel-item:first-child::after {align-self: flex-end;width: 50%;}#sk-container-id-4 div.sk-parallel-item:last-child::after {align-self: flex-start;width: 50%;}#sk-container-id-4 div.sk-parallel-item:only-child::after {width: 0;}#sk-container-id-4 div.sk-dashed-wrapped {border: 1px dashed gray;margin: 0 0.4em 0.5em 0.4em;box-sizing: border-box;padding-bottom: 0.4em;background-color: white;}#sk-container-id-4 div.sk-label label {font-family: monospace;font-weight: bold;display: inline-block;line-height: 1.2em;}#sk-container-id-4 div.sk-label-container {text-align: center;}#sk-container-id-4 div.sk-container {/* jupyter's `normalize.less` sets `[hidden] { display: none; }` but bootstrap.min.css set `[hidden] { display: none !important; }` so we also need the `!important` here to be able to override the default hidden behavior on the sphinx rendered scikit-learn.org. See: https://github.com/scikit-learn/scikit-learn/issues/21755 */display: inline-block !important;position: relative;}#sk-container-id-4 div.sk-text-repr-fallback {display: none;}</style><div id=\"sk-container-id-4\" class=\"sk-top-container\"><div class=\"sk-text-repr-fallback\"><pre>RandomForestClassifier(max_depth=5, n_estimators=5000, n_jobs=-1)</pre><b>In a Jupyter environment, please rerun this cell to show the HTML representation or trust the notebook. <br />On GitHub, the HTML representation is unable to render, please try loading this page with nbviewer.org.</b></div><div class=\"sk-container\" hidden><div class=\"sk-item\"><div class=\"sk-estimator sk-toggleable\"><input class=\"sk-toggleable__control sk-hidden--visually\" id=\"sk-estimator-id-10\" type=\"checkbox\" checked><label for=\"sk-estimator-id-10\" class=\"sk-toggleable__label sk-toggleable__label-arrow\">RandomForestClassifier</label><div class=\"sk-toggleable__content\"><pre>RandomForestClassifier(max_depth=5, n_estimators=5000, n_jobs=-1)</pre></div></div></div></div></div>"
      ],
      "text/plain": [
       "RandomForestClassifier(max_depth=5, n_estimators=5000, n_jobs=-1)"
      ]
     },
     "execution_count": 52,
     "metadata": {},
     "output_type": "execute_result"
    }
   ],
   "source": [
    "forest_clf = RandomForestClassifier(n_estimators=5000,n_jobs=-1,max_depth=5)\n",
    "\n",
    "forest_clf.fit(X_train,y_train)"
   ]
  },
  {
   "cell_type": "code",
   "execution_count": 53,
   "id": "9d540b4b-072f-4ba5-bf48-40ac88269fc8",
   "metadata": {},
   "outputs": [
    {
     "name": "stdout",
     "output_type": "stream",
     "text": [
      "Precision : 0.0\n",
      "F1 : 0.0\n",
      "ROC AUC : 0.5\n"
     ]
    }
   ],
   "source": [
    "\n",
    "forest_pred = forest_clf.predict(X_valid)\n",
    "\n",
    "print(f'Precision : {precision_score(y_valid,forest_pred)}')\n",
    "print(f'F1 : {f1_score(y_valid,forest_pred)}')\n",
    "print(f'ROC AUC : {roc_auc_score(y_valid,forest_pred)}')"
   ]
  },
  {
   "cell_type": "markdown",
   "id": "e3fb11b0-d9e2-429e-a3f8-a8be692f4d97",
   "metadata": {
    "tags": []
   },
   "source": [
    "### как видим не одна модель не выдает адекватных результатов пора усомниться в корректности подготовки данных, вероятно я не выявил нужные признаки, но для уверенности посмотрим как справиться нейронная сеть"
   ]
  },
  {
   "cell_type": "code",
   "execution_count": 54,
   "id": "0d255143-0945-414a-bbe8-e2597eb9ce74",
   "metadata": {},
   "outputs": [],
   "source": [
    "import torch\n",
    "import torch.nn as nn\n",
    "from torch.optim import lr_scheduler\n",
    "\n",
    "\n",
    "num_epoch = 100\n",
    "batch_size = 100\n",
    "learning_rate = 0.001\n",
    "\n",
    "\n",
    "class BinaryClassification(nn.Module):\n",
    "    def __init__(self):\n",
    "        super(BinaryClassification, self).__init__()\n",
    "        # Number of input features is 12.\n",
    "        self.layer_1 = nn.Linear(218, 150) \n",
    "        self.layer_2 = nn.Linear(150,150)\n",
    "        self.layer_out = nn.Linear(150, 1) \n",
    "        \n",
    "        self.relu = nn.ReLU()\n",
    "        self.dropout = nn.Dropout(p=0.1)\n",
    "        self.batchnorm1 = nn.BatchNorm1d(150)\n",
    "        self.batchnorm2 = nn.BatchNorm1d(150)\n",
    "        \n",
    "    def forward(self, inputs):\n",
    "        x = self.relu(self.layer_1(inputs))\n",
    "        x = self.batchnorm1(x)\n",
    "        x = self.relu(self.layer_2(x))\n",
    "        x = self.batchnorm2(x)\n",
    "        x = self.dropout(x)\n",
    "        x = self.layer_out(x)\n",
    "        \n",
    "        return x\n",
    "\n",
    "model = BinaryClassification()\n",
    "\n",
    "criterion = nn.BCEWithLogitsLoss()\n",
    "\n",
    "optimizer = torch.optim.Adam(model.parameters(), lr=learning_rate)  \n",
    "\n",
    "scheduler = lr_scheduler.StepLR(optimizer, step_size=0.01, gamma=0.1)\n",
    "\n",
    "X = torch.tensor(train_data.drop(['blocked','contract_id'], axis=1).values,dtype=torch.float32)\n",
    "y = torch.tensor(train_data['blocked'].values,dtype=torch.float32)\n",
    "\n",
    "X_train, X_valid, y_train, y_valid = train_test_split(X,y,test_size=0.3, random_state=5)\n",
    "\n",
    "# Train the model\n",
    "for epoch in range(num_epoch):\n",
    "    \n",
    "    start_index = 0\n",
    "    i = 1\n",
    "    while start_index + batch_size <= X_train.size(0):  \n",
    "        objects = X_train[start_index:start_index+batch_size]\n",
    "        labels = y_train[start_index:start_index+batch_size]\n",
    "       # Forward pass\n",
    "        outputs = model(objects)\n",
    "        loss = criterion(outputs, labels.reshape(100,1))\n",
    "        \n",
    "        # Backward and optimize\n",
    "        optimizer.zero_grad()\n",
    "        loss.backward()\n",
    "        optimizer.step()\n",
    "        #scheduler.step()\n",
    "        start_index += 100\n",
    "        \n",
    "        if (i+1) % 100== 0:\n",
    "            print (f'Epoch [{epoch+1}/{num_epoch}], Loss: {loss.item():.4f}')\n",
    "        i += 1"
   ]
  },
  {
   "cell_type": "code",
   "execution_count": 55,
   "id": "72c6f345-7f85-4973-8ff7-db5a218ae6c5",
   "metadata": {},
   "outputs": [
    {
     "name": "stdout",
     "output_type": "stream",
     "text": [
      "Precision : 0.1327334083239595\n",
      "F1 : 0.23412698412698413\n",
      "ROC AUC : 0.5015675500969619\n"
     ]
    }
   ],
   "source": [
    "x = 1 / (1 + np.exp(model(X_valid).detach().numpy()))\n",
    "\n",
    "arr_pred = np.array([int(i >= 0.5) for i in x])\n",
    "\n",
    "print(f'Precision : {precision_score(y_valid,arr_pred)}')\n",
    "print(f'F1 : {f1_score(y_valid,arr_pred)}')\n",
    "print(f'ROC AUC : {roc_auc_score(y_valid,arr_pred)}')"
   ]
  },
  {
   "cell_type": "markdown",
   "id": "245e536e-84b3-447f-878f-2d108208bf4b",
   "metadata": {},
   "source": [
    "### хоршие признаки мне найти не удалось поэтому заполним файлик используя модель которая использует contract_id для разделения, где precision получился 1.0"
   ]
  },
  {
   "cell_type": "code",
   "execution_count": 56,
   "id": "e2906a1c-5d67-4964-adcd-7e714e76e251",
   "metadata": {},
   "outputs": [],
   "source": [
    "test_data = clients_data[clients_data['blocked'].isna()]\n",
    "\n",
    "X_test = test_data.drop(['blocked'], axis=1).values\n",
    "\n",
    "predictions = cheat_lgb.predict(X_test)\n",
    "\n"
   ]
  },
  {
   "cell_type": "code",
   "execution_count": 57,
   "id": "26aa37c1-decc-42f0-b596-b8267ec91fc3",
   "metadata": {},
   "outputs": [],
   "source": [
    "result_df = test_data[['contract_id']]\n",
    "result_df['blocked'] = predictions\n"
   ]
  },
  {
   "cell_type": "code",
   "execution_count": 58,
   "id": "740dee8c-cd79-447b-b157-71cfbff3d734",
   "metadata": {},
   "outputs": [
    {
     "data": {
      "text/html": [
       "<div>\n",
       "<style scoped>\n",
       "    .dataframe tbody tr th:only-of-type {\n",
       "        vertical-align: middle;\n",
       "    }\n",
       "\n",
       "    .dataframe tbody tr th {\n",
       "        vertical-align: top;\n",
       "    }\n",
       "\n",
       "    .dataframe thead th {\n",
       "        text-align: right;\n",
       "    }\n",
       "</style>\n",
       "<table border=\"1\" class=\"dataframe\">\n",
       "  <thead>\n",
       "    <tr style=\"text-align: right;\">\n",
       "      <th></th>\n",
       "      <th>contract_id</th>\n",
       "      <th>blocked</th>\n",
       "    </tr>\n",
       "  </thead>\n",
       "  <tbody>\n",
       "    <tr>\n",
       "      <th>5992</th>\n",
       "      <td>275109</td>\n",
       "      <td>1.0</td>\n",
       "    </tr>\n",
       "    <tr>\n",
       "      <th>5993</th>\n",
       "      <td>275285</td>\n",
       "      <td>1.0</td>\n",
       "    </tr>\n",
       "    <tr>\n",
       "      <th>5994</th>\n",
       "      <td>275308</td>\n",
       "      <td>1.0</td>\n",
       "    </tr>\n",
       "    <tr>\n",
       "      <th>5995</th>\n",
       "      <td>275409</td>\n",
       "      <td>1.0</td>\n",
       "    </tr>\n",
       "    <tr>\n",
       "      <th>5996</th>\n",
       "      <td>275628</td>\n",
       "      <td>1.0</td>\n",
       "    </tr>\n",
       "    <tr>\n",
       "      <th>...</th>\n",
       "      <td>...</td>\n",
       "      <td>...</td>\n",
       "    </tr>\n",
       "    <tr>\n",
       "      <th>6795</th>\n",
       "      <td>29299</td>\n",
       "      <td>0.0</td>\n",
       "    </tr>\n",
       "    <tr>\n",
       "      <th>6796</th>\n",
       "      <td>12055</td>\n",
       "      <td>0.0</td>\n",
       "    </tr>\n",
       "    <tr>\n",
       "      <th>6797</th>\n",
       "      <td>28564</td>\n",
       "      <td>0.0</td>\n",
       "    </tr>\n",
       "    <tr>\n",
       "      <th>6798</th>\n",
       "      <td>11901</td>\n",
       "      <td>0.0</td>\n",
       "    </tr>\n",
       "    <tr>\n",
       "      <th>6799</th>\n",
       "      <td>31754</td>\n",
       "      <td>0.0</td>\n",
       "    </tr>\n",
       "  </tbody>\n",
       "</table>\n",
       "<p>808 rows × 2 columns</p>\n",
       "</div>"
      ],
      "text/plain": [
       "      contract_id  blocked\n",
       "5992       275109      1.0\n",
       "5993       275285      1.0\n",
       "5994       275308      1.0\n",
       "5995       275409      1.0\n",
       "5996       275628      1.0\n",
       "...           ...      ...\n",
       "6795        29299      0.0\n",
       "6796        12055      0.0\n",
       "6797        28564      0.0\n",
       "6798        11901      0.0\n",
       "6799        31754      0.0\n",
       "\n",
       "[808 rows x 2 columns]"
      ]
     },
     "execution_count": 58,
     "metadata": {},
     "output_type": "execute_result"
    }
   ],
   "source": [
    "result_df"
   ]
  },
  {
   "cell_type": "markdown",
   "id": "8822552e-402a-4226-ab63-a7e882bc4023",
   "metadata": {},
   "source": [
    "### не забываем про тех двоих которых потеряли "
   ]
  },
  {
   "cell_type": "code",
   "execution_count": 59,
   "id": "9f38f16a-7aed-4bb4-b0c6-eb5ecf0e88ee",
   "metadata": {},
   "outputs": [
    {
     "data": {
      "text/html": [
       "<div>\n",
       "<style scoped>\n",
       "    .dataframe tbody tr th:only-of-type {\n",
       "        vertical-align: middle;\n",
       "    }\n",
       "\n",
       "    .dataframe tbody tr th {\n",
       "        vertical-align: top;\n",
       "    }\n",
       "\n",
       "    .dataframe thead th {\n",
       "        text-align: right;\n",
       "    }\n",
       "</style>\n",
       "<table border=\"1\" class=\"dataframe\">\n",
       "  <thead>\n",
       "    <tr style=\"text-align: right;\">\n",
       "      <th></th>\n",
       "      <th>contract_id</th>\n",
       "      <th>blocked</th>\n",
       "    </tr>\n",
       "  </thead>\n",
       "  <tbody>\n",
       "    <tr>\n",
       "      <th>0</th>\n",
       "      <td>9777</td>\n",
       "      <td>0</td>\n",
       "    </tr>\n",
       "    <tr>\n",
       "      <th>1</th>\n",
       "      <td>8188</td>\n",
       "      <td>0</td>\n",
       "    </tr>\n",
       "  </tbody>\n",
       "</table>\n",
       "</div>"
      ],
      "text/plain": [
       "   contract_id  blocked\n",
       "0         9777        0\n",
       "1         8188        0"
      ]
     },
     "execution_count": 59,
     "metadata": {},
     "output_type": "execute_result"
    }
   ],
   "source": [
    "contract_1, contract_2 = missing_contracts\n",
    "\n",
    "value_1 = train_df.loc[train_df['contract_id'] == contract_1,'blocked'].values[0]\n",
    "value_2 = train_df.loc[train_df['contract_id'] == contract_2,'blocked'].values[0]\n",
    "\n",
    "miss_contracts_df = pd.DataFrame([[contract_1,value_1],[contract_2,value_2]], columns=['contract_id','blocked'])\n",
    "miss_contracts_df\n"
   ]
  },
  {
   "cell_type": "code",
   "execution_count": 60,
   "id": "969eb011-30ea-45f4-abbe-a6a2ad6d568b",
   "metadata": {},
   "outputs": [
    {
     "name": "stdout",
     "output_type": "stream",
     "text": [
      "(810, 2)\n"
     ]
    },
    {
     "data": {
      "text/html": [
       "<div>\n",
       "<style scoped>\n",
       "    .dataframe tbody tr th:only-of-type {\n",
       "        vertical-align: middle;\n",
       "    }\n",
       "\n",
       "    .dataframe tbody tr th {\n",
       "        vertical-align: top;\n",
       "    }\n",
       "\n",
       "    .dataframe thead th {\n",
       "        text-align: right;\n",
       "    }\n",
       "</style>\n",
       "<table border=\"1\" class=\"dataframe\">\n",
       "  <thead>\n",
       "    <tr style=\"text-align: right;\">\n",
       "      <th></th>\n",
       "      <th>contract_id</th>\n",
       "      <th>blocked</th>\n",
       "    </tr>\n",
       "  </thead>\n",
       "  <tbody>\n",
       "    <tr>\n",
       "      <th>5992</th>\n",
       "      <td>275109</td>\n",
       "      <td>1.0</td>\n",
       "    </tr>\n",
       "    <tr>\n",
       "      <th>5993</th>\n",
       "      <td>275285</td>\n",
       "      <td>1.0</td>\n",
       "    </tr>\n",
       "    <tr>\n",
       "      <th>5994</th>\n",
       "      <td>275308</td>\n",
       "      <td>1.0</td>\n",
       "    </tr>\n",
       "    <tr>\n",
       "      <th>5995</th>\n",
       "      <td>275409</td>\n",
       "      <td>1.0</td>\n",
       "    </tr>\n",
       "    <tr>\n",
       "      <th>5996</th>\n",
       "      <td>275628</td>\n",
       "      <td>1.0</td>\n",
       "    </tr>\n",
       "  </tbody>\n",
       "</table>\n",
       "</div>"
      ],
      "text/plain": [
       "      contract_id  blocked\n",
       "5992       275109      1.0\n",
       "5993       275285      1.0\n",
       "5994       275308      1.0\n",
       "5995       275409      1.0\n",
       "5996       275628      1.0"
      ]
     },
     "execution_count": 60,
     "metadata": {},
     "output_type": "execute_result"
    }
   ],
   "source": [
    "result_df = pd.concat((result_df,miss_contracts_df))\n",
    "\n",
    "print(result_df.shape)\n",
    "result_df.head()"
   ]
  },
  {
   "cell_type": "code",
   "execution_count": 63,
   "id": "28a4dc3d-f1df-482e-ada0-77abd4f24092",
   "metadata": {},
   "outputs": [
    {
     "data": {
      "text/plain": [
       "810"
      ]
     },
     "execution_count": 63,
     "metadata": {},
     "output_type": "execute_result"
    }
   ],
   "source": [
    "len(test_df['contract_id'].unique())"
   ]
  }
 ],
 "metadata": {
  "kernelspec": {
   "display_name": "Python 3 (ipykernel)",
   "language": "python",
   "name": "python3"
  },
  "language_info": {
   "codemirror_mode": {
    "name": "ipython",
    "version": 3
   },
   "file_extension": ".py",
   "mimetype": "text/x-python",
   "name": "python",
   "nbconvert_exporter": "python",
   "pygments_lexer": "ipython3",
   "version": "3.10.8"
  }
 },
 "nbformat": 4,
 "nbformat_minor": 5
}
