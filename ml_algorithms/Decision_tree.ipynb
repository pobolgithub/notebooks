{
 "cells": [
  {
   "cell_type": "code",
   "execution_count": 1,
   "id": "b31ee777-5349-4772-b2e7-46070e711131",
   "metadata": {},
   "outputs": [],
   "source": [
    "import numpy as np\n",
    "import pandas as pd\n"
   ]
  },
  {
   "cell_type": "code",
   "execution_count": null,
   "id": "a17d8377-e6c7-40a4-b394-6a379aa88b99",
   "metadata": {},
   "outputs": [],
   "source": [
    "\n",
    "class DecisionTreeClassifier():\n",
    "    \n",
    "    def __init__(self, criterion='gini', max_depth=None, min_samples_split=2, min_samples_leaf=1,random_state=None):\n",
    "        self.criterion = criterion\n",
    "        self.max_depth = max_depth\n",
    "        self.min_samples_split = min_samples_split\n",
    "        self.min_samples_leaf = min_samples_leaf\n",
    "        self.random_state = random_state\n",
    "        \n",
    "    def fit(self,X,y):\n",
    "        \n",
    "    \n",
    "    if self.max_depth != None:\n",
    "        c_matrix = np.concatenate((X,y), axis=1)\n",
    "        for i in range(self.max_depth):\n",
    "            used_features = []# здесь пары разделяющий вопрос значение параметра\n",
    "            for col in range(X.shape[1]):#для кажой колонки\n",
    "                split_quest = pd.DataFrame()\n",
    "                if col not in used_features:\n",
    "                    \n",
    "                    \n",
    "        \n",
    "        \n",
    "        \n",
    "        "
   ]
  },
  {
   "cell_type": "code",
   "execution_count": null,
   "id": "a90908a6-93f6-4204-9405-818c0e651d4c",
   "metadata": {},
   "outputs": [],
   "source": [
    "criterion='gini',\n",
    "    splitter='best',\n",
    "    max_depth=None,\n",
    "    min_samples_split=2,\n",
    "    min_samples_leaf=1,\n",
    "    min_weight_fraction_leaf=0.0,\n",
    "    max_features=None,\n",
    "    random_state=None,\n",
    "    max_leaf_nodes=None,\n",
    "    min_impurity_decrease=0.0,\n",
    "    class_weight=None,\n",
    "    ccp_alpha=0"
   ]
  },
  {
   "cell_type": "code",
   "execution_count": 22,
   "id": "0f908f39-69a8-4533-8601-2edfd315c619",
   "metadata": {},
   "outputs": [
    {
     "data": {
      "text/plain": [
       "array([[1., 1., 1., 1., 1., 1.],\n",
       "       [1., 1., 1., 1., 1., 1.],\n",
       "       [1., 1., 1., 1., 1., 1.],\n",
       "       [1., 1., 1., 1., 1., 1.],\n",
       "       [1., 1., 1., 1., 1., 1.]])"
      ]
     },
     "execution_count": 22,
     "metadata": {},
     "output_type": "execute_result"
    }
   ],
   "source": [
    "ey = -4/10 * np.log2(4/10) - 6/10 * np.log2(6/10)\n",
    "\n",
    "ex = (5/10 * (-1/5 * np.log2(1/5) - 4/5 * np.log2(4/5)))\n",
    "ex = 0\n",
    "ig = ey - ex\n",
    "round(ig,2)\n",
    "\n",
    "X = np.ones(25).reshape(5,5)\n",
    "y = np.ones(5).reshape(5,1)\n",
    "\n",
    "X1 = np.concatenate((X,y), axis=1)\n",
    "X1"
   ]
  }
 ],
 "metadata": {
  "kernelspec": {
   "display_name": "Python 3 (ipykernel)",
   "language": "python",
   "name": "python3"
  },
  "language_info": {
   "codemirror_mode": {
    "name": "ipython",
    "version": 3
   },
   "file_extension": ".py",
   "mimetype": "text/x-python",
   "name": "python",
   "nbconvert_exporter": "python",
   "pygments_lexer": "ipython3",
   "version": "3.10.8"
  }
 },
 "nbformat": 4,
 "nbformat_minor": 5
}
