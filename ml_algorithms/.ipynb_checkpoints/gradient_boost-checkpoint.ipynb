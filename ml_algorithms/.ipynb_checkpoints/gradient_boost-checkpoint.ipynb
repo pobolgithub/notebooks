{
 "cells": [
  {
   "cell_type": "code",
   "execution_count": 1,
   "id": "d2b1d175",
   "metadata": {},
   "outputs": [],
   "source": [
    "import pandas as pd\n",
    "import numpy as np"
   ]
  },
  {
   "cell_type": "code",
   "execution_count": null,
   "id": "97b5bb7b",
   "metadata": {},
   "outputs": [],
   "source": [
    "class adaboost():\n",
    "    def __init__(self, n_estimators, base_algorithm)\n",
    "    self.n_estimators:\n",
    "        = n_estimators,\n",
    "    self.base_algorithm = base_algorithm\n",
    "    self.errors = []\n",
    "    \n",
    "    \n",
    "    \n",
    "    def fit(Xs,ys):\n",
    "        X = Xs.copy()\n",
    "        y = ys.copy()\n",
    "        \n",
    "        if type(X) != np.ndarray:\n",
    "            X = X.values\n",
    "        elif type(y) != np.ndarray:\n",
    "            y = y.values\n",
    "    \n",
    "        if X.isna().sum().sum() != 0:\n",
    "            return 'X have a miss values'\n",
    "        elif X.isna().sum().sum() != 0:\n",
    "            return 'y have a miss values'\n",
    "        \n",
    "        if np.unique(y) == y.shape[0]:\n",
    "            task = 'regression'\n",
    "        else:\n",
    "            task = 'classification'\n",
    "            \n",
    "        w = np.ones((1,X[0].shape[0]))/X.shape[0]\n",
    "        \n",
    "        if task = 'regression':\n",
    "            errors = y\n",
    "            for t in range(self.n_estimators):\n",
    "                stump = DecisionTreeRegressor(max_depth = 1)\n",
    "                stump.fit(X,errors)\n",
    "                b = stump.predict(X)\n",
    "                \n",
    "                errors = (y - b)\n",
    "\n",
    "                at = (1/2) * np.log( (1-mse)/mse )\n",
    "                \n",
    "                for i in range(X.shape[0]):\n",
    "                    w[i] = w[i] * np.exp(-at * y[i] * b[i])\n",
    "                \n",
    "                # нормируем веса \n",
    "                w /= sum(w)\n",
    "                \n"
   ]
  },
  {
   "cell_type": "code",
   "execution_count": 30,
   "id": "868405f1",
   "metadata": {},
   "outputs": [],
   "source": [
    "d = np.ones((1,4))"
   ]
  },
  {
   "cell_type": "code",
   "execution_count": 47,
   "id": "cd8f6db0",
   "metadata": {},
   "outputs": [
    {
     "data": {
      "text/plain": [
       "3"
      ]
     },
     "execution_count": 47,
     "metadata": {},
     "output_type": "execute_result"
    }
   ],
   "source": [
    "a = np.array([2,2,2,2]).reshape(4,1)\n",
    "\n",
    "x = pd.DataFrame([[3,3],[2,2],[4,4]], columns=['col1','col2'])\n",
    "np.array(x).shape[0]\n"
   ]
  }
 ],
 "metadata": {
  "kernelspec": {
   "display_name": "Python 3 (ipykernel)",
   "language": "python",
   "name": "python3"
  },
  "language_info": {
   "codemirror_mode": {
    "name": "ipython",
    "version": 3
   },
   "file_extension": ".py",
   "mimetype": "text/x-python",
   "name": "python",
   "nbconvert_exporter": "python",
   "pygments_lexer": "ipython3",
   "version": "3.9.12"
  }
 },
 "nbformat": 4,
 "nbformat_minor": 5
}
