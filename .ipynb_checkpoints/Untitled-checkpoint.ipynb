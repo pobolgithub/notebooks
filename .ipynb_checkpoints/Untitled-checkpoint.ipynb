{
 "cells": [
  {
   "cell_type": "code",
   "execution_count": 2,
   "id": "27ac865f-f9dc-4312-bc7a-d525f45c38cc",
   "metadata": {},
   "outputs": [],
   "source": [
    "import torch "
   ]
  },
  {
   "cell_type": "code",
   "execution_count": 15,
   "id": "f96e7842-57c1-4a8a-9ca1-f15032a3bf9b",
   "metadata": {},
   "outputs": [
    {
     "name": "stdout",
     "output_type": "stream",
     "text": [
      "tensor([ 24.0965,  32.0925,  40.1942, -25.5682,  16.8913,  20.0651])\n"
     ]
    }
   ],
   "source": [
    "\n",
    "weights = torch.ones(4,)\n"
   ]
  },
  {
   "cell_type": "code",
   "execution_count": 16,
   "id": "eb561a9b-2c8a-4a89-b889-9482952f175e",
   "metadata": {},
   "outputs": [
    {
     "data": {
      "text/plain": [
       "tensor([ 1.0121,  0.6744,  0.5121, -3.2784,  0.1114,  0.5081])"
      ]
     },
     "execution_count": 16,
     "metadata": {},
     "output_type": "execute_result"
    }
   ],
   "source": [
    "x.requires_grad_(False)\n"
   ]
  },
  {
   "cell_type": "code",
   "execution_count": null,
   "id": "096f9f40-f2a1-4806-b5eb-02f1822654f5",
   "metadata": {},
   "outputs": [],
   "source": []
  }
 ],
 "metadata": {
  "kernelspec": {
   "display_name": "Python 3 (ipykernel)",
   "language": "python",
   "name": "python3"
  },
  "language_info": {
   "codemirror_mode": {
    "name": "ipython",
    "version": 3
   },
   "file_extension": ".py",
   "mimetype": "text/x-python",
   "name": "python",
   "nbconvert_exporter": "python",
   "pygments_lexer": "ipython3",
   "version": "3.10.8"
  }
 },
 "nbformat": 4,
 "nbformat_minor": 5
}
