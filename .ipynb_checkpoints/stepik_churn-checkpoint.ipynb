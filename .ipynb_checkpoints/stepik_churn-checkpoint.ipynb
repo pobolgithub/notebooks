{
 "cells": [
  {
   "cell_type": "markdown",
   "id": "a613b17e",
   "metadata": {},
   "source": [
    "## Задача: прогноз оттока пользователей с курса по анализу данных в R"
   ]
  },
  {
   "cell_type": "code",
   "execution_count": 2,
   "id": "6d8c4f39",
   "metadata": {},
   "outputs": [],
   "source": [
    "import pandas as pd\n",
    "import numpy as np\n",
    "import seaborn as sns\n",
    "import matplotlib\n",
    "import matplotlib.pyplot as plt\n",
    "\n",
    "%matplotlib inline"
   ]
  },
  {
   "cell_type": "code",
   "execution_count": 35,
   "id": "ca420a7b",
   "metadata": {},
   "outputs": [],
   "source": [
    "#events_data = pd.read_csv('../datasets/events_stepik.csv')\n",
    "events_data = pd.read_csv('../datasets/event_data_train.csv')\n",
    "\n",
    "#submission_data = pd.read_csv('../datasets/submission_stepik.csv')\n",
    "submission_data = pd.read_csv('../datasets/submissions_data_train.csv')\n",
    "\n",
    "# events_data = pd.concat((events_data_1,events_data_2))\n",
    "\n",
    "# submission_data = pd.concat((submission_data_1,submission_data_2))"
   ]
  },
  {
   "cell_type": "code",
   "execution_count": 4,
   "id": "2c07db4e",
   "metadata": {},
   "outputs": [
    {
     "data": {
      "text/html": [
       "<div>\n",
       "<style scoped>\n",
       "    .dataframe tbody tr th:only-of-type {\n",
       "        vertical-align: middle;\n",
       "    }\n",
       "\n",
       "    .dataframe tbody tr th {\n",
       "        vertical-align: top;\n",
       "    }\n",
       "\n",
       "    .dataframe thead th {\n",
       "        text-align: right;\n",
       "    }\n",
       "</style>\n",
       "<table border=\"1\" class=\"dataframe\">\n",
       "  <thead>\n",
       "    <tr style=\"text-align: right;\">\n",
       "      <th></th>\n",
       "      <th>step_id</th>\n",
       "      <th>timestamp</th>\n",
       "      <th>action</th>\n",
       "      <th>user_id</th>\n",
       "    </tr>\n",
       "  </thead>\n",
       "  <tbody>\n",
       "    <tr>\n",
       "      <th>0</th>\n",
       "      <td>30456</td>\n",
       "      <td>1526893787</td>\n",
       "      <td>viewed</td>\n",
       "      <td>24417</td>\n",
       "    </tr>\n",
       "    <tr>\n",
       "      <th>1</th>\n",
       "      <td>30456</td>\n",
       "      <td>1526893797</td>\n",
       "      <td>viewed</td>\n",
       "      <td>24417</td>\n",
       "    </tr>\n",
       "    <tr>\n",
       "      <th>2</th>\n",
       "      <td>30456</td>\n",
       "      <td>1526893954</td>\n",
       "      <td>viewed</td>\n",
       "      <td>24417</td>\n",
       "    </tr>\n",
       "    <tr>\n",
       "      <th>3</th>\n",
       "      <td>30456</td>\n",
       "      <td>1526895780</td>\n",
       "      <td>viewed</td>\n",
       "      <td>24417</td>\n",
       "    </tr>\n",
       "    <tr>\n",
       "      <th>4</th>\n",
       "      <td>30456</td>\n",
       "      <td>1526893787</td>\n",
       "      <td>discovered</td>\n",
       "      <td>24417</td>\n",
       "    </tr>\n",
       "  </tbody>\n",
       "</table>\n",
       "</div>"
      ],
      "text/plain": [
       "   step_id   timestamp      action  user_id\n",
       "0    30456  1526893787      viewed    24417\n",
       "1    30456  1526893797      viewed    24417\n",
       "2    30456  1526893954      viewed    24417\n",
       "3    30456  1526895780      viewed    24417\n",
       "4    30456  1526893787  discovered    24417"
      ]
     },
     "execution_count": 4,
     "metadata": {},
     "output_type": "execute_result"
    }
   ],
   "source": [
    "events_data.head()\n"
   ]
  },
  {
   "cell_type": "code",
   "execution_count": 5,
   "id": "e8f65eab",
   "metadata": {},
   "outputs": [
    {
     "data": {
      "text/plain": [
       "(42261, 4)"
      ]
     },
     "execution_count": 5,
     "metadata": {},
     "output_type": "execute_result"
    }
   ],
   "source": [
    "\n",
    "submission_data.shape"
   ]
  },
  {
   "cell_type": "markdown",
   "id": "81583b31",
   "metadata": {},
   "source": [
    "### Предобработка данных"
   ]
  },
  {
   "cell_type": "code",
   "execution_count": 6,
   "id": "b9ed6ebe",
   "metadata": {},
   "outputs": [],
   "source": [
    "events_data['date'] = pd.to_datetime(events_data['timestamp'],unit='s')\n",
    "events_data['day'] = events_data['date'].dt.date"
   ]
  },
  {
   "cell_type": "markdown",
   "id": "0d865d7b",
   "metadata": {},
   "source": [
    "#### попробуем прогнозированть отток по поведению пользователя за первые 2 дня "
   ]
  },
  {
   "cell_type": "code",
   "execution_count": 7,
   "id": "08aa9ad4",
   "metadata": {},
   "outputs": [],
   "source": [
    "# выбираем из наблюдений первые 2 дня с момента первого действия пользователя\n",
    "\n",
    "#время первого действия\n",
    "min_user_timestamp = events_data.groupby('user_id',as_index=False)\\\n",
    "    .agg({'timestamp':'min'})[['user_id','timestamp']]\\\n",
    "    .rename(columns={'timestamp':'min_timestamp'})\n",
    "\n",
    "events_data = pd.merge(events_data,min_user_timestamp,on='user_id')\n",
    "\n",
    "# timestamp которые не выходят дальше 3 дней с момента первого действия\n",
    "mask = events_data['timestamp'] - events_data['min_timestamp'] <= 2 * 24 * 60 * 60\n",
    "\n",
    "events_2days = events_data[mask]"
   ]
  },
  {
   "cell_type": "code",
   "execution_count": 8,
   "id": "2245b46e",
   "metadata": {},
   "outputs": [],
   "source": [
    "# тоже самое с submission_data\n",
    "\n",
    "min_user_sub_timestamp = submission_data.groupby('user_id',as_index=False)\\\n",
    "    .agg({'timestamp':'min'})[['user_id','timestamp']]\\\n",
    "    .rename(columns={'timestamp':'min_timestamp'})\n",
    "\n",
    "submission_data = pd.merge(submission_data, min_user_sub_timestamp, on='user_id')\n",
    "\n",
    "mask = submission_data['timestamp'] - submission_data['min_timestamp'] <= 2 * 24 * 60 * 60\n",
    "\n",
    "submission_2days = submission_data[mask]"
   ]
  },
  {
   "cell_type": "code",
   "execution_count": 9,
   "id": "1843ede4",
   "metadata": {},
   "outputs": [
    {
     "data": {
      "text/plain": [
       "array(['viewed', 'discovered', 'passed', 'started_attempt'], dtype=object)"
      ]
     },
     "execution_count": 9,
     "metadata": {},
     "output_type": "execute_result"
    }
   ],
   "source": [
    "pd.unique(events_data['action'])"
   ]
  },
  {
   "cell_type": "code",
   "execution_count": 10,
   "id": "bcb5abb3",
   "metadata": {},
   "outputs": [
    {
     "data": {
      "text/html": [
       "<div>\n",
       "<style scoped>\n",
       "    .dataframe tbody tr th:only-of-type {\n",
       "        vertical-align: middle;\n",
       "    }\n",
       "\n",
       "    .dataframe tbody tr th {\n",
       "        vertical-align: top;\n",
       "    }\n",
       "\n",
       "    .dataframe thead th {\n",
       "        text-align: right;\n",
       "    }\n",
       "</style>\n",
       "<table border=\"1\" class=\"dataframe\">\n",
       "  <thead>\n",
       "    <tr style=\"text-align: right;\">\n",
       "      <th>action</th>\n",
       "      <th>user_id</th>\n",
       "      <th>discovered</th>\n",
       "      <th>passed</th>\n",
       "      <th>started_attempt</th>\n",
       "      <th>viewed</th>\n",
       "    </tr>\n",
       "  </thead>\n",
       "  <tbody>\n",
       "    <tr>\n",
       "      <th>0</th>\n",
       "      <td>4</td>\n",
       "      <td>1</td>\n",
       "      <td>1</td>\n",
       "      <td>0</td>\n",
       "      <td>1</td>\n",
       "    </tr>\n",
       "    <tr>\n",
       "      <th>1</th>\n",
       "      <td>6</td>\n",
       "      <td>1</td>\n",
       "      <td>1</td>\n",
       "      <td>0</td>\n",
       "      <td>1</td>\n",
       "    </tr>\n",
       "    <tr>\n",
       "      <th>2</th>\n",
       "      <td>10</td>\n",
       "      <td>2</td>\n",
       "      <td>2</td>\n",
       "      <td>0</td>\n",
       "      <td>6</td>\n",
       "    </tr>\n",
       "    <tr>\n",
       "      <th>3</th>\n",
       "      <td>12</td>\n",
       "      <td>11</td>\n",
       "      <td>9</td>\n",
       "      <td>4</td>\n",
       "      <td>14</td>\n",
       "    </tr>\n",
       "    <tr>\n",
       "      <th>4</th>\n",
       "      <td>13</td>\n",
       "      <td>70</td>\n",
       "      <td>70</td>\n",
       "      <td>35</td>\n",
       "      <td>105</td>\n",
       "    </tr>\n",
       "  </tbody>\n",
       "</table>\n",
       "</div>"
      ],
      "text/plain": [
       "action  user_id  discovered  passed  started_attempt  viewed\n",
       "0             4           1       1                0       1\n",
       "1             6           1       1                0       1\n",
       "2            10           2       2                0       6\n",
       "3            12          11       9                4      14\n",
       "4            13          70      70               35     105"
      ]
     },
     "execution_count": 10,
     "metadata": {},
     "output_type": "execute_result"
    }
   ],
   "source": [
    "users_2days_data = pd.pivot_table(index='user_id',\\\n",
    "                            columns='action',\\\n",
    "                            values='step_id',\\\n",
    "                            aggfunc='count',\\\n",
    "                            data=events_2days,\\\n",
    "                            fill_value=0).reset_index()\n",
    "\n",
    "users_data = pd.pivot_table(index='user_id',\\\n",
    "                            columns='action',\\\n",
    "                            values='step_id',\\\n",
    "                            aggfunc='count',\\\n",
    "                            data=events_data,\\\n",
    "                            fill_value=0).reset_index()\n",
    "users_2days_data.head()"
   ]
  },
  {
   "cell_type": "code",
   "execution_count": 11,
   "id": "acd4251a",
   "metadata": {},
   "outputs": [],
   "source": [
    "sub_tries = submission_2days.groupby('user_id',as_index=False)\\\n",
    "    .agg({'step_id':'count'})[['user_id','step_id']]\\\n",
    "    .rename(columns={'step_id':'steps_treis'})\n",
    "\n",
    "users_2days_data = users_2days_data.merge(sub_tries, on='user_id')"
   ]
  },
  {
   "cell_type": "code",
   "execution_count": 12,
   "id": "f7767120",
   "metadata": {},
   "outputs": [
    {
     "data": {
      "text/html": [
       "<div>\n",
       "<style scoped>\n",
       "    .dataframe tbody tr th:only-of-type {\n",
       "        vertical-align: middle;\n",
       "    }\n",
       "\n",
       "    .dataframe tbody tr th {\n",
       "        vertical-align: top;\n",
       "    }\n",
       "\n",
       "    .dataframe thead th {\n",
       "        text-align: right;\n",
       "    }\n",
       "</style>\n",
       "<table border=\"1\" class=\"dataframe\">\n",
       "  <thead>\n",
       "    <tr style=\"text-align: right;\">\n",
       "      <th>submission_status</th>\n",
       "      <th>user_id</th>\n",
       "      <th>correct_sub</th>\n",
       "      <th>wrong_sub</th>\n",
       "      <th>correct_ratio</th>\n",
       "    </tr>\n",
       "  </thead>\n",
       "  <tbody>\n",
       "    <tr>\n",
       "      <th>0</th>\n",
       "      <td>12</td>\n",
       "      <td>1</td>\n",
       "      <td>0</td>\n",
       "      <td>1.000000</td>\n",
       "    </tr>\n",
       "    <tr>\n",
       "      <th>1</th>\n",
       "      <td>13</td>\n",
       "      <td>29</td>\n",
       "      <td>36</td>\n",
       "      <td>0.446154</td>\n",
       "    </tr>\n",
       "    <tr>\n",
       "      <th>2</th>\n",
       "      <td>15</td>\n",
       "      <td>10</td>\n",
       "      <td>30</td>\n",
       "      <td>0.250000</td>\n",
       "    </tr>\n",
       "    <tr>\n",
       "      <th>3</th>\n",
       "      <td>21</td>\n",
       "      <td>24</td>\n",
       "      <td>103</td>\n",
       "      <td>0.188976</td>\n",
       "    </tr>\n",
       "    <tr>\n",
       "      <th>4</th>\n",
       "      <td>35</td>\n",
       "      <td>7</td>\n",
       "      <td>35</td>\n",
       "      <td>0.166667</td>\n",
       "    </tr>\n",
       "  </tbody>\n",
       "</table>\n",
       "</div>"
      ],
      "text/plain": [
       "submission_status  user_id  correct_sub  wrong_sub  correct_ratio\n",
       "0                       12            1          0       1.000000\n",
       "1                       13           29         36       0.446154\n",
       "2                       15           10         30       0.250000\n",
       "3                       21           24        103       0.188976\n",
       "4                       35            7         35       0.166667"
      ]
     },
     "execution_count": 12,
     "metadata": {},
     "output_type": "execute_result"
    }
   ],
   "source": [
    "correct_and_wrong_sub = pd.pivot_table(index='user_id',\\\n",
    "               columns='submission_status',\\\n",
    "               values='step_id',\\\n",
    "               data=submission_2days,\\\n",
    "               aggfunc='count',\\\n",
    "               fill_value=0).reset_index().rename(columns={'correct':'correct_sub','wrong':'wrong_sub'})\n",
    "\n",
    "correct_and_wrong_sub['correct_ratio'] = correct_and_wrong_sub['correct_sub'] /(correct_and_wrong_sub['correct_sub'] + correct_and_wrong_sub['wrong_sub'])\n",
    "\n",
    "correct_and_wrong_sub.head()"
   ]
  },
  {
   "cell_type": "code",
   "execution_count": 13,
   "id": "25562294",
   "metadata": {},
   "outputs": [],
   "source": [
    "users_2days_data = users_2days_data.merge(correct_and_wrong_sub, on='user_id')\n",
    "\n"
   ]
  },
  {
   "cell_type": "code",
   "execution_count": 14,
   "id": "a5b0559d",
   "metadata": {},
   "outputs": [
    {
     "data": {
      "text/html": [
       "<div>\n",
       "<style scoped>\n",
       "    .dataframe tbody tr th:only-of-type {\n",
       "        vertical-align: middle;\n",
       "    }\n",
       "\n",
       "    .dataframe tbody tr th {\n",
       "        vertical-align: top;\n",
       "    }\n",
       "\n",
       "    .dataframe thead th {\n",
       "        text-align: right;\n",
       "    }\n",
       "</style>\n",
       "<table border=\"1\" class=\"dataframe\">\n",
       "  <thead>\n",
       "    <tr style=\"text-align: right;\">\n",
       "      <th></th>\n",
       "      <th>user_id</th>\n",
       "      <th>discovered</th>\n",
       "      <th>passed</th>\n",
       "      <th>started_attempt</th>\n",
       "      <th>viewed</th>\n",
       "      <th>steps_treis</th>\n",
       "      <th>correct_sub</th>\n",
       "      <th>wrong_sub</th>\n",
       "      <th>correct_ratio</th>\n",
       "    </tr>\n",
       "  </thead>\n",
       "  <tbody>\n",
       "    <tr>\n",
       "      <th>0</th>\n",
       "      <td>12</td>\n",
       "      <td>11</td>\n",
       "      <td>9</td>\n",
       "      <td>4</td>\n",
       "      <td>14</td>\n",
       "      <td>1</td>\n",
       "      <td>1</td>\n",
       "      <td>0</td>\n",
       "      <td>1.000000</td>\n",
       "    </tr>\n",
       "    <tr>\n",
       "      <th>1</th>\n",
       "      <td>13</td>\n",
       "      <td>70</td>\n",
       "      <td>70</td>\n",
       "      <td>35</td>\n",
       "      <td>105</td>\n",
       "      <td>65</td>\n",
       "      <td>29</td>\n",
       "      <td>36</td>\n",
       "      <td>0.446154</td>\n",
       "    </tr>\n",
       "    <tr>\n",
       "      <th>2</th>\n",
       "      <td>15</td>\n",
       "      <td>1</td>\n",
       "      <td>1</td>\n",
       "      <td>0</td>\n",
       "      <td>1</td>\n",
       "      <td>40</td>\n",
       "      <td>10</td>\n",
       "      <td>30</td>\n",
       "      <td>0.250000</td>\n",
       "    </tr>\n",
       "    <tr>\n",
       "      <th>3</th>\n",
       "      <td>21</td>\n",
       "      <td>74</td>\n",
       "      <td>68</td>\n",
       "      <td>70</td>\n",
       "      <td>98</td>\n",
       "      <td>127</td>\n",
       "      <td>24</td>\n",
       "      <td>103</td>\n",
       "      <td>0.188976</td>\n",
       "    </tr>\n",
       "    <tr>\n",
       "      <th>4</th>\n",
       "      <td>35</td>\n",
       "      <td>34</td>\n",
       "      <td>30</td>\n",
       "      <td>11</td>\n",
       "      <td>70</td>\n",
       "      <td>42</td>\n",
       "      <td>7</td>\n",
       "      <td>35</td>\n",
       "      <td>0.166667</td>\n",
       "    </tr>\n",
       "  </tbody>\n",
       "</table>\n",
       "</div>"
      ],
      "text/plain": [
       "   user_id  discovered  passed  started_attempt  viewed  steps_treis  \\\n",
       "0       12          11       9                4      14            1   \n",
       "1       13          70      70               35     105           65   \n",
       "2       15           1       1                0       1           40   \n",
       "3       21          74      68               70      98          127   \n",
       "4       35          34      30               11      70           42   \n",
       "\n",
       "   correct_sub  wrong_sub  correct_ratio  \n",
       "0            1          0       1.000000  \n",
       "1           29         36       0.446154  \n",
       "2           10         30       0.250000  \n",
       "3           24        103       0.188976  \n",
       "4            7         35       0.166667  "
      ]
     },
     "execution_count": 14,
     "metadata": {},
     "output_type": "execute_result"
    }
   ],
   "source": [
    "users_2days_data.head()"
   ]
  },
  {
   "cell_type": "code",
   "execution_count": 15,
   "id": "d64d4422",
   "metadata": {},
   "outputs": [
    {
     "data": {
      "text/html": [
       "<div>\n",
       "<style scoped>\n",
       "    .dataframe tbody tr th:only-of-type {\n",
       "        vertical-align: middle;\n",
       "    }\n",
       "\n",
       "    .dataframe tbody tr th {\n",
       "        vertical-align: top;\n",
       "    }\n",
       "\n",
       "    .dataframe thead th {\n",
       "        text-align: right;\n",
       "    }\n",
       "</style>\n",
       "<table border=\"1\" class=\"dataframe\">\n",
       "  <thead>\n",
       "    <tr style=\"text-align: right;\">\n",
       "      <th></th>\n",
       "      <th>step_id</th>\n",
       "      <th>timestamp</th>\n",
       "      <th>action</th>\n",
       "      <th>user_id</th>\n",
       "      <th>date</th>\n",
       "      <th>day</th>\n",
       "      <th>min_timestamp</th>\n",
       "    </tr>\n",
       "  </thead>\n",
       "  <tbody>\n",
       "    <tr>\n",
       "      <th>266761</th>\n",
       "      <td>32815</td>\n",
       "      <td>1529331707</td>\n",
       "      <td>viewed</td>\n",
       "      <td>4</td>\n",
       "      <td>2018-06-18 14:21:47</td>\n",
       "      <td>2018-06-18</td>\n",
       "      <td>1529331707</td>\n",
       "    </tr>\n",
       "    <tr>\n",
       "      <th>266762</th>\n",
       "      <td>32815</td>\n",
       "      <td>1529331707</td>\n",
       "      <td>discovered</td>\n",
       "      <td>4</td>\n",
       "      <td>2018-06-18 14:21:47</td>\n",
       "      <td>2018-06-18</td>\n",
       "      <td>1529331707</td>\n",
       "    </tr>\n",
       "    <tr>\n",
       "      <th>266763</th>\n",
       "      <td>32815</td>\n",
       "      <td>1529331707</td>\n",
       "      <td>passed</td>\n",
       "      <td>4</td>\n",
       "      <td>2018-06-18 14:21:47</td>\n",
       "      <td>2018-06-18</td>\n",
       "      <td>1529331707</td>\n",
       "    </tr>\n",
       "    <tr>\n",
       "      <th>270657</th>\n",
       "      <td>32815</td>\n",
       "      <td>1546889407</td>\n",
       "      <td>viewed</td>\n",
       "      <td>6</td>\n",
       "      <td>2019-01-07 19:30:07</td>\n",
       "      <td>2019-01-07</td>\n",
       "      <td>1546889407</td>\n",
       "    </tr>\n",
       "    <tr>\n",
       "      <th>270658</th>\n",
       "      <td>32815</td>\n",
       "      <td>1546889407</td>\n",
       "      <td>discovered</td>\n",
       "      <td>6</td>\n",
       "      <td>2019-01-07 19:30:07</td>\n",
       "      <td>2019-01-07</td>\n",
       "      <td>1546889407</td>\n",
       "    </tr>\n",
       "  </tbody>\n",
       "</table>\n",
       "</div>"
      ],
      "text/plain": [
       "        step_id   timestamp      action  user_id                date  \\\n",
       "266761    32815  1529331707      viewed        4 2018-06-18 14:21:47   \n",
       "266762    32815  1529331707  discovered        4 2018-06-18 14:21:47   \n",
       "266763    32815  1529331707      passed        4 2018-06-18 14:21:47   \n",
       "270657    32815  1546889407      viewed        6 2019-01-07 19:30:07   \n",
       "270658    32815  1546889407  discovered        6 2019-01-07 19:30:07   \n",
       "\n",
       "               day  min_timestamp  \n",
       "266761  2018-06-18     1529331707  \n",
       "266762  2018-06-18     1529331707  \n",
       "266763  2018-06-18     1529331707  \n",
       "270657  2019-01-07     1546889407  \n",
       "270658  2019-01-07     1546889407  "
      ]
     },
     "execution_count": 15,
     "metadata": {},
     "output_type": "execute_result"
    }
   ],
   "source": [
    "events_data = events_data.sort_values(by=['user_id','timestamp'])\n",
    "events_data.head()"
   ]
  },
  {
   "cell_type": "code",
   "execution_count": 16,
   "id": "e10512c9",
   "metadata": {},
   "outputs": [
    {
     "data": {
      "text/plain": [
       "array([array([], dtype=int64), array([], dtype=int64),\n",
       "       array([], dtype=int64), ..., array([], dtype=int64),\n",
       "       array([71180]), array([], dtype=int64)], dtype=object)"
      ]
     },
     "execution_count": 16,
     "metadata": {},
     "output_type": "execute_result"
    }
   ],
   "source": [
    "# проверим как распределяются перерывы в прохождении курса \n",
    "\n",
    "gap_data = events_data[['user_id','day','timestamp']].drop_duplicates(subset=['user_id','day'])\\\n",
    "    .groupby('user_id')['timestamp']\\\n",
    "    .apply(list)\\\n",
    "    .apply(np.diff).values\n",
    "\n",
    "gap_data"
   ]
  },
  {
   "cell_type": "code",
   "execution_count": 17,
   "id": "24d9025a",
   "metadata": {},
   "outputs": [
    {
     "data": {
      "text/plain": [
       "<AxesSubplot:>"
      ]
     },
     "execution_count": 17,
     "metadata": {},
     "output_type": "execute_result"
    },
    {
     "data": {
      "image/png": "[encoded data removed]",
      "text/plain": [
       "<Figure size 432x288 with 1 Axes>"
      ]
     },
     "metadata": {
      "needs_background": "light"
     },
     "output_type": "display_data"
    }
   ],
   "source": [
    "gap_days = pd.Series(np.concatenate(gap_data, axis=0)) / (24 * 60 * 60)\n",
    "gap_days[gap_days <= 70].hist()"
   ]
  },
  {
   "cell_type": "code",
   "execution_count": 18,
   "id": "94a59b7a",
   "metadata": {},
   "outputs": [
    {
     "data": {
      "text/plain": [
       "1.452986111111111"
      ]
     },
     "execution_count": 18,
     "metadata": {},
     "output_type": "execute_result"
    }
   ],
   "source": [
    " gap_days.quantile(0.90)"
   ]
  },
  {
   "cell_type": "code",
   "execution_count": 19,
   "id": "336246f5",
   "metadata": {},
   "outputs": [
    {
     "name": "stderr",
     "output_type": "stream",
     "text": [
      "/home/vlad/anaconda3/lib/python3.9/site-packages/seaborn/_decorators.py:36: FutureWarning: Pass the following variable as a keyword arg: x. From version 0.12, the only valid positional argument will be `data`, and passing other arguments without an explicit keyword will result in an error or misinterpretation.\n",
      "  warnings.warn(\n"
     ]
    },
    {
     "data": {
      "text/plain": [
       "<AxesSubplot:xlabel='is_passed_course', ylabel='count'>"
      ]
     },
     "execution_count": 19,
     "metadata": {},
     "output_type": "execute_result"
    },
    {
     "data": {
      "image/png": "[encoded data removed]",
      "text/plain": [
       "<Figure size 432x288 with 1 Axes>"
      ]
     },
     "metadata": {
      "needs_background": "light"
     },
     "output_type": "display_data"
    }
   ],
   "source": [
    "#### будем считать что пользователь успешно прошел курс если решил 40 и более степов\n",
    "users_data['is_passed_course'] = 0\n",
    "\n",
    "users_data.loc[users_data['passed'] >= 40,'is_passed_course'] = 1\n",
    "\n",
    "sns.countplot(users_data['is_passed_course'])"
   ]
  },
  {
   "cell_type": "code",
   "execution_count": 20,
   "id": "14b69c80",
   "metadata": {},
   "outputs": [],
   "source": [
    "users_2days_data = users_2days_data.merge(users_data[['user_id','is_passed_course']], on='user_id')"
   ]
  },
  {
   "cell_type": "markdown",
   "id": "099a5cba",
   "metadata": {},
   "source": [
    "#### средний временной промежуток пользователя между началом степа и его выполнением "
   ]
  },
  {
   "cell_type": "code",
   "execution_count": 21,
   "id": "eaf432ff",
   "metadata": {},
   "outputs": [],
   "source": [
    "# сколько в среднем пользователь тратит времени на решение \n",
    "\n",
    "started_attempt = events_2days[events_2days['action'] == 'started_attempt']\\\n",
    "    .groupby(['user_id','step_id'], as_index=False)\\\n",
    "    .agg({'timestamp':'min'})[['user_id','step_id', 'timestamp']].rename(columns={'timestamp': 'start_time'})\n",
    "\n",
    "passed = events_2days[events_2days['action'] == 'passed']\\\n",
    "    .groupby(['user_id','step_id'], as_index=False)\\\n",
    "    .agg({'timestamp':'min'})[['user_id','step_id', 'timestamp']].rename(columns={'timestamp': 'pass_time'})\n",
    "\n"
   ]
  },
  {
   "cell_type": "code",
   "execution_count": 22,
   "id": "3b1a49ae",
   "metadata": {},
   "outputs": [],
   "source": [
    "sec_b_start_and_pass = pd.merge(started_attempt,passed,on=['user_id','step_id'])\n",
    "# поскольку timestamp это количество секунд нам нужно перевести, если не перевести будет большая разница между значениями колонок \n",
    "# что негативно скажется на предсказаниях модели \n",
    "\n",
    "sec_b_start_and_pass['time_margin'] = ((sec_b_start_and_pass['pass_time']- sec_b_start_and_pass['start_time'])/60/60)\n",
    "\n",
    "b_start_and_pass = sec_b_start_and_pass.groupby('user_id',as_index=False)\\\n",
    "    .agg({'time_margin':'mean'})[['user_id','time_margin']]\\\n",
    "    .rename(columns={'time_margin':'gap_s_p'})\n",
    "\n",
    "b_start_and_pass['gap_s_p'] = b_start_and_pass['gap_s_p'].round(2)"
   ]
  },
  {
   "cell_type": "code",
   "execution_count": 23,
   "id": "ec44b17c",
   "metadata": {},
   "outputs": [],
   "source": [
    "users_2days_data = pd.merge(users_2days_data, b_start_and_pass, on='user_id')"
   ]
  },
  {
   "cell_type": "code",
   "execution_count": 24,
   "id": "661bd583",
   "metadata": {},
   "outputs": [
    {
     "data": {
      "text/html": [
       "<div>\n",
       "<style scoped>\n",
       "    .dataframe tbody tr th:only-of-type {\n",
       "        vertical-align: middle;\n",
       "    }\n",
       "\n",
       "    .dataframe tbody tr th {\n",
       "        vertical-align: top;\n",
       "    }\n",
       "\n",
       "    .dataframe thead th {\n",
       "        text-align: right;\n",
       "    }\n",
       "</style>\n",
       "<table border=\"1\" class=\"dataframe\">\n",
       "  <thead>\n",
       "    <tr style=\"text-align: right;\">\n",
       "      <th></th>\n",
       "      <th>user_id</th>\n",
       "      <th>discovered</th>\n",
       "      <th>passed</th>\n",
       "      <th>started_attempt</th>\n",
       "      <th>viewed</th>\n",
       "      <th>steps_treis</th>\n",
       "      <th>correct_sub</th>\n",
       "      <th>wrong_sub</th>\n",
       "      <th>correct_ratio</th>\n",
       "      <th>is_passed_course</th>\n",
       "      <th>gap_s_p</th>\n",
       "    </tr>\n",
       "  </thead>\n",
       "  <tbody>\n",
       "    <tr>\n",
       "      <th>0</th>\n",
       "      <td>12</td>\n",
       "      <td>11</td>\n",
       "      <td>9</td>\n",
       "      <td>4</td>\n",
       "      <td>14</td>\n",
       "      <td>1</td>\n",
       "      <td>1</td>\n",
       "      <td>0</td>\n",
       "      <td>1.000000</td>\n",
       "      <td>0</td>\n",
       "      <td>0.01</td>\n",
       "    </tr>\n",
       "    <tr>\n",
       "      <th>1</th>\n",
       "      <td>13</td>\n",
       "      <td>70</td>\n",
       "      <td>70</td>\n",
       "      <td>35</td>\n",
       "      <td>105</td>\n",
       "      <td>65</td>\n",
       "      <td>29</td>\n",
       "      <td>36</td>\n",
       "      <td>0.446154</td>\n",
       "      <td>1</td>\n",
       "      <td>0.72</td>\n",
       "    </tr>\n",
       "    <tr>\n",
       "      <th>2</th>\n",
       "      <td>21</td>\n",
       "      <td>74</td>\n",
       "      <td>68</td>\n",
       "      <td>70</td>\n",
       "      <td>98</td>\n",
       "      <td>127</td>\n",
       "      <td>24</td>\n",
       "      <td>103</td>\n",
       "      <td>0.188976</td>\n",
       "      <td>1</td>\n",
       "      <td>0.03</td>\n",
       "    </tr>\n",
       "    <tr>\n",
       "      <th>3</th>\n",
       "      <td>35</td>\n",
       "      <td>34</td>\n",
       "      <td>30</td>\n",
       "      <td>11</td>\n",
       "      <td>70</td>\n",
       "      <td>42</td>\n",
       "      <td>7</td>\n",
       "      <td>35</td>\n",
       "      <td>0.166667</td>\n",
       "      <td>0</td>\n",
       "      <td>0.13</td>\n",
       "    </tr>\n",
       "    <tr>\n",
       "      <th>4</th>\n",
       "      <td>45</td>\n",
       "      <td>9</td>\n",
       "      <td>9</td>\n",
       "      <td>2</td>\n",
       "      <td>10</td>\n",
       "      <td>2</td>\n",
       "      <td>2</td>\n",
       "      <td>0</td>\n",
       "      <td>1.000000</td>\n",
       "      <td>0</td>\n",
       "      <td>0.02</td>\n",
       "    </tr>\n",
       "  </tbody>\n",
       "</table>\n",
       "</div>"
      ],
      "text/plain": [
       "   user_id  discovered  passed  started_attempt  viewed  steps_treis  \\\n",
       "0       12          11       9                4      14            1   \n",
       "1       13          70      70               35     105           65   \n",
       "2       21          74      68               70      98          127   \n",
       "3       35          34      30               11      70           42   \n",
       "4       45           9       9                2      10            2   \n",
       "\n",
       "   correct_sub  wrong_sub  correct_ratio  is_passed_course  gap_s_p  \n",
       "0            1          0       1.000000                 0     0.01  \n",
       "1           29         36       0.446154                 1     0.72  \n",
       "2           24        103       0.188976                 1     0.03  \n",
       "3            7         35       0.166667                 0     0.13  \n",
       "4            2          0       1.000000                 0     0.02  "
      ]
     },
     "execution_count": 24,
     "metadata": {},
     "output_type": "execute_result"
    }
   ],
   "source": [
    "users_2days_data.head()"
   ]
  },
  {
   "cell_type": "code",
   "execution_count": 25,
   "id": "16ce73b3",
   "metadata": {},
   "outputs": [
    {
     "data": {
      "text/plain": [
       "True"
      ]
     },
     "execution_count": 25,
     "metadata": {},
     "output_type": "execute_result"
    }
   ],
   "source": [
    "# проверим не потеряли мы юзеров по пути \n",
    "len(events_data['user_id'].unique()) == len(users_data['user_id'].unique())"
   ]
  },
  {
   "cell_type": "code",
   "execution_count": 26,
   "id": "77adb404",
   "metadata": {},
   "outputs": [
    {
     "data": {
      "text/plain": [
       "0"
      ]
     },
     "execution_count": 26,
     "metadata": {},
     "output_type": "execute_result"
    }
   ],
   "source": [
    "users_2days_data.isna().sum().sum()"
   ]
  },
  {
   "cell_type": "code",
   "execution_count": null,
   "id": "7ddca296",
   "metadata": {},
   "outputs": [],
   "source": []
  },
  {
   "cell_type": "code",
   "execution_count": 27,
   "id": "50e7783f",
   "metadata": {},
   "outputs": [],
   "source": [
    "from sklearn.metrics import roc_auc_score\n",
    "from sklearn.model_selection import train_test_split, RandomizedSearchCV, GridSearchCV"
   ]
  },
  {
   "cell_type": "code",
   "execution_count": 28,
   "id": "f92ffb49",
   "metadata": {},
   "outputs": [
    {
     "data": {
      "text/plain": [
       "(2363, 9)"
      ]
     },
     "execution_count": 28,
     "metadata": {},
     "output_type": "execute_result"
    }
   ],
   "source": [
    "X = users_2days_data.drop(['user_id','is_passed_course'],axis=1)\n",
    "y = users_2days_data['is_passed_course']\n",
    "\n",
    "\n",
    "X.shape"
   ]
  },
  {
   "cell_type": "code",
   "execution_count": 29,
   "id": "c7343e49",
   "metadata": {},
   "outputs": [],
   "source": [
    "X_train, X_valid, y_train, y_valid = train_test_split(X,y, test_size=0.3, random_state=17)"
   ]
  },
  {
   "cell_type": "code",
   "execution_count": 30,
   "id": "4048d189",
   "metadata": {},
   "outputs": [
    {
     "data": {
      "text/plain": [
       "(1654, 9)"
      ]
     },
     "execution_count": 30,
     "metadata": {},
     "output_type": "execute_result"
    }
   ],
   "source": [
    "X_train.shape"
   ]
  },
  {
   "cell_type": "code",
   "execution_count": 31,
   "id": "1d04d45c",
   "metadata": {},
   "outputs": [],
   "source": [
    "import xgboost as xgb\n",
    "\n",
    "clf = xgb.XGBClassifier(objective='binary:logistic',eval_metric='auc')\n",
    "#best_params\n",
    "# params = {\n",
    "#     'n_estimators': 400,\n",
    "#     'max_depth': 3,\n",
    "#     'max_delta_step': 7,\n",
    "#     'eta': 0.3}\n",
    "\n",
    "params = {'max_delta_step':[3,4,5,6,7],\n",
    "          'n_estimators':[400,200],\n",
    "          'eta':[0.1,0.2,0.3],\n",
    "          'max_depth':[3,4,5,6]\n",
    "}\n",
    "\n",
    "rand_clf = RandomizedSearchCV(clf, params, cv=5, n_jobs=-1)"
   ]
  },
  {
   "cell_type": "code",
   "execution_count": 32,
   "id": "881795fc",
   "metadata": {},
   "outputs": [
    {
     "data": {
      "text/plain": [
       "RandomizedSearchCV(cv=5,\n",
       "                   estimator=XGBClassifier(base_score=None, booster=None,\n",
       "                                           callbacks=None,\n",
       "                                           colsample_bylevel=None,\n",
       "                                           colsample_bynode=None,\n",
       "                                           colsample_bytree=None,\n",
       "                                           early_stopping_rounds=None,\n",
       "                                           enable_categorical=False,\n",
       "                                           eval_metric='auc', gamma=None,\n",
       "                                           gpu_id=None, grow_policy=None,\n",
       "                                           importance_type=None,\n",
       "                                           interaction_constraints=None,\n",
       "                                           learning_rate=None, max_bin=None...\n",
       "                                           max_delta_step=None, max_depth=None,\n",
       "                                           max_leaves=None,\n",
       "                                           min_child_weight=None, missing=nan,\n",
       "                                           monotone_constraints=None,\n",
       "                                           n_estimators=100, n_jobs=None,\n",
       "                                           num_parallel_tree=None,\n",
       "                                           predictor=None, random_state=None,\n",
       "                                           reg_alpha=None, reg_lambda=None, ...),\n",
       "                   n_jobs=-1,\n",
       "                   param_distributions={'eta': [0.1, 0.2, 0.3],\n",
       "                                        'max_delta_step': [3, 4, 5, 6, 7],\n",
       "                                        'max_depth': [3, 4, 5, 6],\n",
       "                                        'n_estimators': [400, 200]})"
      ]
     },
     "execution_count": 32,
     "metadata": {},
     "output_type": "execute_result"
    }
   ],
   "source": [
    "rand_clf.fit(X_train,y_train)\n"
   ]
  },
  {
   "cell_type": "code",
   "execution_count": 33,
   "id": "30bdb804",
   "metadata": {},
   "outputs": [
    {
     "data": {
      "text/plain": [
       "{'n_estimators': 400, 'max_depth': 3, 'max_delta_step': 7, 'eta': 0.3}"
      ]
     },
     "execution_count": 33,
     "metadata": {},
     "output_type": "execute_result"
    }
   ],
   "source": [
    "rand_clf.best_params_"
   ]
  },
  {
   "cell_type": "code",
   "execution_count": 34,
   "id": "8f099a5c",
   "metadata": {},
   "outputs": [
    {
     "data": {
      "text/plain": [
       "1.0"
      ]
     },
     "execution_count": 34,
     "metadata": {},
     "output_type": "execute_result"
    }
   ],
   "source": [
    "best_clf = rand_clf.best_estimator_\n",
    "\n",
    "pred = best_clf.predict(X_valid)\n",
    "\n",
    "roc_auc_score(y_valid,pred)"
   ]
  },
  {
   "cell_type": "code",
   "execution_count": 30,
   "id": "3136e09a",
   "metadata": {},
   "outputs": [],
   "source": [
    "from sklearn.ensemble import RandomForestClassifier\n",
    "\n",
    "\n",
    "clf_forest = RandomForestClassifier(n_estimators=3000, n_jobs=-1, \n",
    "                            min_samples_leaf=10, min_samples_split=10, \n",
    "                            class_weight='balanced')\n"
   ]
  },
  {
   "cell_type": "code",
   "execution_count": 31,
   "id": "c6b18f5c",
   "metadata": {},
   "outputs": [
    {
     "data": {
      "text/plain": [
       "RandomForestClassifier(class_weight='balanced', min_samples_leaf=10,\n",
       "                       min_samples_split=10, n_estimators=3000, n_jobs=-1)"
      ]
     },
     "execution_count": 31,
     "metadata": {},
     "output_type": "execute_result"
    }
   ],
   "source": [
    "clf_forest.fit(X_train,y_train)"
   ]
  },
  {
   "cell_type": "code",
   "execution_count": 32,
   "id": "eb55a602",
   "metadata": {},
   "outputs": [
    {
     "data": {
      "text/plain": [
       "0.7184957469866091"
      ]
     },
     "execution_count": 32,
     "metadata": {},
     "output_type": "execute_result"
    }
   ],
   "source": [
    "pred_forest= clf_forest.predict(X_valid)\n",
    "\n",
    "roc_auc_score(y_valid,pred_forest)"
   ]
  },
  {
   "cell_type": "code",
   "execution_count": null,
   "id": "e8cf3c8e",
   "metadata": {},
   "outputs": [],
   "source": []
  }
 ],
 "metadata": {
  "kernelspec": {
   "display_name": "Python 3 (ipykernel)",
   "language": "python",
   "name": "python3"
  },
  "language_info": {
   "codemirror_mode": {
    "name": "ipython",
    "version": 3
   },
   "file_extension": ".py",
   "mimetype": "text/x-python",
   "name": "python",
   "nbconvert_exporter": "python",
   "pygments_lexer": "ipython3",
   "version": "3.9.12"
  }
 },
 "nbformat": 4,
 "nbformat_minor": 5
}
