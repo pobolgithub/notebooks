{
 "cells": [
  {
   "cell_type": "code",
   "execution_count": 1,
   "id": "eaafbecb-8dc1-4ceb-b7fb-4547327cb83e",
   "metadata": {},
   "outputs": [],
   "source": [
    "import pandas as pd\n",
    "from sklearn.metrics import mean_absolute_error\n",
    "import numpy as np"
   ]
  },
  {
   "cell_type": "code",
   "execution_count": 18,
   "id": "3da57a2c-db94-408a-961c-2cf7130afc39",
   "metadata": {},
   "outputs": [
    {
     "data": {
      "text/plain": [
       "'junior reads a lot of books'"
      ]
     },
     "execution_count": 18,
     "metadata": {},
     "output_type": "execute_result"
    }
   ],
   "source": [
    "def process_string(strin):\n",
    "    return strin[1:].lower().replace('intern','junior')\n",
    "\n",
    "process_string('IIntern reads a lot of books')\n"
   ]
  },
  {
   "cell_type": "code",
   "execution_count": 32,
   "id": "bef9d3f9-76ff-4fb5-a5b5-6f0a45626e19",
   "metadata": {},
   "outputs": [],
   "source": [
    "error_correct = 0.000001"
   ]
  },
  {
   "cell_type": "code",
   "execution_count": 5,
   "id": "dafde2c2-5ab6-4f39-8c1b-2601ee9fa59c",
   "metadata": {},
   "outputs": [
    {
     "name": "stdout",
     "output_type": "stream",
     "text": [
      "###\n",
      "[1, 8, 27, 64]\n",
      "###\n",
      "###\n",
      "[1, 1, 6, 1]\n",
      "###\n",
      "###\n",
      "[2, 3, 9, 5]\n",
      "###\n",
      "[2, 3, 9, 5]\n"
     ]
    }
   ],
   "source": [
    "import sys \n",
    "from lightgbm import LGBMRegressor"
   ]
  }
 ],
 "metadata": {
  "kernelspec": {
   "display_name": "Python 3 (ipykernel)",
   "language": "python",
   "name": "python3"
  },
  "language_info": {
   "codemirror_mode": {
    "name": "ipython",
    "version": 3
   },
   "file_extension": ".py",
   "mimetype": "text/x-python",
   "name": "python",
   "nbconvert_exporter": "python",
   "pygments_lexer": "ipython3",
   "version": "3.10.8"
  }
 },
 "nbformat": 4,
 "nbformat_minor": 5
}
