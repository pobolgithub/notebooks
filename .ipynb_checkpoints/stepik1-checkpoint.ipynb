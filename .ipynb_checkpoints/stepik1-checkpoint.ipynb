{
 "cells": [
  {
   "cell_type": "code",
   "execution_count": 1,
   "id": "6d8c4f39",
   "metadata": {},
   "outputs": [],
   "source": [
    "import pandas as pd\n",
    "import numpy as np\n",
    "import seaborn as sns\n",
    "import matplotlib\n",
    "import matplotlib.pyplot as plt\n",
    "\n",
    "%matplotlib inline"
   ]
  },
  {
   "cell_type": "code",
   "execution_count": 2,
   "id": "ca420a7b",
   "metadata": {},
   "outputs": [],
   "source": [
    "events_data = pd.read_csv('../datasets/events_stepik.csv')\n",
    "submission_data = pd.read_csv('../datasets/submission_stepik.csv')"
   ]
  },
  {
   "cell_type": "code",
   "execution_count": 3,
   "id": "2c07db4e",
   "metadata": {},
   "outputs": [
    {
     "data": {
      "text/html": [
       "<div>\n",
       "<style scoped>\n",
       "    .dataframe tbody tr th:only-of-type {\n",
       "        vertical-align: middle;\n",
       "    }\n",
       "\n",
       "    .dataframe tbody tr th {\n",
       "        vertical-align: top;\n",
       "    }\n",
       "\n",
       "    .dataframe thead th {\n",
       "        text-align: right;\n",
       "    }\n",
       "</style>\n",
       "<table border=\"1\" class=\"dataframe\">\n",
       "  <thead>\n",
       "    <tr style=\"text-align: right;\">\n",
       "      <th></th>\n",
       "      <th>step_id</th>\n",
       "      <th>timestamp</th>\n",
       "      <th>action</th>\n",
       "      <th>user_id</th>\n",
       "    </tr>\n",
       "  </thead>\n",
       "  <tbody>\n",
       "    <tr>\n",
       "      <th>0</th>\n",
       "      <td>30456</td>\n",
       "      <td>1526893787</td>\n",
       "      <td>viewed</td>\n",
       "      <td>24417</td>\n",
       "    </tr>\n",
       "    <tr>\n",
       "      <th>1</th>\n",
       "      <td>30456</td>\n",
       "      <td>1526893797</td>\n",
       "      <td>viewed</td>\n",
       "      <td>24417</td>\n",
       "    </tr>\n",
       "    <tr>\n",
       "      <th>2</th>\n",
       "      <td>30456</td>\n",
       "      <td>1526893954</td>\n",
       "      <td>viewed</td>\n",
       "      <td>24417</td>\n",
       "    </tr>\n",
       "    <tr>\n",
       "      <th>3</th>\n",
       "      <td>30456</td>\n",
       "      <td>1526895780</td>\n",
       "      <td>viewed</td>\n",
       "      <td>24417</td>\n",
       "    </tr>\n",
       "    <tr>\n",
       "      <th>4</th>\n",
       "      <td>30456</td>\n",
       "      <td>1526893787</td>\n",
       "      <td>discovered</td>\n",
       "      <td>24417</td>\n",
       "    </tr>\n",
       "  </tbody>\n",
       "</table>\n",
       "</div>"
      ],
      "text/plain": [
       "   step_id   timestamp      action  user_id\n",
       "0    30456  1526893787      viewed    24417\n",
       "1    30456  1526893797      viewed    24417\n",
       "2    30456  1526893954      viewed    24417\n",
       "3    30456  1526895780      viewed    24417\n",
       "4    30456  1526893787  discovered    24417"
      ]
     },
     "execution_count": 3,
     "metadata": {},
     "output_type": "execute_result"
    }
   ],
   "source": [
    "events_data.head()\n"
   ]
  },
  {
   "cell_type": "code",
   "execution_count": 4,
   "id": "e8f65eab",
   "metadata": {},
   "outputs": [
    {
     "data": {
      "text/html": [
       "<div>\n",
       "<style scoped>\n",
       "    .dataframe tbody tr th:only-of-type {\n",
       "        vertical-align: middle;\n",
       "    }\n",
       "\n",
       "    .dataframe tbody tr th {\n",
       "        vertical-align: top;\n",
       "    }\n",
       "\n",
       "    .dataframe thead th {\n",
       "        text-align: right;\n",
       "    }\n",
       "</style>\n",
       "<table border=\"1\" class=\"dataframe\">\n",
       "  <thead>\n",
       "    <tr style=\"text-align: right;\">\n",
       "      <th></th>\n",
       "      <th>step_id</th>\n",
       "      <th>timestamp</th>\n",
       "      <th>submission_status</th>\n",
       "      <th>user_id</th>\n",
       "    </tr>\n",
       "  </thead>\n",
       "  <tbody>\n",
       "    <tr>\n",
       "      <th>0</th>\n",
       "      <td>31971</td>\n",
       "      <td>1526800961</td>\n",
       "      <td>wrong</td>\n",
       "      <td>24370</td>\n",
       "    </tr>\n",
       "    <tr>\n",
       "      <th>1</th>\n",
       "      <td>31971</td>\n",
       "      <td>1526800976</td>\n",
       "      <td>wrong</td>\n",
       "      <td>24370</td>\n",
       "    </tr>\n",
       "    <tr>\n",
       "      <th>2</th>\n",
       "      <td>31971</td>\n",
       "      <td>1526800993</td>\n",
       "      <td>wrong</td>\n",
       "      <td>24370</td>\n",
       "    </tr>\n",
       "    <tr>\n",
       "      <th>3</th>\n",
       "      <td>31971</td>\n",
       "      <td>1526801054</td>\n",
       "      <td>correct</td>\n",
       "      <td>24370</td>\n",
       "    </tr>\n",
       "    <tr>\n",
       "      <th>4</th>\n",
       "      <td>31972</td>\n",
       "      <td>1526800664</td>\n",
       "      <td>wrong</td>\n",
       "      <td>24370</td>\n",
       "    </tr>\n",
       "  </tbody>\n",
       "</table>\n",
       "</div>"
      ],
      "text/plain": [
       "   step_id   timestamp submission_status  user_id\n",
       "0    31971  1526800961             wrong    24370\n",
       "1    31971  1526800976             wrong    24370\n",
       "2    31971  1526800993             wrong    24370\n",
       "3    31971  1526801054           correct    24370\n",
       "4    31972  1526800664             wrong    24370"
      ]
     },
     "execution_count": 4,
     "metadata": {},
     "output_type": "execute_result"
    }
   ],
   "source": [
    "submission_data.head()"
   ]
  },
  {
   "cell_type": "code",
   "execution_count": 5,
   "id": "b9ed6ebe",
   "metadata": {},
   "outputs": [],
   "source": [
    "events_data['date'] = pd.to_datetime(events_data['timestamp'],unit='s')\n",
    "events_data['day'] = events_data['date'].dt.date"
   ]
  },
  {
   "cell_type": "markdown",
   "id": "0d865d7b",
   "metadata": {},
   "source": [
    "#### попробуем прогнозированть отток по поведению пользователя за первые 3 дня "
   ]
  },
  {
   "cell_type": "code",
   "execution_count": 6,
   "id": "08aa9ad4",
   "metadata": {},
   "outputs": [],
   "source": [
    "min_user_timestamp = events_data.groupby('user_id',as_index=False)\\\n",
    "    .agg({'timestamp':'min'})[['user_id','timestamp']]\\\n",
    "    .rename(columns={'timestamp':'min_timestamp'})\n",
    "\n",
    "events_data = pd.merge(events_data,min_user_timestamp,on='user_id')\n",
    "\n",
    "events_3_days = events_data[events_data['timestamp'] - events_data['min_timestamp'] <= 3 * 24 * 60 * 60]"
   ]
  },
  {
   "cell_type": "code",
   "execution_count": 7,
   "id": "2245b46e",
   "metadata": {},
   "outputs": [],
   "source": [
    "min_user_sub_timestamp = submission_data.groupby('user_id',as_index=False)\\\n",
    "    .agg({'timestamp':'min'})[['user_id','timestamp']]\\\n",
    "    .rename(columns={'timestamp':'min_timestamp'})\n",
    "\n",
    "submission_data = pd.merge(submission_data, min_user_sub_timestamp, on='user_id')\n",
    "\n",
    "submission_3_days = submission_data[submission_data['timestamp'] - submission_data['min_timestamp'] <= 3 * 24 * 60 * 60]"
   ]
  },
  {
   "cell_type": "code",
   "execution_count": 8,
   "id": "1843ede4",
   "metadata": {},
   "outputs": [
    {
     "data": {
      "text/plain": [
       "array(['viewed', 'discovered', 'passed', 'started_attempt'], dtype=object)"
      ]
     },
     "execution_count": 8,
     "metadata": {},
     "output_type": "execute_result"
    }
   ],
   "source": [
    "pd.unique(events_data['action'])"
   ]
  },
  {
   "cell_type": "code",
   "execution_count": 9,
   "id": "bcb5abb3",
   "metadata": {},
   "outputs": [
    {
     "data": {
      "text/html": [
       "<div>\n",
       "<style scoped>\n",
       "    .dataframe tbody tr th:only-of-type {\n",
       "        vertical-align: middle;\n",
       "    }\n",
       "\n",
       "    .dataframe tbody tr th {\n",
       "        vertical-align: top;\n",
       "    }\n",
       "\n",
       "    .dataframe thead th {\n",
       "        text-align: right;\n",
       "    }\n",
       "</style>\n",
       "<table border=\"1\" class=\"dataframe\">\n",
       "  <thead>\n",
       "    <tr style=\"text-align: right;\">\n",
       "      <th>action</th>\n",
       "      <th>user_id</th>\n",
       "      <th>discovered</th>\n",
       "      <th>passed</th>\n",
       "      <th>started_attempt</th>\n",
       "      <th>viewed</th>\n",
       "    </tr>\n",
       "  </thead>\n",
       "  <tbody>\n",
       "    <tr>\n",
       "      <th>0</th>\n",
       "      <td>4</td>\n",
       "      <td>1</td>\n",
       "      <td>1</td>\n",
       "      <td>0</td>\n",
       "      <td>1</td>\n",
       "    </tr>\n",
       "    <tr>\n",
       "      <th>1</th>\n",
       "      <td>6</td>\n",
       "      <td>1</td>\n",
       "      <td>1</td>\n",
       "      <td>0</td>\n",
       "      <td>1</td>\n",
       "    </tr>\n",
       "    <tr>\n",
       "      <th>2</th>\n",
       "      <td>10</td>\n",
       "      <td>2</td>\n",
       "      <td>2</td>\n",
       "      <td>0</td>\n",
       "      <td>6</td>\n",
       "    </tr>\n",
       "    <tr>\n",
       "      <th>3</th>\n",
       "      <td>12</td>\n",
       "      <td>11</td>\n",
       "      <td>9</td>\n",
       "      <td>4</td>\n",
       "      <td>14</td>\n",
       "    </tr>\n",
       "    <tr>\n",
       "      <th>4</th>\n",
       "      <td>13</td>\n",
       "      <td>70</td>\n",
       "      <td>70</td>\n",
       "      <td>35</td>\n",
       "      <td>105</td>\n",
       "    </tr>\n",
       "  </tbody>\n",
       "</table>\n",
       "</div>"
      ],
      "text/plain": [
       "action  user_id  discovered  passed  started_attempt  viewed\n",
       "0             4           1       1                0       1\n",
       "1             6           1       1                0       1\n",
       "2            10           2       2                0       6\n",
       "3            12          11       9                4      14\n",
       "4            13          70      70               35     105"
      ]
     },
     "execution_count": 9,
     "metadata": {},
     "output_type": "execute_result"
    }
   ],
   "source": [
    "users_data = pd.pivot_table(index='user_id',\\\n",
    "                            columns='action',\\\n",
    "                            values='step_id',\\\n",
    "                            aggfunc='count',\\\n",
    "                            data=events_3_days,\\\n",
    "                            fill_value=0).reset_index()\n",
    "users_data.head()"
   ]
  },
  {
   "cell_type": "code",
   "execution_count": 10,
   "id": "f7767120",
   "metadata": {},
   "outputs": [],
   "source": [
    "correct_and_wrong_sub = pd.pivot_table(index='user_id',\\\n",
    "               columns='submission_status',\\\n",
    "               values='step_id',\\\n",
    "               data=submission_3_days,\\\n",
    "               aggfunc='count',\\\n",
    "               fill_value=0).reset_index().rename(columns={'correct':'correct_sub','wrong':'wrong_sub'})"
   ]
  },
  {
   "cell_type": "code",
   "execution_count": 11,
   "id": "a27278bf",
   "metadata": {},
   "outputs": [],
   "source": [
    "users_data = pd.merge(users_data, correct_and_wrong_sub, on='user_id')"
   ]
  },
  {
   "cell_type": "code",
   "execution_count": 12,
   "id": "618459b4",
   "metadata": {},
   "outputs": [],
   "source": [
    "users_is_gone = events_data.groupby('user_id', as_index= False)\\\n",
    "        .agg({'timestamp': 'max'})\\\n",
    "        .rename({'timestamp':'is_gone'}, axis = 'columns')\n",
    "now = 1526772811\n",
    "drop_out_threasold = 2592000\n",
    "\n",
    "users_is_gone['is_gone'] = users_is_gone['is_gone'] - now > drop_out_threasold\n",
    "\n",
    "users_is_gone['is_gone'] = users_is_gone['is_gone'].apply(int)\n"
   ]
  },
  {
   "cell_type": "code",
   "execution_count": 13,
   "id": "5011fc90",
   "metadata": {},
   "outputs": [
    {
     "data": {
      "text/plain": [
       "<AxesSubplot:>"
      ]
     },
     "execution_count": 13,
     "metadata": {},
     "output_type": "execute_result"
    },
    {
     "data": {
      "image/png": "[encoded data removed]",
      "text/plain": [
       "<Figure size 432x288 with 1 Axes>"
      ]
     },
     "metadata": {
      "needs_background": "light"
     },
     "output_type": "display_data"
    }
   ],
   "source": [
    "users_data = users_data.merge(users_is_gone, on='user_id')\n",
    "\n",
    "users_data['is_gone'].hist()"
   ]
  },
  {
   "cell_type": "markdown",
   "id": "099a5cba",
   "metadata": {},
   "source": [
    "#### средний времемнной промежуток пользователя между началом степа и его выполнением "
   ]
  },
  {
   "cell_type": "code",
   "execution_count": 14,
   "id": "eaf432ff",
   "metadata": {},
   "outputs": [],
   "source": [
    "\n",
    "started_attempt = events_3_days[events_3_days['action'] == 'started_attempt']\\\n",
    "    .groupby(['user_id','step_id'], as_index=False)\\\n",
    "    .agg({'timestamp':'min'})[['user_id','step_id', 'timestamp']].rename(columns={'timestamp': 'start_time'})\n",
    "\n",
    "passed = events_3_days[events_3_days['action'] == 'passed']\\\n",
    "    .groupby(['user_id','step_id'], as_index=False)\\\n",
    "    .agg({'timestamp':'min'})[['user_id','step_id', 'timestamp']].rename(columns={'timestamp': 'pass_time'})\n",
    "\n"
   ]
  },
  {
   "cell_type": "code",
   "execution_count": 15,
   "id": "3b1a49ae",
   "metadata": {},
   "outputs": [],
   "source": [
    "sec_b_start_and_pass = pd.merge(started_attempt,passed,on=['user_id','step_id'])\n",
    "# поскольку timestamp это количество секунд нам нужно перевести, если не перевести будет большая разница между значениями колонок \n",
    "# что негативно скажется на предсказаниях модели \n",
    "sec_b_start_and_pass['time_margin'] = ((sec_b_start_and_pass['pass_time']- sec_b_start_and_pass['start_time'])/60/60)\n",
    "\n",
    "b_start_and_pass = sec_b_start_and_pass.groupby('user_id',as_index=False)\\\n",
    "    .agg({'time_margin':'mean'})[['user_id','time_margin']]\\\n",
    "    .rename(columns={'time_margin':'margin_s_p'})\n",
    "\n",
    "b_start_and_pass['margin_s_p'] = b_start_and_pass['margin_s_p'].round(2)"
   ]
  },
  {
   "cell_type": "code",
   "execution_count": 16,
   "id": "ec44b17c",
   "metadata": {},
   "outputs": [],
   "source": [
    "users_data = pd.merge(users_data, b_start_and_pass, on='user_id')"
   ]
  },
  {
   "cell_type": "code",
   "execution_count": 17,
   "id": "661bd583",
   "metadata": {},
   "outputs": [
    {
     "data": {
      "text/html": [
       "<div>\n",
       "<style scoped>\n",
       "    .dataframe tbody tr th:only-of-type {\n",
       "        vertical-align: middle;\n",
       "    }\n",
       "\n",
       "    .dataframe tbody tr th {\n",
       "        vertical-align: top;\n",
       "    }\n",
       "\n",
       "    .dataframe thead th {\n",
       "        text-align: right;\n",
       "    }\n",
       "</style>\n",
       "<table border=\"1\" class=\"dataframe\">\n",
       "  <thead>\n",
       "    <tr style=\"text-align: right;\">\n",
       "      <th></th>\n",
       "      <th>user_id</th>\n",
       "      <th>discovered</th>\n",
       "      <th>passed</th>\n",
       "      <th>started_attempt</th>\n",
       "      <th>viewed</th>\n",
       "      <th>correct_sub</th>\n",
       "      <th>wrong_sub</th>\n",
       "      <th>is_gone</th>\n",
       "      <th>margin_s_p</th>\n",
       "    </tr>\n",
       "  </thead>\n",
       "  <tbody>\n",
       "    <tr>\n",
       "      <th>0</th>\n",
       "      <td>12</td>\n",
       "      <td>11</td>\n",
       "      <td>9</td>\n",
       "      <td>4</td>\n",
       "      <td>14</td>\n",
       "      <td>1</td>\n",
       "      <td>0</td>\n",
       "      <td>1</td>\n",
       "      <td>0.01</td>\n",
       "    </tr>\n",
       "    <tr>\n",
       "      <th>1</th>\n",
       "      <td>13</td>\n",
       "      <td>70</td>\n",
       "      <td>70</td>\n",
       "      <td>35</td>\n",
       "      <td>105</td>\n",
       "      <td>29</td>\n",
       "      <td>36</td>\n",
       "      <td>1</td>\n",
       "      <td>0.72</td>\n",
       "    </tr>\n",
       "    <tr>\n",
       "      <th>2</th>\n",
       "      <td>21</td>\n",
       "      <td>74</td>\n",
       "      <td>68</td>\n",
       "      <td>70</td>\n",
       "      <td>98</td>\n",
       "      <td>24</td>\n",
       "      <td>103</td>\n",
       "      <td>1</td>\n",
       "      <td>0.03</td>\n",
       "    </tr>\n",
       "    <tr>\n",
       "      <th>3</th>\n",
       "      <td>35</td>\n",
       "      <td>34</td>\n",
       "      <td>30</td>\n",
       "      <td>11</td>\n",
       "      <td>70</td>\n",
       "      <td>7</td>\n",
       "      <td>35</td>\n",
       "      <td>1</td>\n",
       "      <td>0.13</td>\n",
       "    </tr>\n",
       "    <tr>\n",
       "      <th>4</th>\n",
       "      <td>45</td>\n",
       "      <td>9</td>\n",
       "      <td>9</td>\n",
       "      <td>2</td>\n",
       "      <td>10</td>\n",
       "      <td>2</td>\n",
       "      <td>0</td>\n",
       "      <td>1</td>\n",
       "      <td>0.02</td>\n",
       "    </tr>\n",
       "  </tbody>\n",
       "</table>\n",
       "</div>"
      ],
      "text/plain": [
       "   user_id  discovered  passed  started_attempt  viewed  correct_sub  \\\n",
       "0       12          11       9                4      14            1   \n",
       "1       13          70      70               35     105           29   \n",
       "2       21          74      68               70      98           24   \n",
       "3       35          34      30               11      70            7   \n",
       "4       45           9       9                2      10            2   \n",
       "\n",
       "   wrong_sub  is_gone  margin_s_p  \n",
       "0          0        1        0.01  \n",
       "1         36        1        0.72  \n",
       "2        103        1        0.03  \n",
       "3         35        1        0.13  \n",
       "4          0        1        0.02  "
      ]
     },
     "execution_count": 17,
     "metadata": {},
     "output_type": "execute_result"
    }
   ],
   "source": [
    "users_data.head()"
   ]
  },
  {
   "cell_type": "code",
   "execution_count": 19,
   "id": "9231d985",
   "metadata": {},
   "outputs": [
    {
     "data": {
      "text/html": [
       "<div>\n",
       "<style scoped>\n",
       "    .dataframe tbody tr th:only-of-type {\n",
       "        vertical-align: middle;\n",
       "    }\n",
       "\n",
       "    .dataframe tbody tr th {\n",
       "        vertical-align: top;\n",
       "    }\n",
       "\n",
       "    .dataframe thead th {\n",
       "        text-align: right;\n",
       "    }\n",
       "</style>\n",
       "<table border=\"1\" class=\"dataframe\">\n",
       "  <thead>\n",
       "    <tr style=\"text-align: right;\">\n",
       "      <th></th>\n",
       "      <th>user_id</th>\n",
       "      <th>passed</th>\n",
       "    </tr>\n",
       "  </thead>\n",
       "  <tbody>\n",
       "    <tr>\n",
       "      <th>0</th>\n",
       "      <td>4</td>\n",
       "      <td>1</td>\n",
       "    </tr>\n",
       "    <tr>\n",
       "      <th>1</th>\n",
       "      <td>6</td>\n",
       "      <td>1</td>\n",
       "    </tr>\n",
       "    <tr>\n",
       "      <th>2</th>\n",
       "      <td>10</td>\n",
       "      <td>2</td>\n",
       "    </tr>\n",
       "    <tr>\n",
       "      <th>3</th>\n",
       "      <td>12</td>\n",
       "      <td>9</td>\n",
       "    </tr>\n",
       "    <tr>\n",
       "      <th>4</th>\n",
       "      <td>13</td>\n",
       "      <td>70</td>\n",
       "    </tr>\n",
       "    <tr>\n",
       "      <th>...</th>\n",
       "      <td>...</td>\n",
       "      <td>...</td>\n",
       "    </tr>\n",
       "    <tr>\n",
       "      <th>5546</th>\n",
       "      <td>26785</td>\n",
       "      <td>4</td>\n",
       "    </tr>\n",
       "    <tr>\n",
       "      <th>5547</th>\n",
       "      <td>26791</td>\n",
       "      <td>1</td>\n",
       "    </tr>\n",
       "    <tr>\n",
       "      <th>5548</th>\n",
       "      <td>26795</td>\n",
       "      <td>1</td>\n",
       "    </tr>\n",
       "    <tr>\n",
       "      <th>5549</th>\n",
       "      <td>26796</td>\n",
       "      <td>4</td>\n",
       "    </tr>\n",
       "    <tr>\n",
       "      <th>5550</th>\n",
       "      <td>26799</td>\n",
       "      <td>6</td>\n",
       "    </tr>\n",
       "  </tbody>\n",
       "</table>\n",
       "<p>5551 rows × 2 columns</p>\n",
       "</div>"
      ],
      "text/plain": [
       "      user_id  passed\n",
       "0           4       1\n",
       "1           6       1\n",
       "2          10       2\n",
       "3          12       9\n",
       "4          13      70\n",
       "...       ...     ...\n",
       "5546    26785       4\n",
       "5547    26791       1\n",
       "5548    26795       1\n",
       "5549    26796       4\n",
       "5550    26799       6\n",
       "\n",
       "[5551 rows x 2 columns]"
      ]
     },
     "execution_count": 19,
     "metadata": {},
     "output_type": "execute_result"
    }
   ],
   "source": [
    "#### будем считать что пользователь успешно прошел курс если решил 100 и более степов\n",
    "\n",
    "count_passed = events_data[events_data['action'] == 'passed']\\\n",
    "    .groupby('user_id',as_index=False)\\\n",
    "    .agg({'step_id':'count'})\\\n",
    "    .rename(columns={'step_id':'passed'})\n",
    "\n",
    "count_passed['is_passed_course'] = count_passed['passed'].apply()"
   ]
  },
  {
   "cell_type": "code",
   "execution_count": null,
   "id": "50e7783f",
   "metadata": {},
   "outputs": [],
   "source": []
  }
 ],
 "metadata": {
  "kernelspec": {
   "display_name": "Python 3 (ipykernel)",
   "language": "python",
   "name": "python3"
  },
  "language_info": {
   "codemirror_mode": {
    "name": "ipython",
    "version": 3
   },
   "file_extension": ".py",
   "mimetype": "text/x-python",
   "name": "python",
   "nbconvert_exporter": "python",
   "pygments_lexer": "ipython3",
   "version": "3.9.12"
  }
 },
 "nbformat": 4,
 "nbformat_minor": 5
}
