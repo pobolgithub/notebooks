{
 "cells": [
  {
   "cell_type": "code",
   "execution_count": null,
   "id": "9be6a9e4-f091-4f9b-a1de-b0f2da7cd76d",
   "metadata": {},
   "outputs": [],
   "source": [
    "saad\n",
    "asd"
   ]
  }
 ],
 "metadata": {
  "kernelspec": {
   "display_name": "Python 3 (ipykernel)",
   "language": "python",
   "name": "python3"
  },
  "language_info": {
   "codemirror_mode": {
    "name": "ipython",
    "version": 3
   },
   "file_extension": ".py",
   "mimetype": "text/x-python",
   "name": "python",
   "nbconvert_exporter": "python",
   "pygments_lexer": "ipython3",
   "version": "3.10.6"
  }
 },
 "nbformat": 4,
 "nbformat_minor": 5
}
