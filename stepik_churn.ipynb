{
 "cells": [
  {
   "cell_type": "markdown",
   "id": "c482444d",
   "metadata": {},
   "source": [
    "## Задача: прогноз оттока пользователей с курса по анализу данных в R"
   ]
  },
  {
   "cell_type": "code",
   "execution_count": 1,
   "id": "6d8c4f39",
   "metadata": {},
   "outputs": [],
   "source": [
    "import pandas as pd\n",
    "import numpy as np\n",
    "import seaborn as sns\n",
    "import matplotlib\n",
    "import matplotlib.pyplot as plt\n",
    "\n",
    "%matplotlib inline"
   ]
  },
  {
   "cell_type": "code",
   "execution_count": 2,
   "id": "ca420a7b",
   "metadata": {},
   "outputs": [],
   "source": [
    "events_data = pd.read_csv('../datasets/event_data_train.csv')\n",
    "submission_data = pd.read_csv('../datasets/submissions_data_train.csv')\n"
   ]
  },
  {
   "cell_type": "code",
   "execution_count": 3,
   "id": "5765c013",
   "metadata": {},
   "outputs": [],
   "source": [
    "users_data = pd.pivot_table(index='user_id',\\\n",
    "                            columns='action',\\\n",
    "                            values='step_id',\\\n",
    "                            aggfunc='count',\\\n",
    "                            data=events_data,\\\n",
    "                            fill_value=0).reset_index()\n",
    "\n",
    "users_data['is_passed_course'] = 0\n",
    "\n",
    "users_data.loc[users_data['passed'] >= 40,'is_passed_course'] = 1 \n",
    "\n",
    "is_pass_course = users_data[['user_id','is_passed_course']].copy()"
   ]
  },
  {
   "cell_type": "code",
   "execution_count": 4,
   "id": "db638a8c",
   "metadata": {},
   "outputs": [],
   "source": [
    "# ### данные за 2 дня \n",
    "\n",
    "\n",
    "# #время первого действия\n",
    "# min_user_timestamp = events_data_all.groupby('user_id',as_index=False)\\\n",
    "#     .agg({'timestamp':'min'})[['user_id','timestamp']]\\\n",
    "#     .rename(columns={'timestamp':'min_timestamp'})\n",
    "\n",
    "# events_data_all = pd.merge(events_data_all,min_user_timestamp,on='user_id')\n",
    "\n",
    "# # timestamp которые не выходят дальше 3 дней с момента первого действия\n",
    "# mask = events_data_all['timestamp'] - events_data_all['min_timestamp'] <= 2 * 24 * 60 * 60\n",
    "\n",
    "# events_data = events_data_all[mask]\n",
    "\n",
    "\n",
    "# min_user_sub_timestamp = submission_data_all.groupby('user_id',as_index=False)\\\n",
    "#     .agg({'timestamp':'min'})[['user_id','timestamp']]\\\n",
    "#     .rename(columns={'timestamp':'min_timestamp'})\n",
    "\n",
    "# submission_data_all = pd.merge(submission_data_all, min_user_sub_timestamp, on='user_id')\n",
    "\n",
    "# mask = submission_data_all['timestamp'] - submission_data_all['min_timestamp'] <= 2 * 24 * 60 * 60\n",
    "\n",
    "# submission_data = submission_data_all[mask]\n"
   ]
  },
  {
   "cell_type": "markdown",
   "id": "42200c37",
   "metadata": {},
   "source": [
    "### Предобработка данных"
   ]
  },
  {
   "cell_type": "code",
   "execution_count": 5,
   "id": "b9ed6ebe",
   "metadata": {},
   "outputs": [],
   "source": [
    "events_data['date'] = pd.to_datetime(events_data['timestamp'],unit='s')\n",
    "events_data['day'] = events_data['date'].dt.date"
   ]
  },
  {
   "cell_type": "markdown",
   "id": "0d865d7b",
   "metadata": {},
   "source": [
    "#### попробуем прогнозированть отток по поведению пользователя за первые 2 дня "
   ]
  },
  {
   "cell_type": "code",
   "execution_count": 6,
   "id": "08aa9ad4",
   "metadata": {},
   "outputs": [],
   "source": [
    "# выбираем из наблюдений первые 2 дня с момента первого действия пользователя\n",
    "\n",
    "#время первого действия\n",
    "min_user_timestamp = events_data.groupby('user_id',as_index=False)\\\n",
    "    .agg({'timestamp':'min'})[['user_id','timestamp']]\\\n",
    "    .rename(columns={'timestamp':'min_timestamp'})\n",
    "\n",
    "events_data = pd.merge(events_data,min_user_timestamp,on='user_id')\n",
    "\n",
    "# timestamp которые не выходят дальше 3 дней с момента первого действия\n",
    "mask = events_data['timestamp'] - events_data['min_timestamp'] <= 2 * 24 * 60 * 60\n",
    "\n",
    "events_2days = events_data[mask]"
   ]
  },
  {
   "cell_type": "code",
   "execution_count": 7,
   "id": "2245b46e",
   "metadata": {},
   "outputs": [],
   "source": [
    "# тоже самое с submission_data\n",
    "\n",
    "min_user_sub_timestamp = submission_data.groupby('user_id',as_index=False)\\\n",
    "    .agg({'timestamp':'min'})[['user_id','timestamp']]\\\n",
    "    .rename(columns={'timestamp':'min_timestamp'})\n",
    "\n",
    "submission_data = pd.merge(submission_data, min_user_sub_timestamp, on='user_id')\n",
    "\n",
    "mask = submission_data['timestamp'] - submission_data['min_timestamp'] <= 2 * 24 * 60 * 60\n",
    "\n",
    "submission_2days = submission_data[mask]"
   ]
  },
  {
   "cell_type": "code",
   "execution_count": 50,
   "id": "8cb13aa1",
   "metadata": {},
   "outputs": [],
   "source": [
    "events_2days = pd.read_csv('https://stepik.org/media/attachments/course/4852/events_data_test.csv')\n",
    "submission_2days = pd.read_csv('https://stepik.org/media/attachments/course/4852/submission_data_test.csv')\n"
   ]
  },
  {
   "cell_type": "code",
   "execution_count": 51,
   "id": "1843ede4",
   "metadata": {},
   "outputs": [
    {
     "data": {
      "text/plain": [
       "array(['viewed', 'passed', 'discovered', 'started_attempt'], dtype=object)"
      ]
     },
     "execution_count": 51,
     "metadata": {},
     "output_type": "execute_result"
    }
   ],
   "source": [
    "pd.unique(events_data['action'])"
   ]
  },
  {
   "cell_type": "code",
   "execution_count": 52,
   "id": "bcb5abb3",
   "metadata": {},
   "outputs": [
    {
     "data": {
      "text/html": [
       "<div>\n",
       "<style scoped>\n",
       "    .dataframe tbody tr th:only-of-type {\n",
       "        vertical-align: middle;\n",
       "    }\n",
       "\n",
       "    .dataframe tbody tr th {\n",
       "        vertical-align: top;\n",
       "    }\n",
       "\n",
       "    .dataframe thead th {\n",
       "        text-align: right;\n",
       "    }\n",
       "</style>\n",
       "<table border=\"1\" class=\"dataframe\">\n",
       "  <thead>\n",
       "    <tr style=\"text-align: right;\">\n",
       "      <th>action</th>\n",
       "      <th>user_id</th>\n",
       "      <th>discovered</th>\n",
       "      <th>passed</th>\n",
       "      <th>started_attempt</th>\n",
       "      <th>viewed</th>\n",
       "    </tr>\n",
       "  </thead>\n",
       "  <tbody>\n",
       "    <tr>\n",
       "      <th>0</th>\n",
       "      <td>4</td>\n",
       "      <td>1</td>\n",
       "      <td>1</td>\n",
       "      <td>0</td>\n",
       "      <td>1</td>\n",
       "    </tr>\n",
       "    <tr>\n",
       "      <th>1</th>\n",
       "      <td>6</td>\n",
       "      <td>1</td>\n",
       "      <td>1</td>\n",
       "      <td>0</td>\n",
       "      <td>1</td>\n",
       "    </tr>\n",
       "    <tr>\n",
       "      <th>2</th>\n",
       "      <td>10</td>\n",
       "      <td>2</td>\n",
       "      <td>2</td>\n",
       "      <td>0</td>\n",
       "      <td>6</td>\n",
       "    </tr>\n",
       "    <tr>\n",
       "      <th>3</th>\n",
       "      <td>12</td>\n",
       "      <td>11</td>\n",
       "      <td>9</td>\n",
       "      <td>4</td>\n",
       "      <td>14</td>\n",
       "    </tr>\n",
       "    <tr>\n",
       "      <th>4</th>\n",
       "      <td>13</td>\n",
       "      <td>70</td>\n",
       "      <td>70</td>\n",
       "      <td>35</td>\n",
       "      <td>105</td>\n",
       "    </tr>\n",
       "  </tbody>\n",
       "</table>\n",
       "</div>"
      ],
      "text/plain": [
       "action  user_id  discovered  passed  started_attempt  viewed\n",
       "0             4           1       1                0       1\n",
       "1             6           1       1                0       1\n",
       "2            10           2       2                0       6\n",
       "3            12          11       9                4      14\n",
       "4            13          70      70               35     105"
      ]
     },
     "execution_count": 52,
     "metadata": {},
     "output_type": "execute_result"
    }
   ],
   "source": [
    "users_2days_data = pd.pivot_table(index='user_id',\\\n",
    "                            columns='action',\\\n",
    "                            values='step_id',\\\n",
    "                            aggfunc='count',\\\n",
    "                            data=events_2days,\\\n",
    "                            fill_value=0).reset_index()\n",
    "\n",
    "users_2days_data.head()"
   ]
  },
  {
   "cell_type": "code",
   "execution_count": 53,
   "id": "84699740",
   "metadata": {},
   "outputs": [],
   "source": [
    "sub_tries = submission_2days.groupby('user_id',as_index=False)\\\n",
    "    .agg({'step_id':'count'})[['user_id','step_id']]\\\n",
    "    .rename(columns={'step_id':'steps_treis'})\n",
    "\n",
    "users_2days_data = users_2days_data.merge(sub_tries, on='user_id')"
   ]
  },
  {
   "cell_type": "code",
   "execution_count": 54,
   "id": "f7767120",
   "metadata": {},
   "outputs": [
    {
     "data": {
      "text/html": [
       "<div>\n",
       "<style scoped>\n",
       "    .dataframe tbody tr th:only-of-type {\n",
       "        vertical-align: middle;\n",
       "    }\n",
       "\n",
       "    .dataframe tbody tr th {\n",
       "        vertical-align: top;\n",
       "    }\n",
       "\n",
       "    .dataframe thead th {\n",
       "        text-align: right;\n",
       "    }\n",
       "</style>\n",
       "<table border=\"1\" class=\"dataframe\">\n",
       "  <thead>\n",
       "    <tr style=\"text-align: right;\">\n",
       "      <th>submission_status</th>\n",
       "      <th>user_id</th>\n",
       "      <th>correct_sub</th>\n",
       "      <th>wrong_sub</th>\n",
       "      <th>correct_ratio</th>\n",
       "    </tr>\n",
       "  </thead>\n",
       "  <tbody>\n",
       "    <tr>\n",
       "      <th>0</th>\n",
       "      <td>12</td>\n",
       "      <td>1</td>\n",
       "      <td>0</td>\n",
       "      <td>1.000000</td>\n",
       "    </tr>\n",
       "    <tr>\n",
       "      <th>1</th>\n",
       "      <td>13</td>\n",
       "      <td>29</td>\n",
       "      <td>36</td>\n",
       "      <td>0.446154</td>\n",
       "    </tr>\n",
       "    <tr>\n",
       "      <th>2</th>\n",
       "      <td>15</td>\n",
       "      <td>10</td>\n",
       "      <td>30</td>\n",
       "      <td>0.250000</td>\n",
       "    </tr>\n",
       "    <tr>\n",
       "      <th>3</th>\n",
       "      <td>21</td>\n",
       "      <td>24</td>\n",
       "      <td>103</td>\n",
       "      <td>0.188976</td>\n",
       "    </tr>\n",
       "    <tr>\n",
       "      <th>4</th>\n",
       "      <td>35</td>\n",
       "      <td>7</td>\n",
       "      <td>35</td>\n",
       "      <td>0.166667</td>\n",
       "    </tr>\n",
       "  </tbody>\n",
       "</table>\n",
       "</div>"
      ],
      "text/plain": [
       "submission_status  user_id  correct_sub  wrong_sub  correct_ratio\n",
       "0                       12            1          0       1.000000\n",
       "1                       13           29         36       0.446154\n",
       "2                       15           10         30       0.250000\n",
       "3                       21           24        103       0.188976\n",
       "4                       35            7         35       0.166667"
      ]
     },
     "execution_count": 54,
     "metadata": {},
     "output_type": "execute_result"
    }
   ],
   "source": [
    "correct_and_wrong_sub = pd.pivot_table(index='user_id',\\\n",
    "               columns='submission_status',\\\n",
    "               values='step_id',\\\n",
    "               data=submission_2days,\\\n",
    "               aggfunc='count',\\\n",
    "               fill_value=0).reset_index().rename(columns={'correct':'correct_sub','wrong':'wrong_sub'})\n",
    "\n",
    "correct_and_wrong_sub['correct_ratio'] = correct_and_wrong_sub['correct_sub'] /(correct_and_wrong_sub['correct_sub'] + correct_and_wrong_sub['wrong_sub'])\n",
    "\n",
    "correct_and_wrong_sub.head()"
   ]
  },
  {
   "cell_type": "code",
   "execution_count": 55,
   "id": "ebdb0003",
   "metadata": {},
   "outputs": [],
   "source": [
    "users_2days_data = users_2days_data.merge(correct_and_wrong_sub, on='user_id')\n",
    "\n"
   ]
  },
  {
   "cell_type": "markdown",
   "id": "099a5cba",
   "metadata": {},
   "source": [
    "#### средний временной промежуток пользователя между началом степа и его выполнением "
   ]
  },
  {
   "cell_type": "code",
   "execution_count": 56,
   "id": "eaf432ff",
   "metadata": {},
   "outputs": [],
   "source": [
    "# сколько в среднем пользователь тратит времени на решение \n",
    "\n",
    "started_attempt = events_2days[events_2days['action'] == 'started_attempt']\\\n",
    "    .groupby(['user_id','step_id'], as_index=False)\\\n",
    "    .agg({'timestamp':'min'})[['user_id','step_id', 'timestamp']].rename(columns={'timestamp': 'start_time'})\n",
    "\n",
    "passed = events_2days[events_2days['action'] == 'passed']\\\n",
    "    .groupby(['user_id','step_id'], as_index=False)\\\n",
    "    .agg({'timestamp':'min'})[['user_id','step_id', 'timestamp']].rename(columns={'timestamp': 'pass_time'})\n",
    "\n"
   ]
  },
  {
   "cell_type": "code",
   "execution_count": 57,
   "id": "3b1a49ae",
   "metadata": {},
   "outputs": [],
   "source": [
    "sec_b_start_and_pass = pd.merge(started_attempt,passed,on=['user_id','step_id'])\n",
    "# поскольку timestamp это количество секунд нам нужно перевести, если не перевести будет большая разница между значениями колонок \n",
    "# что негативно скажется на предсказаниях модели \n",
    "\n",
    "sec_b_start_and_pass['time_margin'] = ((sec_b_start_and_pass['pass_time']- sec_b_start_and_pass['start_time'])/60/60)\n",
    "\n",
    "b_start_and_pass = sec_b_start_and_pass.groupby('user_id',as_index=False)\\\n",
    "    .agg({'time_margin':'mean'})[['user_id','time_margin']]\\\n",
    "    .rename(columns={'time_margin':'gap_s_p'})\n",
    "\n",
    "b_start_and_pass['gap_s_p'] = b_start_and_pass['gap_s_p'].round(2)"
   ]
  },
  {
   "cell_type": "code",
   "execution_count": 58,
   "id": "ec44b17c",
   "metadata": {},
   "outputs": [],
   "source": [
    "users_2days_data = pd.merge(users_2days_data, b_start_and_pass, on='user_id')"
   ]
  },
  {
   "cell_type": "code",
   "execution_count": 59,
   "id": "661bd583",
   "metadata": {},
   "outputs": [
    {
     "data": {
      "text/html": [
       "<div>\n",
       "<style scoped>\n",
       "    .dataframe tbody tr th:only-of-type {\n",
       "        vertical-align: middle;\n",
       "    }\n",
       "\n",
       "    .dataframe tbody tr th {\n",
       "        vertical-align: top;\n",
       "    }\n",
       "\n",
       "    .dataframe thead th {\n",
       "        text-align: right;\n",
       "    }\n",
       "</style>\n",
       "<table border=\"1\" class=\"dataframe\">\n",
       "  <thead>\n",
       "    <tr style=\"text-align: right;\">\n",
       "      <th></th>\n",
       "      <th>user_id</th>\n",
       "      <th>discovered</th>\n",
       "      <th>passed</th>\n",
       "      <th>started_attempt</th>\n",
       "      <th>viewed</th>\n",
       "      <th>steps_treis</th>\n",
       "      <th>correct_sub</th>\n",
       "      <th>wrong_sub</th>\n",
       "      <th>correct_ratio</th>\n",
       "      <th>gap_s_p</th>\n",
       "    </tr>\n",
       "  </thead>\n",
       "  <tbody>\n",
       "    <tr>\n",
       "      <th>0</th>\n",
       "      <td>12</td>\n",
       "      <td>11</td>\n",
       "      <td>9</td>\n",
       "      <td>4</td>\n",
       "      <td>14</td>\n",
       "      <td>1</td>\n",
       "      <td>1</td>\n",
       "      <td>0</td>\n",
       "      <td>1.000000</td>\n",
       "      <td>0.01</td>\n",
       "    </tr>\n",
       "    <tr>\n",
       "      <th>1</th>\n",
       "      <td>13</td>\n",
       "      <td>70</td>\n",
       "      <td>70</td>\n",
       "      <td>35</td>\n",
       "      <td>105</td>\n",
       "      <td>65</td>\n",
       "      <td>29</td>\n",
       "      <td>36</td>\n",
       "      <td>0.446154</td>\n",
       "      <td>0.72</td>\n",
       "    </tr>\n",
       "    <tr>\n",
       "      <th>2</th>\n",
       "      <td>21</td>\n",
       "      <td>74</td>\n",
       "      <td>68</td>\n",
       "      <td>70</td>\n",
       "      <td>98</td>\n",
       "      <td>127</td>\n",
       "      <td>24</td>\n",
       "      <td>103</td>\n",
       "      <td>0.188976</td>\n",
       "      <td>0.03</td>\n",
       "    </tr>\n",
       "    <tr>\n",
       "      <th>3</th>\n",
       "      <td>35</td>\n",
       "      <td>34</td>\n",
       "      <td>30</td>\n",
       "      <td>11</td>\n",
       "      <td>70</td>\n",
       "      <td>42</td>\n",
       "      <td>7</td>\n",
       "      <td>35</td>\n",
       "      <td>0.166667</td>\n",
       "      <td>0.13</td>\n",
       "    </tr>\n",
       "    <tr>\n",
       "      <th>4</th>\n",
       "      <td>45</td>\n",
       "      <td>9</td>\n",
       "      <td>9</td>\n",
       "      <td>2</td>\n",
       "      <td>10</td>\n",
       "      <td>2</td>\n",
       "      <td>2</td>\n",
       "      <td>0</td>\n",
       "      <td>1.000000</td>\n",
       "      <td>0.02</td>\n",
       "    </tr>\n",
       "  </tbody>\n",
       "</table>\n",
       "</div>"
      ],
      "text/plain": [
       "   user_id  discovered  passed  started_attempt  viewed  steps_treis  \\\n",
       "0       12          11       9                4      14            1   \n",
       "1       13          70      70               35     105           65   \n",
       "2       21          74      68               70      98          127   \n",
       "3       35          34      30               11      70           42   \n",
       "4       45           9       9                2      10            2   \n",
       "\n",
       "   correct_sub  wrong_sub  correct_ratio  gap_s_p  \n",
       "0            1          0       1.000000     0.01  \n",
       "1           29         36       0.446154     0.72  \n",
       "2           24        103       0.188976     0.03  \n",
       "3            7         35       0.166667     0.13  \n",
       "4            2          0       1.000000     0.02  "
      ]
     },
     "execution_count": 59,
     "metadata": {},
     "output_type": "execute_result"
    }
   ],
   "source": [
    "users_2days_data.head()"
   ]
  },
  {
   "cell_type": "code",
   "execution_count": 60,
   "id": "6227ae4b",
   "metadata": {},
   "outputs": [],
   "source": [
    "users_2days_data['viewed_ratio'] = users_2days_data['viewed']/ (users_2days_data['viewed'] +\n",
    "                                                                users_2days_data['passed'] +\n",
    "                                                                users_2days_data['discovered'] +\n",
    "                                                                users_2days_data['started_attempt'])\n",
    "\n",
    "users_2days_data['viewed_ratio'] = users_2days_data['viewed_ratio'].round(2)\n",
    "\n"
   ]
  },
  {
   "cell_type": "code",
   "execution_count": 61,
   "id": "91f9a5b3",
   "metadata": {},
   "outputs": [],
   "source": [
    "count_events = events_2days.groupby('user_id',as_index=False)\\\n",
    "    .agg({'timestamp':'count'})\\\n",
    "    .rename(columns={'timestamp':'count_events'})\n",
    "\n",
    "users_2days_data = users_2days_data.merge(count_events,on='user_id')\n"
   ]
  },
  {
   "cell_type": "code",
   "execution_count": 62,
   "id": "47025bfd",
   "metadata": {},
   "outputs": [
    {
     "data": {
      "text/html": [
       "<div>\n",
       "<style scoped>\n",
       "    .dataframe tbody tr th:only-of-type {\n",
       "        vertical-align: middle;\n",
       "    }\n",
       "\n",
       "    .dataframe tbody tr th {\n",
       "        vertical-align: top;\n",
       "    }\n",
       "\n",
       "    .dataframe thead th {\n",
       "        text-align: right;\n",
       "    }\n",
       "</style>\n",
       "<table border=\"1\" class=\"dataframe\">\n",
       "  <thead>\n",
       "    <tr style=\"text-align: right;\">\n",
       "      <th></th>\n",
       "      <th>user_id</th>\n",
       "      <th>discovered</th>\n",
       "      <th>passed</th>\n",
       "      <th>started_attempt</th>\n",
       "      <th>viewed</th>\n",
       "      <th>steps_treis</th>\n",
       "      <th>correct_sub</th>\n",
       "      <th>wrong_sub</th>\n",
       "      <th>correct_ratio</th>\n",
       "      <th>gap_s_p</th>\n",
       "      <th>viewed_ratio</th>\n",
       "      <th>count_events</th>\n",
       "    </tr>\n",
       "  </thead>\n",
       "  <tbody>\n",
       "    <tr>\n",
       "      <th>0</th>\n",
       "      <td>12</td>\n",
       "      <td>11</td>\n",
       "      <td>9</td>\n",
       "      <td>4</td>\n",
       "      <td>14</td>\n",
       "      <td>1</td>\n",
       "      <td>1</td>\n",
       "      <td>0</td>\n",
       "      <td>1.000000</td>\n",
       "      <td>0.01</td>\n",
       "      <td>0.37</td>\n",
       "      <td>38</td>\n",
       "    </tr>\n",
       "    <tr>\n",
       "      <th>1</th>\n",
       "      <td>13</td>\n",
       "      <td>70</td>\n",
       "      <td>70</td>\n",
       "      <td>35</td>\n",
       "      <td>105</td>\n",
       "      <td>65</td>\n",
       "      <td>29</td>\n",
       "      <td>36</td>\n",
       "      <td>0.446154</td>\n",
       "      <td>0.72</td>\n",
       "      <td>0.38</td>\n",
       "      <td>280</td>\n",
       "    </tr>\n",
       "    <tr>\n",
       "      <th>2</th>\n",
       "      <td>21</td>\n",
       "      <td>74</td>\n",
       "      <td>68</td>\n",
       "      <td>70</td>\n",
       "      <td>98</td>\n",
       "      <td>127</td>\n",
       "      <td>24</td>\n",
       "      <td>103</td>\n",
       "      <td>0.188976</td>\n",
       "      <td>0.03</td>\n",
       "      <td>0.32</td>\n",
       "      <td>310</td>\n",
       "    </tr>\n",
       "    <tr>\n",
       "      <th>3</th>\n",
       "      <td>35</td>\n",
       "      <td>34</td>\n",
       "      <td>30</td>\n",
       "      <td>11</td>\n",
       "      <td>70</td>\n",
       "      <td>42</td>\n",
       "      <td>7</td>\n",
       "      <td>35</td>\n",
       "      <td>0.166667</td>\n",
       "      <td>0.13</td>\n",
       "      <td>0.48</td>\n",
       "      <td>145</td>\n",
       "    </tr>\n",
       "    <tr>\n",
       "      <th>4</th>\n",
       "      <td>45</td>\n",
       "      <td>9</td>\n",
       "      <td>9</td>\n",
       "      <td>2</td>\n",
       "      <td>10</td>\n",
       "      <td>2</td>\n",
       "      <td>2</td>\n",
       "      <td>0</td>\n",
       "      <td>1.000000</td>\n",
       "      <td>0.02</td>\n",
       "      <td>0.33</td>\n",
       "      <td>30</td>\n",
       "    </tr>\n",
       "  </tbody>\n",
       "</table>\n",
       "</div>"
      ],
      "text/plain": [
       "   user_id  discovered  passed  started_attempt  viewed  steps_treis  \\\n",
       "0       12          11       9                4      14            1   \n",
       "1       13          70      70               35     105           65   \n",
       "2       21          74      68               70      98          127   \n",
       "3       35          34      30               11      70           42   \n",
       "4       45           9       9                2      10            2   \n",
       "\n",
       "   correct_sub  wrong_sub  correct_ratio  gap_s_p  viewed_ratio  count_events  \n",
       "0            1          0       1.000000     0.01          0.37            38  \n",
       "1           29         36       0.446154     0.72          0.38           280  \n",
       "2           24        103       0.188976     0.03          0.32           310  \n",
       "3            7         35       0.166667     0.13          0.48           145  \n",
       "4            2          0       1.000000     0.02          0.33            30  "
      ]
     },
     "execution_count": 62,
     "metadata": {},
     "output_type": "execute_result"
    }
   ],
   "source": [
    "users_2days_data.head()"
   ]
  },
  {
   "cell_type": "code",
   "execution_count": 63,
   "id": "85fce263",
   "metadata": {},
   "outputs": [
    {
     "data": {
      "text/plain": [
       "(2363, 12)"
      ]
     },
     "execution_count": 63,
     "metadata": {},
     "output_type": "execute_result"
    }
   ],
   "source": [
    "users_2days_data.shape"
   ]
  },
  {
   "cell_type": "code",
   "execution_count": 22,
   "id": "0a2f8b21",
   "metadata": {},
   "outputs": [
    {
     "data": {
      "text/plain": [
       "0"
      ]
     },
     "execution_count": 22,
     "metadata": {},
     "output_type": "execute_result"
    }
   ],
   "source": [
    "users_2days_data.isna().sum().sum()"
   ]
  },
  {
   "cell_type": "code",
   "execution_count": 23,
   "id": "50e7783f",
   "metadata": {},
   "outputs": [],
   "source": [
    "from sklearn.metrics import roc_auc_score\n",
    "from sklearn.model_selection import train_test_split, RandomizedSearchCV, GridSearchCV"
   ]
  },
  {
   "cell_type": "code",
   "execution_count": 64,
   "id": "7efbca7a",
   "metadata": {},
   "outputs": [],
   "source": [
    "ids = users_2days_data['user_id'].copy()"
   ]
  },
  {
   "cell_type": "code",
   "execution_count": 66,
   "id": "226a095c",
   "metadata": {},
   "outputs": [
    {
     "data": {
      "text/html": [
       "<div>\n",
       "<style scoped>\n",
       "    .dataframe tbody tr th:only-of-type {\n",
       "        vertical-align: middle;\n",
       "    }\n",
       "\n",
       "    .dataframe tbody tr th {\n",
       "        vertical-align: top;\n",
       "    }\n",
       "\n",
       "    .dataframe thead th {\n",
       "        text-align: right;\n",
       "    }\n",
       "</style>\n",
       "<table border=\"1\" class=\"dataframe\">\n",
       "  <thead>\n",
       "    <tr style=\"text-align: right;\">\n",
       "      <th></th>\n",
       "      <th>discovered</th>\n",
       "      <th>passed</th>\n",
       "      <th>started_attempt</th>\n",
       "      <th>viewed</th>\n",
       "      <th>steps_treis</th>\n",
       "      <th>correct_sub</th>\n",
       "      <th>wrong_sub</th>\n",
       "      <th>correct_ratio</th>\n",
       "      <th>gap_s_p</th>\n",
       "      <th>viewed_ratio</th>\n",
       "      <th>count_events</th>\n",
       "    </tr>\n",
       "  </thead>\n",
       "  <tbody>\n",
       "    <tr>\n",
       "      <th>0</th>\n",
       "      <td>11</td>\n",
       "      <td>9</td>\n",
       "      <td>4</td>\n",
       "      <td>14</td>\n",
       "      <td>1</td>\n",
       "      <td>1</td>\n",
       "      <td>0</td>\n",
       "      <td>1.000000</td>\n",
       "      <td>0.01</td>\n",
       "      <td>0.37</td>\n",
       "      <td>38</td>\n",
       "    </tr>\n",
       "    <tr>\n",
       "      <th>1</th>\n",
       "      <td>70</td>\n",
       "      <td>70</td>\n",
       "      <td>35</td>\n",
       "      <td>105</td>\n",
       "      <td>65</td>\n",
       "      <td>29</td>\n",
       "      <td>36</td>\n",
       "      <td>0.446154</td>\n",
       "      <td>0.72</td>\n",
       "      <td>0.38</td>\n",
       "      <td>280</td>\n",
       "    </tr>\n",
       "    <tr>\n",
       "      <th>2</th>\n",
       "      <td>74</td>\n",
       "      <td>68</td>\n",
       "      <td>70</td>\n",
       "      <td>98</td>\n",
       "      <td>127</td>\n",
       "      <td>24</td>\n",
       "      <td>103</td>\n",
       "      <td>0.188976</td>\n",
       "      <td>0.03</td>\n",
       "      <td>0.32</td>\n",
       "      <td>310</td>\n",
       "    </tr>\n",
       "    <tr>\n",
       "      <th>3</th>\n",
       "      <td>34</td>\n",
       "      <td>30</td>\n",
       "      <td>11</td>\n",
       "      <td>70</td>\n",
       "      <td>42</td>\n",
       "      <td>7</td>\n",
       "      <td>35</td>\n",
       "      <td>0.166667</td>\n",
       "      <td>0.13</td>\n",
       "      <td>0.48</td>\n",
       "      <td>145</td>\n",
       "    </tr>\n",
       "    <tr>\n",
       "      <th>4</th>\n",
       "      <td>9</td>\n",
       "      <td>9</td>\n",
       "      <td>2</td>\n",
       "      <td>10</td>\n",
       "      <td>2</td>\n",
       "      <td>2</td>\n",
       "      <td>0</td>\n",
       "      <td>1.000000</td>\n",
       "      <td>0.02</td>\n",
       "      <td>0.33</td>\n",
       "      <td>30</td>\n",
       "    </tr>\n",
       "  </tbody>\n",
       "</table>\n",
       "</div>"
      ],
      "text/plain": [
       "   discovered  passed  started_attempt  viewed  steps_treis  correct_sub  \\\n",
       "0          11       9                4      14            1            1   \n",
       "1          70      70               35     105           65           29   \n",
       "2          74      68               70      98          127           24   \n",
       "3          34      30               11      70           42            7   \n",
       "4           9       9                2      10            2            2   \n",
       "\n",
       "   wrong_sub  correct_ratio  gap_s_p  viewed_ratio  count_events  \n",
       "0          0       1.000000     0.01          0.37            38  \n",
       "1         36       0.446154     0.72          0.38           280  \n",
       "2        103       0.188976     0.03          0.32           310  \n",
       "3         35       0.166667     0.13          0.48           145  \n",
       "4          0       1.000000     0.02          0.33            30  "
      ]
     },
     "execution_count": 66,
     "metadata": {},
     "output_type": "execute_result"
    }
   ],
   "source": [
    "\n",
    "X = users_2days_data.drop(['user_id'],axis=1)\n",
    "#y = users_2days_data['is_passed_course']\n",
    "\n",
    "\n",
    "\n",
    "X.head()"
   ]
  },
  {
   "cell_type": "code",
   "execution_count": 41,
   "id": "316357b7",
   "metadata": {},
   "outputs": [],
   "source": [
    "X_train, X_valid, y_train, y_valid = train_test_split(X,y, test_size=0.3, random_state=17)"
   ]
  },
  {
   "cell_type": "code",
   "execution_count": 27,
   "id": "6594d842",
   "metadata": {},
   "outputs": [],
   "source": [
    "import xgboost as xgb\n",
    "\n",
    "#best_params\n",
    "# params = {\n",
    "#     'n_estimators': 400,\n",
    "#     'max_depth': 3,\n",
    "#     'max_delta_step': 7,\n",
    "#     'eta': 0.3}\n",
    "\n",
    "clf = xgb.XGBClassifier(objective='binary:logistic', eval_metric='auc')\n",
    "\n",
    "params = {'max_delta_step':[3,4,5,6,7],\n",
    "          'n_estimators':[250,200,150,180],\n",
    "          'eta':[0.1,0.2,0.3,0.4],\n",
    "          'max_depth':[3,4,5,6]\n",
    "}\n",
    "\n",
    "rand_clf = RandomizedSearchCV(clf,params,n_jobs=-1,cv=7)"
   ]
  },
  {
   "cell_type": "code",
   "execution_count": 28,
   "id": "c1a863ee",
   "metadata": {},
   "outputs": [
    {
     "data": {
      "text/plain": [
       "RandomizedSearchCV(cv=7,\n",
       "                   estimator=XGBClassifier(base_score=None, booster=None,\n",
       "                                           callbacks=None,\n",
       "                                           colsample_bylevel=None,\n",
       "                                           colsample_bynode=None,\n",
       "                                           colsample_bytree=None,\n",
       "                                           early_stopping_rounds=None,\n",
       "                                           enable_categorical=False,\n",
       "                                           eval_metric='auc', gamma=None,\n",
       "                                           gpu_id=None, grow_policy=None,\n",
       "                                           importance_type=None,\n",
       "                                           interaction_constraints=None,\n",
       "                                           learning_rate=None, max_bin=None...\n",
       "                                           max_delta_step=None, max_depth=None,\n",
       "                                           max_leaves=None,\n",
       "                                           min_child_weight=None, missing=nan,\n",
       "                                           monotone_constraints=None,\n",
       "                                           n_estimators=100, n_jobs=None,\n",
       "                                           num_parallel_tree=None,\n",
       "                                           predictor=None, random_state=None,\n",
       "                                           reg_alpha=None, reg_lambda=None, ...),\n",
       "                   n_jobs=-1,\n",
       "                   param_distributions={'eta': [0.1, 0.2, 0.3, 0.4],\n",
       "                                        'max_delta_step': [3, 4, 5, 6, 7],\n",
       "                                        'max_depth': [3, 4, 5, 6],\n",
       "                                        'n_estimators': [250, 200, 150, 180]})"
      ]
     },
     "execution_count": 28,
     "metadata": {},
     "output_type": "execute_result"
    }
   ],
   "source": [
    "\n",
    "rand_clf.fit(X,y)\n"
   ]
  },
  {
   "cell_type": "code",
   "execution_count": 29,
   "id": "5233c7dc",
   "metadata": {},
   "outputs": [
    {
     "data": {
      "text/plain": [
       "{'n_estimators': 150, 'max_depth': 3, 'max_delta_step': 4, 'eta': 0.2}"
      ]
     },
     "execution_count": 29,
     "metadata": {},
     "output_type": "execute_result"
    }
   ],
   "source": [
    "rand_clf.best_params_"
   ]
  },
  {
   "cell_type": "code",
   "execution_count": 68,
   "id": "6a5fc55c",
   "metadata": {},
   "outputs": [],
   "source": [
    "best_clf = rand_clf.best_estimator_\n",
    "\n",
    "pred = best_clf.predict_proba(X)\n",
    "\n",
    "#roc_auc_score(y,pred)"
   ]
  },
  {
   "cell_type": "code",
   "execution_count": 70,
   "id": "f4c89664",
   "metadata": {},
   "outputs": [
    {
     "data": {
      "text/html": [
       "<div>\n",
       "<style scoped>\n",
       "    .dataframe tbody tr th:only-of-type {\n",
       "        vertical-align: middle;\n",
       "    }\n",
       "\n",
       "    .dataframe tbody tr th {\n",
       "        vertical-align: top;\n",
       "    }\n",
       "\n",
       "    .dataframe thead th {\n",
       "        text-align: right;\n",
       "    }\n",
       "</style>\n",
       "<table border=\"1\" class=\"dataframe\">\n",
       "  <thead>\n",
       "    <tr style=\"text-align: right;\">\n",
       "      <th></th>\n",
       "      <th>user_id</th>\n",
       "      <th>is_gone</th>\n",
       "    </tr>\n",
       "  </thead>\n",
       "  <tbody>\n",
       "    <tr>\n",
       "      <th>0</th>\n",
       "      <td>12</td>\n",
       "      <td>0.767628</td>\n",
       "    </tr>\n",
       "    <tr>\n",
       "      <th>1</th>\n",
       "      <td>13</td>\n",
       "      <td>0.000139</td>\n",
       "    </tr>\n",
       "    <tr>\n",
       "      <th>2</th>\n",
       "      <td>21</td>\n",
       "      <td>0.000582</td>\n",
       "    </tr>\n",
       "    <tr>\n",
       "      <th>3</th>\n",
       "      <td>35</td>\n",
       "      <td>0.722397</td>\n",
       "    </tr>\n",
       "    <tr>\n",
       "      <th>4</th>\n",
       "      <td>45</td>\n",
       "      <td>0.756314</td>\n",
       "    </tr>\n",
       "    <tr>\n",
       "      <th>...</th>\n",
       "      <td>...</td>\n",
       "      <td>...</td>\n",
       "    </tr>\n",
       "    <tr>\n",
       "      <th>2358</th>\n",
       "      <td>26758</td>\n",
       "      <td>0.662505</td>\n",
       "    </tr>\n",
       "    <tr>\n",
       "      <th>2359</th>\n",
       "      <td>26770</td>\n",
       "      <td>0.744246</td>\n",
       "    </tr>\n",
       "    <tr>\n",
       "      <th>2360</th>\n",
       "      <td>26775</td>\n",
       "      <td>0.000198</td>\n",
       "    </tr>\n",
       "    <tr>\n",
       "      <th>2361</th>\n",
       "      <td>26780</td>\n",
       "      <td>0.001308</td>\n",
       "    </tr>\n",
       "    <tr>\n",
       "      <th>2362</th>\n",
       "      <td>26799</td>\n",
       "      <td>0.868979</td>\n",
       "    </tr>\n",
       "  </tbody>\n",
       "</table>\n",
       "<p>2363 rows × 2 columns</p>\n",
       "</div>"
      ],
      "text/plain": [
       "      user_id   is_gone\n",
       "0          12  0.767628\n",
       "1          13  0.000139\n",
       "2          21  0.000582\n",
       "3          35  0.722397\n",
       "4          45  0.756314\n",
       "...       ...       ...\n",
       "2358    26758  0.662505\n",
       "2359    26770  0.744246\n",
       "2360    26775  0.000198\n",
       "2361    26780  0.001308\n",
       "2362    26799  0.868979\n",
       "\n",
       "[2363 rows x 2 columns]"
      ]
     },
     "execution_count": 70,
     "metadata": {},
     "output_type": "execute_result"
    }
   ],
   "source": [
    "submit = pd.DataFrame(columns=['user_id','is_gone'])\n",
    "\n",
    "submit['user_id'] = ids\n",
    "submit['is_gone'] = pred[:,0]\n",
    "\n",
    "submit.to_csv('sub7.csv')\n",
    "submit"
   ]
  },
  {
   "cell_type": "code",
   "execution_count": 72,
   "id": "85247cbd",
   "metadata": {},
   "outputs": [
    {
     "data": {
      "text/html": [
       "<div>\n",
       "<style scoped>\n",
       "    .dataframe tbody tr th:only-of-type {\n",
       "        vertical-align: middle;\n",
       "    }\n",
       "\n",
       "    .dataframe tbody tr th {\n",
       "        vertical-align: top;\n",
       "    }\n",
       "\n",
       "    .dataframe thead th {\n",
       "        text-align: right;\n",
       "    }\n",
       "</style>\n",
       "<table border=\"1\" class=\"dataframe\">\n",
       "  <thead>\n",
       "    <tr style=\"text-align: right;\">\n",
       "      <th></th>\n",
       "      <th>user_id</th>\n",
       "      <th>is_gone</th>\n",
       "    </tr>\n",
       "  </thead>\n",
       "  <tbody>\n",
       "    <tr>\n",
       "      <th>0</th>\n",
       "      <td>12</td>\n",
       "      <td>0.26</td>\n",
       "    </tr>\n",
       "    <tr>\n",
       "      <th>1</th>\n",
       "      <td>13</td>\n",
       "      <td>0.79</td>\n",
       "    </tr>\n",
       "    <tr>\n",
       "      <th>2</th>\n",
       "      <td>15</td>\n",
       "      <td>0.12</td>\n",
       "    </tr>\n",
       "    <tr>\n",
       "      <th>3</th>\n",
       "      <td>21</td>\n",
       "      <td>0.67</td>\n",
       "    </tr>\n",
       "    <tr>\n",
       "      <th>4</th>\n",
       "      <td>35</td>\n",
       "      <td>0.62</td>\n",
       "    </tr>\n",
       "    <tr>\n",
       "      <th>...</th>\n",
       "      <td>...</td>\n",
       "      <td>...</td>\n",
       "    </tr>\n",
       "    <tr>\n",
       "      <th>6179</th>\n",
       "      <td>7315</td>\n",
       "      <td>0.72</td>\n",
       "    </tr>\n",
       "    <tr>\n",
       "      <th>6180</th>\n",
       "      <td>24300</td>\n",
       "      <td>0.35</td>\n",
       "    </tr>\n",
       "    <tr>\n",
       "      <th>6181</th>\n",
       "      <td>820</td>\n",
       "      <td>0.88</td>\n",
       "    </tr>\n",
       "    <tr>\n",
       "      <th>6182</th>\n",
       "      <td>3649</td>\n",
       "      <td>0.38</td>\n",
       "    </tr>\n",
       "    <tr>\n",
       "      <th>6183</th>\n",
       "      <td>20953</td>\n",
       "      <td>0.85</td>\n",
       "    </tr>\n",
       "  </tbody>\n",
       "</table>\n",
       "<p>6184 rows × 2 columns</p>\n",
       "</div>"
      ],
      "text/plain": [
       "      user_id  is_gone\n",
       "0          12     0.26\n",
       "1          13     0.79\n",
       "2          15     0.12\n",
       "3          21     0.67\n",
       "4          35     0.62\n",
       "...       ...      ...\n",
       "6179     7315     0.72\n",
       "6180    24300     0.35\n",
       "6181      820     0.88\n",
       "6182     3649     0.38\n",
       "6183    20953     0.85\n",
       "\n",
       "[6184 rows x 2 columns]"
      ]
     },
     "execution_count": 72,
     "metadata": {},
     "output_type": "execute_result"
    }
   ],
   "source": [
    "pd.read_csv('../Downloads/submission_example.csv')"
   ]
  },
  {
   "cell_type": "code",
   "execution_count": 50,
   "id": "e81ad6a9",
   "metadata": {},
   "outputs": [],
   "source": [
    "from sklearn.ensemble import RandomForestClassifier\n",
    "\n",
    "\n",
    "clf_forest = RandomForestClassifier(n_estimators=300, n_jobs=-1, \n",
    "                            min_samples_leaf=10, min_samples_split=10, \n",
    "                            class_weight='balanced')\n"
   ]
  },
  {
   "cell_type": "code",
   "execution_count": 51,
   "id": "b7823cb5",
   "metadata": {},
   "outputs": [
    {
     "data": {
      "text/plain": [
       "RandomForestClassifier(class_weight='balanced', min_samples_leaf=10,\n",
       "                       min_samples_split=10, n_estimators=300, n_jobs=-1)"
      ]
     },
     "execution_count": 51,
     "metadata": {},
     "output_type": "execute_result"
    }
   ],
   "source": [
    "clf_forest.fit(X_train,y_train)"
   ]
  },
  {
   "cell_type": "code",
   "execution_count": 52,
   "id": "aa3ed73e",
   "metadata": {},
   "outputs": [
    {
     "data": {
      "text/plain": [
       "0.7176002665395624"
      ]
     },
     "execution_count": 52,
     "metadata": {},
     "output_type": "execute_result"
    }
   ],
   "source": [
    "pred_forest= clf_forest.predict(X_valid)\n",
    "\n",
    "roc_auc_score(y_valid,pred_forest)"
   ]
  },
  {
   "cell_type": "code",
   "execution_count": 47,
   "id": "ed6c1574",
   "metadata": {},
   "outputs": [],
   "source": [
    "RandomForestClassifier"
   ]
  }
 ],
 "metadata": {
  "kernelspec": {
   "display_name": "Python 3 (ipykernel)",
   "language": "python",
   "name": "python3"
  },
  "language_info": {
   "codemirror_mode": {
    "name": "ipython",
    "version": 3
   },
   "file_extension": ".py",
   "mimetype": "text/x-python",
   "name": "python",
   "nbconvert_exporter": "python",
   "pygments_lexer": "ipython3",
   "version": "3.10.8"
  }
 },
 "nbformat": 4,
 "nbformat_minor": 5
}
